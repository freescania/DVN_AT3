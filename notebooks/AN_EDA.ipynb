{
 "cells": [
  {
   "cell_type": "code",
   "execution_count": 1,
   "metadata": {},
   "outputs": [],
   "source": [
    "### Import Packages\n",
    "\n",
    "import pandas as pd\n",
    "import numpy as np\n",
    "import matplotlib.pyplot as plt\n",
    "import seaborn as sns\n",
    "\n",
    "%matplotlib inline"
   ]
  },
  {
   "cell_type": "code",
   "execution_count": 2,
   "metadata": {},
   "outputs": [],
   "source": [
    "### Data path\n",
    "path=\"C:\\\\Users\\\\Angus\\\\Documents\\\\UTS MDSI\\\\DVN\\\\Projects\\\\DVN_AT3\\\\data\\\\raw\\\\\""
   ]
  },
  {
   "cell_type": "code",
   "execution_count": 3,
   "metadata": {},
   "outputs": [],
   "source": [
    "# join 1 and 2 then merge\n",
    "df1 = pd.read_csv(path+\"winequality-red.csv\")\n",
    "df2 = pd.read_csv(path+\"winemag-data-130k-v2.csv\")\n",
    "df3 = pd.read_csv(path+\"winemag-data_first150k.csv\")"
   ]
  },
  {
   "cell_type": "code",
   "execution_count": 4,
   "metadata": {},
   "outputs": [],
   "source": [
    "# clean reviews\n",
    "key_features = ['country', 'description', 'designation', 'points',\n",
    "       'price', 'province', 'region_1', 'region_2', 'variety', 'winery']\n",
    "\n",
    "df2_clean = df2[key_features]\n",
    "df3_clean = df3[key_features]\n",
    "\n",
    "df_rev = df2_clean.append(df3_clean)\n",
    "top_wine_df = df_rev[df_rev['points'] >= 95]"
   ]
  },
  {
   "cell_type": "code",
   "execution_count": 44,
   "metadata": {},
   "outputs": [
    {
     "name": "stdout",
     "output_type": "stream",
     "text": [
      "<class 'pandas.core.frame.DataFrame'>\n",
      "Int64Index: 5397 entries, 345 to 150762\n",
      "Data columns (total 10 columns):\n",
      " #   Column       Non-Null Count  Dtype  \n",
      "---  ------       --------------  -----  \n",
      " 0   country      5397 non-null   object \n",
      " 1   description  5397 non-null   object \n",
      " 2   designation  4405 non-null   object \n",
      " 3   points       5397 non-null   int64  \n",
      " 4   price        4725 non-null   float64\n",
      " 5   province     5397 non-null   object \n",
      " 6   region_1     4926 non-null   object \n",
      " 7   region_2     2288 non-null   object \n",
      " 8   variety      5397 non-null   object \n",
      " 9   winery       5397 non-null   object \n",
      "dtypes: float64(1), int64(1), object(8)\n",
      "memory usage: 463.8+ KB\n"
     ]
    }
   ],
   "source": [
    "top_wine_df.info()"
   ]
  },
  {
   "cell_type": "code",
   "execution_count": 22,
   "metadata": {},
   "outputs": [
    {
     "name": "stdout",
     "output_type": "stream",
     "text": [
      "<class 'pandas.core.frame.DataFrame'>\n",
      "Int64Index: 280901 entries, 0 to 150929\n",
      "Data columns (total 10 columns):\n",
      " #   Column       Non-Null Count   Dtype  \n",
      "---  ------       --------------   -----  \n",
      " 0   country      280833 non-null  object \n",
      " 1   description  280901 non-null  object \n",
      " 2   designation  197701 non-null  object \n",
      " 3   points       280901 non-null  int64  \n",
      " 4   price        258210 non-null  float64\n",
      " 5   province     280833 non-null  object \n",
      " 6   region_1     234594 non-null  object \n",
      " 7   region_2     111464 non-null  object \n",
      " 8   variety      280900 non-null  object \n",
      " 9   winery       280901 non-null  object \n",
      "dtypes: float64(1), int64(1), object(8)\n",
      "memory usage: 23.6+ MB\n"
     ]
    }
   ],
   "source": [
    "df_rev.info()"
   ]
  },
  {
   "cell_type": "code",
   "execution_count": 11,
   "metadata": {},
   "outputs": [
    {
     "name": "stdout",
     "output_type": "stream",
     "text": [
      "<class 'pandas.core.frame.DataFrame'>\n",
      "RangeIndex: 1599 entries, 0 to 1598\n",
      "Data columns (total 12 columns):\n",
      " #   Column                Non-Null Count  Dtype  \n",
      "---  ------                --------------  -----  \n",
      " 0   fixed acidity         1599 non-null   float64\n",
      " 1   volatile acidity      1599 non-null   float64\n",
      " 2   citric acid           1599 non-null   float64\n",
      " 3   residual sugar        1599 non-null   float64\n",
      " 4   chlorides             1599 non-null   float64\n",
      " 5   free sulfur dioxide   1599 non-null   float64\n",
      " 6   total sulfur dioxide  1599 non-null   float64\n",
      " 7   density               1599 non-null   float64\n",
      " 8   pH                    1599 non-null   float64\n",
      " 9   sulphates             1599 non-null   float64\n",
      " 10  alcohol               1599 non-null   float64\n",
      " 11  quality               1599 non-null   int64  \n",
      "dtypes: float64(11), int64(1)\n",
      "memory usage: 150.0 KB\n",
      "None\n"
     ]
    },
    {
     "data": {
      "text/html": [
       "<div>\n",
       "<style scoped>\n",
       "    .dataframe tbody tr th:only-of-type {\n",
       "        vertical-align: middle;\n",
       "    }\n",
       "\n",
       "    .dataframe tbody tr th {\n",
       "        vertical-align: top;\n",
       "    }\n",
       "\n",
       "    .dataframe thead th {\n",
       "        text-align: right;\n",
       "    }\n",
       "</style>\n",
       "<table border=\"1\" class=\"dataframe\">\n",
       "  <thead>\n",
       "    <tr style=\"text-align: right;\">\n",
       "      <th></th>\n",
       "      <th>fixed acidity</th>\n",
       "      <th>volatile acidity</th>\n",
       "      <th>citric acid</th>\n",
       "      <th>residual sugar</th>\n",
       "      <th>chlorides</th>\n",
       "      <th>free sulfur dioxide</th>\n",
       "      <th>total sulfur dioxide</th>\n",
       "      <th>density</th>\n",
       "      <th>pH</th>\n",
       "      <th>sulphates</th>\n",
       "      <th>alcohol</th>\n",
       "      <th>quality</th>\n",
       "    </tr>\n",
       "  </thead>\n",
       "  <tbody>\n",
       "    <tr>\n",
       "      <th>count</th>\n",
       "      <td>1599.000000</td>\n",
       "      <td>1599.000000</td>\n",
       "      <td>1599.000000</td>\n",
       "      <td>1599.000000</td>\n",
       "      <td>1599.000000</td>\n",
       "      <td>1599.000000</td>\n",
       "      <td>1599.000000</td>\n",
       "      <td>1599.000000</td>\n",
       "      <td>1599.000000</td>\n",
       "      <td>1599.000000</td>\n",
       "      <td>1599.000000</td>\n",
       "      <td>1599.000000</td>\n",
       "    </tr>\n",
       "    <tr>\n",
       "      <th>mean</th>\n",
       "      <td>8.319637</td>\n",
       "      <td>0.527821</td>\n",
       "      <td>0.270976</td>\n",
       "      <td>2.538806</td>\n",
       "      <td>0.087467</td>\n",
       "      <td>15.874922</td>\n",
       "      <td>46.467792</td>\n",
       "      <td>0.996747</td>\n",
       "      <td>3.311113</td>\n",
       "      <td>0.658149</td>\n",
       "      <td>10.422983</td>\n",
       "      <td>5.636023</td>\n",
       "    </tr>\n",
       "    <tr>\n",
       "      <th>std</th>\n",
       "      <td>1.741096</td>\n",
       "      <td>0.179060</td>\n",
       "      <td>0.194801</td>\n",
       "      <td>1.409928</td>\n",
       "      <td>0.047065</td>\n",
       "      <td>10.460157</td>\n",
       "      <td>32.895324</td>\n",
       "      <td>0.001887</td>\n",
       "      <td>0.154386</td>\n",
       "      <td>0.169507</td>\n",
       "      <td>1.065668</td>\n",
       "      <td>0.807569</td>\n",
       "    </tr>\n",
       "    <tr>\n",
       "      <th>min</th>\n",
       "      <td>4.600000</td>\n",
       "      <td>0.120000</td>\n",
       "      <td>0.000000</td>\n",
       "      <td>0.900000</td>\n",
       "      <td>0.012000</td>\n",
       "      <td>1.000000</td>\n",
       "      <td>6.000000</td>\n",
       "      <td>0.990070</td>\n",
       "      <td>2.740000</td>\n",
       "      <td>0.330000</td>\n",
       "      <td>8.400000</td>\n",
       "      <td>3.000000</td>\n",
       "    </tr>\n",
       "    <tr>\n",
       "      <th>25%</th>\n",
       "      <td>7.100000</td>\n",
       "      <td>0.390000</td>\n",
       "      <td>0.090000</td>\n",
       "      <td>1.900000</td>\n",
       "      <td>0.070000</td>\n",
       "      <td>7.000000</td>\n",
       "      <td>22.000000</td>\n",
       "      <td>0.995600</td>\n",
       "      <td>3.210000</td>\n",
       "      <td>0.550000</td>\n",
       "      <td>9.500000</td>\n",
       "      <td>5.000000</td>\n",
       "    </tr>\n",
       "    <tr>\n",
       "      <th>50%</th>\n",
       "      <td>7.900000</td>\n",
       "      <td>0.520000</td>\n",
       "      <td>0.260000</td>\n",
       "      <td>2.200000</td>\n",
       "      <td>0.079000</td>\n",
       "      <td>14.000000</td>\n",
       "      <td>38.000000</td>\n",
       "      <td>0.996750</td>\n",
       "      <td>3.310000</td>\n",
       "      <td>0.620000</td>\n",
       "      <td>10.200000</td>\n",
       "      <td>6.000000</td>\n",
       "    </tr>\n",
       "    <tr>\n",
       "      <th>75%</th>\n",
       "      <td>9.200000</td>\n",
       "      <td>0.640000</td>\n",
       "      <td>0.420000</td>\n",
       "      <td>2.600000</td>\n",
       "      <td>0.090000</td>\n",
       "      <td>21.000000</td>\n",
       "      <td>62.000000</td>\n",
       "      <td>0.997835</td>\n",
       "      <td>3.400000</td>\n",
       "      <td>0.730000</td>\n",
       "      <td>11.100000</td>\n",
       "      <td>6.000000</td>\n",
       "    </tr>\n",
       "    <tr>\n",
       "      <th>max</th>\n",
       "      <td>15.900000</td>\n",
       "      <td>1.580000</td>\n",
       "      <td>1.000000</td>\n",
       "      <td>15.500000</td>\n",
       "      <td>0.611000</td>\n",
       "      <td>72.000000</td>\n",
       "      <td>289.000000</td>\n",
       "      <td>1.003690</td>\n",
       "      <td>4.010000</td>\n",
       "      <td>2.000000</td>\n",
       "      <td>14.900000</td>\n",
       "      <td>8.000000</td>\n",
       "    </tr>\n",
       "  </tbody>\n",
       "</table>\n",
       "</div>"
      ],
      "text/plain": [
       "       fixed acidity  volatile acidity  citric acid  residual sugar  \\\n",
       "count    1599.000000       1599.000000  1599.000000     1599.000000   \n",
       "mean        8.319637          0.527821     0.270976        2.538806   \n",
       "std         1.741096          0.179060     0.194801        1.409928   \n",
       "min         4.600000          0.120000     0.000000        0.900000   \n",
       "25%         7.100000          0.390000     0.090000        1.900000   \n",
       "50%         7.900000          0.520000     0.260000        2.200000   \n",
       "75%         9.200000          0.640000     0.420000        2.600000   \n",
       "max        15.900000          1.580000     1.000000       15.500000   \n",
       "\n",
       "         chlorides  free sulfur dioxide  total sulfur dioxide      density  \\\n",
       "count  1599.000000          1599.000000           1599.000000  1599.000000   \n",
       "mean      0.087467            15.874922             46.467792     0.996747   \n",
       "std       0.047065            10.460157             32.895324     0.001887   \n",
       "min       0.012000             1.000000              6.000000     0.990070   \n",
       "25%       0.070000             7.000000             22.000000     0.995600   \n",
       "50%       0.079000            14.000000             38.000000     0.996750   \n",
       "75%       0.090000            21.000000             62.000000     0.997835   \n",
       "max       0.611000            72.000000            289.000000     1.003690   \n",
       "\n",
       "                pH    sulphates      alcohol      quality  \n",
       "count  1599.000000  1599.000000  1599.000000  1599.000000  \n",
       "mean      3.311113     0.658149    10.422983     5.636023  \n",
       "std       0.154386     0.169507     1.065668     0.807569  \n",
       "min       2.740000     0.330000     8.400000     3.000000  \n",
       "25%       3.210000     0.550000     9.500000     5.000000  \n",
       "50%       3.310000     0.620000    10.200000     6.000000  \n",
       "75%       3.400000     0.730000    11.100000     6.000000  \n",
       "max       4.010000     2.000000    14.900000     8.000000  "
      ]
     },
     "execution_count": 11,
     "metadata": {},
     "output_type": "execute_result"
    }
   ],
   "source": [
    "print(df1.info())\n",
    "df1.describe()"
   ]
  },
  {
   "cell_type": "code",
   "execution_count": 10,
   "metadata": {},
   "outputs": [
    {
     "name": "stdout",
     "output_type": "stream",
     "text": [
      "<class 'pandas.core.frame.DataFrame'>\n",
      "RangeIndex: 129971 entries, 0 to 129970\n",
      "Data columns (total 14 columns):\n",
      " #   Column                 Non-Null Count   Dtype  \n",
      "---  ------                 --------------   -----  \n",
      " 0   Unnamed: 0             129971 non-null  int64  \n",
      " 1   country                129908 non-null  object \n",
      " 2   description            129971 non-null  object \n",
      " 3   designation            92506 non-null   object \n",
      " 4   points                 129971 non-null  int64  \n",
      " 5   price                  120975 non-null  float64\n",
      " 6   province               129908 non-null  object \n",
      " 7   region_1               108724 non-null  object \n",
      " 8   region_2               50511 non-null   object \n",
      " 9   taster_name            103727 non-null  object \n",
      " 10  taster_twitter_handle  98758 non-null   object \n",
      " 11  title                  129971 non-null  object \n",
      " 12  variety                129970 non-null  object \n",
      " 13  winery                 129971 non-null  object \n",
      "dtypes: float64(1), int64(2), object(11)\n",
      "memory usage: 13.9+ MB\n",
      "None\n"
     ]
    },
    {
     "data": {
      "text/html": [
       "<div>\n",
       "<style scoped>\n",
       "    .dataframe tbody tr th:only-of-type {\n",
       "        vertical-align: middle;\n",
       "    }\n",
       "\n",
       "    .dataframe tbody tr th {\n",
       "        vertical-align: top;\n",
       "    }\n",
       "\n",
       "    .dataframe thead th {\n",
       "        text-align: right;\n",
       "    }\n",
       "</style>\n",
       "<table border=\"1\" class=\"dataframe\">\n",
       "  <thead>\n",
       "    <tr style=\"text-align: right;\">\n",
       "      <th></th>\n",
       "      <th>Unnamed: 0</th>\n",
       "      <th>country</th>\n",
       "      <th>description</th>\n",
       "      <th>designation</th>\n",
       "      <th>points</th>\n",
       "      <th>price</th>\n",
       "      <th>province</th>\n",
       "      <th>region_1</th>\n",
       "      <th>region_2</th>\n",
       "      <th>taster_name</th>\n",
       "      <th>taster_twitter_handle</th>\n",
       "      <th>title</th>\n",
       "      <th>variety</th>\n",
       "      <th>winery</th>\n",
       "    </tr>\n",
       "  </thead>\n",
       "  <tbody>\n",
       "    <tr>\n",
       "      <th>129966</th>\n",
       "      <td>129966</td>\n",
       "      <td>Germany</td>\n",
       "      <td>Notes of honeysuckle and cantaloupe sweeten th...</td>\n",
       "      <td>Brauneberger Juffer-Sonnenuhr Spätlese</td>\n",
       "      <td>90</td>\n",
       "      <td>28.0</td>\n",
       "      <td>Mosel</td>\n",
       "      <td>NaN</td>\n",
       "      <td>NaN</td>\n",
       "      <td>Anna Lee C. Iijima</td>\n",
       "      <td>NaN</td>\n",
       "      <td>Dr. H. Thanisch (Erben Müller-Burggraef) 2013 ...</td>\n",
       "      <td>Riesling</td>\n",
       "      <td>Dr. H. Thanisch (Erben Müller-Burggraef)</td>\n",
       "    </tr>\n",
       "    <tr>\n",
       "      <th>129967</th>\n",
       "      <td>129967</td>\n",
       "      <td>US</td>\n",
       "      <td>Citation is given as much as a decade of bottl...</td>\n",
       "      <td>NaN</td>\n",
       "      <td>90</td>\n",
       "      <td>75.0</td>\n",
       "      <td>Oregon</td>\n",
       "      <td>Oregon</td>\n",
       "      <td>Oregon Other</td>\n",
       "      <td>Paul Gregutt</td>\n",
       "      <td>@paulgwine</td>\n",
       "      <td>Citation 2004 Pinot Noir (Oregon)</td>\n",
       "      <td>Pinot Noir</td>\n",
       "      <td>Citation</td>\n",
       "    </tr>\n",
       "    <tr>\n",
       "      <th>129968</th>\n",
       "      <td>129968</td>\n",
       "      <td>France</td>\n",
       "      <td>Well-drained gravel soil gives this wine its c...</td>\n",
       "      <td>Kritt</td>\n",
       "      <td>90</td>\n",
       "      <td>30.0</td>\n",
       "      <td>Alsace</td>\n",
       "      <td>Alsace</td>\n",
       "      <td>NaN</td>\n",
       "      <td>Roger Voss</td>\n",
       "      <td>@vossroger</td>\n",
       "      <td>Domaine Gresser 2013 Kritt Gewurztraminer (Als...</td>\n",
       "      <td>Gewürztraminer</td>\n",
       "      <td>Domaine Gresser</td>\n",
       "    </tr>\n",
       "    <tr>\n",
       "      <th>129969</th>\n",
       "      <td>129969</td>\n",
       "      <td>France</td>\n",
       "      <td>A dry style of Pinot Gris, this is crisp with ...</td>\n",
       "      <td>NaN</td>\n",
       "      <td>90</td>\n",
       "      <td>32.0</td>\n",
       "      <td>Alsace</td>\n",
       "      <td>Alsace</td>\n",
       "      <td>NaN</td>\n",
       "      <td>Roger Voss</td>\n",
       "      <td>@vossroger</td>\n",
       "      <td>Domaine Marcel Deiss 2012 Pinot Gris (Alsace)</td>\n",
       "      <td>Pinot Gris</td>\n",
       "      <td>Domaine Marcel Deiss</td>\n",
       "    </tr>\n",
       "    <tr>\n",
       "      <th>129970</th>\n",
       "      <td>129970</td>\n",
       "      <td>France</td>\n",
       "      <td>Big, rich and off-dry, this is powered by inte...</td>\n",
       "      <td>Lieu-dit Harth Cuvée Caroline</td>\n",
       "      <td>90</td>\n",
       "      <td>21.0</td>\n",
       "      <td>Alsace</td>\n",
       "      <td>Alsace</td>\n",
       "      <td>NaN</td>\n",
       "      <td>Roger Voss</td>\n",
       "      <td>@vossroger</td>\n",
       "      <td>Domaine Schoffit 2012 Lieu-dit Harth Cuvée Car...</td>\n",
       "      <td>Gewürztraminer</td>\n",
       "      <td>Domaine Schoffit</td>\n",
       "    </tr>\n",
       "  </tbody>\n",
       "</table>\n",
       "</div>"
      ],
      "text/plain": [
       "        Unnamed: 0  country  \\\n",
       "129966      129966  Germany   \n",
       "129967      129967       US   \n",
       "129968      129968   France   \n",
       "129969      129969   France   \n",
       "129970      129970   France   \n",
       "\n",
       "                                              description  \\\n",
       "129966  Notes of honeysuckle and cantaloupe sweeten th...   \n",
       "129967  Citation is given as much as a decade of bottl...   \n",
       "129968  Well-drained gravel soil gives this wine its c...   \n",
       "129969  A dry style of Pinot Gris, this is crisp with ...   \n",
       "129970  Big, rich and off-dry, this is powered by inte...   \n",
       "\n",
       "                                   designation  points  price province  \\\n",
       "129966  Brauneberger Juffer-Sonnenuhr Spätlese      90   28.0    Mosel   \n",
       "129967                                     NaN      90   75.0   Oregon   \n",
       "129968                                   Kritt      90   30.0   Alsace   \n",
       "129969                                     NaN      90   32.0   Alsace   \n",
       "129970           Lieu-dit Harth Cuvée Caroline      90   21.0   Alsace   \n",
       "\n",
       "       region_1      region_2         taster_name taster_twitter_handle  \\\n",
       "129966      NaN           NaN  Anna Lee C. Iijima                   NaN   \n",
       "129967   Oregon  Oregon Other        Paul Gregutt           @paulgwine    \n",
       "129968   Alsace           NaN          Roger Voss            @vossroger   \n",
       "129969   Alsace           NaN          Roger Voss            @vossroger   \n",
       "129970   Alsace           NaN          Roger Voss            @vossroger   \n",
       "\n",
       "                                                    title         variety  \\\n",
       "129966  Dr. H. Thanisch (Erben Müller-Burggraef) 2013 ...        Riesling   \n",
       "129967                  Citation 2004 Pinot Noir (Oregon)      Pinot Noir   \n",
       "129968  Domaine Gresser 2013 Kritt Gewurztraminer (Als...  Gewürztraminer   \n",
       "129969      Domaine Marcel Deiss 2012 Pinot Gris (Alsace)      Pinot Gris   \n",
       "129970  Domaine Schoffit 2012 Lieu-dit Harth Cuvée Car...  Gewürztraminer   \n",
       "\n",
       "                                          winery  \n",
       "129966  Dr. H. Thanisch (Erben Müller-Burggraef)  \n",
       "129967                                  Citation  \n",
       "129968                           Domaine Gresser  \n",
       "129969                      Domaine Marcel Deiss  \n",
       "129970                          Domaine Schoffit  "
      ]
     },
     "execution_count": 10,
     "metadata": {},
     "output_type": "execute_result"
    }
   ],
   "source": [
    "print(df2.info())\n",
    "df2.tail()"
   ]
  },
  {
   "cell_type": "code",
   "execution_count": 12,
   "metadata": {},
   "outputs": [
    {
     "name": "stdout",
     "output_type": "stream",
     "text": [
      "<class 'pandas.core.frame.DataFrame'>\n",
      "RangeIndex: 150930 entries, 0 to 150929\n",
      "Data columns (total 11 columns):\n",
      " #   Column       Non-Null Count   Dtype  \n",
      "---  ------       --------------   -----  \n",
      " 0   Unnamed: 0   150930 non-null  int64  \n",
      " 1   country      150925 non-null  object \n",
      " 2   description  150930 non-null  object \n",
      " 3   designation  105195 non-null  object \n",
      " 4   points       150930 non-null  int64  \n",
      " 5   price        137235 non-null  float64\n",
      " 6   province     150925 non-null  object \n",
      " 7   region_1     125870 non-null  object \n",
      " 8   region_2     60953 non-null   object \n",
      " 9   variety      150930 non-null  object \n",
      " 10  winery       150930 non-null  object \n",
      "dtypes: float64(1), int64(2), object(8)\n",
      "memory usage: 12.7+ MB\n",
      "None\n"
     ]
    },
    {
     "data": {
      "text/html": [
       "<div>\n",
       "<style scoped>\n",
       "    .dataframe tbody tr th:only-of-type {\n",
       "        vertical-align: middle;\n",
       "    }\n",
       "\n",
       "    .dataframe tbody tr th {\n",
       "        vertical-align: top;\n",
       "    }\n",
       "\n",
       "    .dataframe thead th {\n",
       "        text-align: right;\n",
       "    }\n",
       "</style>\n",
       "<table border=\"1\" class=\"dataframe\">\n",
       "  <thead>\n",
       "    <tr style=\"text-align: right;\">\n",
       "      <th></th>\n",
       "      <th>Unnamed: 0</th>\n",
       "      <th>country</th>\n",
       "      <th>description</th>\n",
       "      <th>designation</th>\n",
       "      <th>points</th>\n",
       "      <th>price</th>\n",
       "      <th>province</th>\n",
       "      <th>region_1</th>\n",
       "      <th>region_2</th>\n",
       "      <th>variety</th>\n",
       "      <th>winery</th>\n",
       "    </tr>\n",
       "  </thead>\n",
       "  <tbody>\n",
       "    <tr>\n",
       "      <th>150925</th>\n",
       "      <td>150925</td>\n",
       "      <td>Italy</td>\n",
       "      <td>Many people feel Fiano represents southern Ita...</td>\n",
       "      <td>NaN</td>\n",
       "      <td>91</td>\n",
       "      <td>20.0</td>\n",
       "      <td>Southern Italy</td>\n",
       "      <td>Fiano di Avellino</td>\n",
       "      <td>NaN</td>\n",
       "      <td>White Blend</td>\n",
       "      <td>Feudi di San Gregorio</td>\n",
       "    </tr>\n",
       "    <tr>\n",
       "      <th>150926</th>\n",
       "      <td>150926</td>\n",
       "      <td>France</td>\n",
       "      <td>Offers an intriguing nose with ginger, lime an...</td>\n",
       "      <td>Cuvée Prestige</td>\n",
       "      <td>91</td>\n",
       "      <td>27.0</td>\n",
       "      <td>Champagne</td>\n",
       "      <td>Champagne</td>\n",
       "      <td>NaN</td>\n",
       "      <td>Champagne Blend</td>\n",
       "      <td>H.Germain</td>\n",
       "    </tr>\n",
       "    <tr>\n",
       "      <th>150927</th>\n",
       "      <td>150927</td>\n",
       "      <td>Italy</td>\n",
       "      <td>This classic example comes from a cru vineyard...</td>\n",
       "      <td>Terre di Dora</td>\n",
       "      <td>91</td>\n",
       "      <td>20.0</td>\n",
       "      <td>Southern Italy</td>\n",
       "      <td>Fiano di Avellino</td>\n",
       "      <td>NaN</td>\n",
       "      <td>White Blend</td>\n",
       "      <td>Terredora</td>\n",
       "    </tr>\n",
       "    <tr>\n",
       "      <th>150928</th>\n",
       "      <td>150928</td>\n",
       "      <td>France</td>\n",
       "      <td>A perfect salmon shade, with scents of peaches...</td>\n",
       "      <td>Grand Brut Rosé</td>\n",
       "      <td>90</td>\n",
       "      <td>52.0</td>\n",
       "      <td>Champagne</td>\n",
       "      <td>Champagne</td>\n",
       "      <td>NaN</td>\n",
       "      <td>Champagne Blend</td>\n",
       "      <td>Gosset</td>\n",
       "    </tr>\n",
       "    <tr>\n",
       "      <th>150929</th>\n",
       "      <td>150929</td>\n",
       "      <td>Italy</td>\n",
       "      <td>More Pinot Grigios should taste like this. A r...</td>\n",
       "      <td>NaN</td>\n",
       "      <td>90</td>\n",
       "      <td>15.0</td>\n",
       "      <td>Northeastern Italy</td>\n",
       "      <td>Alto Adige</td>\n",
       "      <td>NaN</td>\n",
       "      <td>Pinot Grigio</td>\n",
       "      <td>Alois Lageder</td>\n",
       "    </tr>\n",
       "  </tbody>\n",
       "</table>\n",
       "</div>"
      ],
      "text/plain": [
       "        Unnamed: 0 country                                        description  \\\n",
       "150925      150925   Italy  Many people feel Fiano represents southern Ita...   \n",
       "150926      150926  France  Offers an intriguing nose with ginger, lime an...   \n",
       "150927      150927   Italy  This classic example comes from a cru vineyard...   \n",
       "150928      150928  France  A perfect salmon shade, with scents of peaches...   \n",
       "150929      150929   Italy  More Pinot Grigios should taste like this. A r...   \n",
       "\n",
       "            designation  points  price            province           region_1  \\\n",
       "150925              NaN      91   20.0      Southern Italy  Fiano di Avellino   \n",
       "150926   Cuvée Prestige      91   27.0           Champagne          Champagne   \n",
       "150927    Terre di Dora      91   20.0      Southern Italy  Fiano di Avellino   \n",
       "150928  Grand Brut Rosé      90   52.0           Champagne          Champagne   \n",
       "150929              NaN      90   15.0  Northeastern Italy         Alto Adige   \n",
       "\n",
       "       region_2          variety                 winery  \n",
       "150925      NaN      White Blend  Feudi di San Gregorio  \n",
       "150926      NaN  Champagne Blend              H.Germain  \n",
       "150927      NaN      White Blend              Terredora  \n",
       "150928      NaN  Champagne Blend                 Gosset  \n",
       "150929      NaN     Pinot Grigio          Alois Lageder  "
      ]
     },
     "execution_count": 12,
     "metadata": {},
     "output_type": "execute_result"
    }
   ],
   "source": [
    "print(df3.info())\n",
    "df3.tail()"
   ]
  },
  {
   "cell_type": "code",
   "execution_count": 25,
   "metadata": {},
   "outputs": [
    {
     "data": {
      "image/png": "[encoded data removed]",
      "text/plain": [
       "<Figure size 864x432 with 1 Axes>"
      ]
     },
     "metadata": {
      "needs_background": "light"
     },
     "output_type": "display_data"
    }
   ],
   "source": [
    "### Points v. price\n",
    "\n",
    "# Make Scatter plot\n",
    "fig, ax=plt.subplots(figsize = (12,6))\n",
    "ax.scatter(df_rev[\"points\"], df_rev[\"price\"], color='b')\n",
    "ax.set_xlabel('points')\n",
    "ax.set_ylabel('price')\n",
    "plt.title('points v. price')\n",
    "#ax.set_xlim([-1, 10.5])\n",
    "#ax.set_ylim([0, 100])\n",
    "plt.show()"
   ]
  },
  {
   "cell_type": "code",
   "execution_count": 26,
   "metadata": {},
   "outputs": [
    {
     "data": {
      "image/png": "[encoded data removed]",
      "text/plain": [
       "<Figure size 864x432 with 1 Axes>"
      ]
     },
     "metadata": {
      "needs_background": "light"
     },
     "output_type": "display_data"
    }
   ],
   "source": [
    "#Make boxplot distribution \n",
    "fig, ax = plt.subplots(figsize = (12,6))\n",
    "sns.boxplot(y=\"price\", x=\"points\", data=df_rev)\n",
    "ax.set_xlabel('points')\n",
    "ax.set_ylabel('price')\n",
    "ax.set_title('points v. price')\n",
    "plt.show()"
   ]
  },
  {
   "cell_type": "code",
   "execution_count": 31,
   "metadata": {},
   "outputs": [
    {
     "data": {
      "image/png": "[encoded data removed]",
      "text/plain": [
       "<Figure size 864x432 with 1 Axes>"
      ]
     },
     "metadata": {
      "needs_background": "light"
     },
     "output_type": "display_data"
    }
   ],
   "source": [
    "#Make boxplot distribution \n",
    "fig, ax = plt.subplots(figsize = (12,6))\n",
    "sns.boxplot(y=\"points\", x=\"country\", data=df_rev)\n",
    "ax.set_xlabel('country')\n",
    "ax.set_ylabel('points')\n",
    "ax.set_title('country v. points')\n",
    "ax.set_xticklabels(ax.get_xticklabels(),rotation=90)\n",
    "plt.show()"
   ]
  },
  {
   "cell_type": "code",
   "execution_count": 33,
   "metadata": {},
   "outputs": [
    {
     "data": {
      "image/png": "[encoded data removed]",
      "text/plain": [
       "<Figure size 864x432 with 1 Axes>"
      ]
     },
     "metadata": {
      "needs_background": "light"
     },
     "output_type": "display_data"
    }
   ],
   "source": [
    "#Make boxplot distribution \n",
    "fig, ax = plt.subplots(figsize = (12,6))\n",
    "sns.boxplot(y=\"price\", x=\"country\", data=df_rev)\n",
    "ax.set_xlabel('country')\n",
    "ax.set_ylabel('price')\n",
    "ax.set_title('country v. price')\n",
    "ax.set_xticklabels(ax.get_xticklabels(),rotation=90)\n",
    "plt.show()"
   ]
  },
  {
   "cell_type": "code",
   "execution_count": 45,
   "metadata": {},
   "outputs": [
    {
     "data": {
      "image/png": "[encoded data removed]",
      "text/plain": [
       "<Figure size 1296x648 with 1 Axes>"
      ]
     },
     "metadata": {
      "needs_background": "light"
     },
     "output_type": "display_data"
    }
   ],
   "source": [
    "### Points >= 95\n",
    "\n",
    "#Make boxplot distribution \n",
    "fig, ax = plt.subplots(figsize = (18,9))\n",
    "sns.boxplot(y=\"points\", x=\"variety\", data=top_wine_df)\n",
    "ax.set_xlabel('variety')\n",
    "ax.set_ylabel('points')\n",
    "ax.set_title('Points >= 95: variety v. points')\n",
    "ax.set_xticklabels(ax.get_xticklabels(),rotation=90)\n",
    "plt.show()"
   ]
  },
  {
   "cell_type": "code",
   "execution_count": 46,
   "metadata": {},
   "outputs": [
    {
     "data": {
      "image/png": "[encoded data removed]",
      "text/plain": [
       "<Figure size 1296x648 with 1 Axes>"
      ]
     },
     "metadata": {
      "needs_background": "light"
     },
     "output_type": "display_data"
    }
   ],
   "source": [
    "### Points >= 95\n",
    "\n",
    "#Make boxplot distribution \n",
    "fig, ax = plt.subplots(figsize = (18,9))\n",
    "sns.boxplot(y=\"price\", x=\"variety\", data=top_wine_df)\n",
    "ax.set_xlabel('variety')\n",
    "ax.set_ylabel('price')\n",
    "ax.set_title('Points >= 95: variety v. price')\n",
    "ax.set_xticklabels(ax.get_xticklabels(),rotation=90)\n",
    "plt.show()"
   ]
  },
  {
   "cell_type": "code",
   "execution_count": 5,
   "metadata": {},
   "outputs": [
    {
     "data": {
      "text/html": [
       "        <script type=\"text/javascript\">\n",
       "        window.PlotlyConfig = {MathJaxConfig: 'local'};\n",
       "        if (window.MathJax) {MathJax.Hub.Config({SVG: {font: \"STIX-Web\"}});}\n",
       "        if (typeof require !== 'undefined') {\n",
       "        require.undef(\"plotly\");\n",
       "        requirejs.config({\n",
       "            paths: {\n",
       "                'plotly': ['https://cdn.plot.ly/plotly-latest.min']\n",
       "            }\n",
       "        });\n",
       "        require(['plotly'], function(Plotly) {\n",
       "            window._Plotly = Plotly;\n",
       "        });\n",
       "        }\n",
       "        </script>\n",
       "        "
      ]
     },
     "metadata": {},
     "output_type": "display_data"
    },
    {
     "data": {
      "text/html": [
       "        <script type=\"text/javascript\">\n",
       "        window.PlotlyConfig = {MathJaxConfig: 'local'};\n",
       "        if (window.MathJax) {MathJax.Hub.Config({SVG: {font: \"STIX-Web\"}});}\n",
       "        if (typeof require !== 'undefined') {\n",
       "        require.undef(\"plotly\");\n",
       "        requirejs.config({\n",
       "            paths: {\n",
       "                'plotly': ['https://cdn.plot.ly/plotly-latest.min']\n",
       "            }\n",
       "        });\n",
       "        require(['plotly'], function(Plotly) {\n",
       "            window._Plotly = Plotly;\n",
       "        });\n",
       "        }\n",
       "        </script>\n",
       "        "
      ]
     },
     "metadata": {},
     "output_type": "display_data"
    }
   ],
   "source": [
    "import plotly.graph_objs as go\n",
    "from plotly.offline import iplot, init_notebook_mode\n",
    "import plotly.express as px\n",
    "\n",
    "import cufflinks\n",
    "cufflinks.go_offline(connected=True)\n",
    "init_notebook_mode(connected=True)"
   ]
  },
  {
   "cell_type": "code",
   "execution_count": 10,
   "metadata": {},
   "outputs": [
    {
     "data": {
      "application/vnd.plotly.v1+json": {
       "config": {
        "plotlyServerURL": "https://plot.ly"
       },
       "data": [
        {
         "branchvalues": "total",
         "customdata": [
          [
           "Portugal"
          ],
          [
           "Italy"
          ],
          [
           "US"
          ],
          [
           "Portugal"
          ],
          [
           "Italy"
          ],
          [
           "France"
          ],
          [
           "Austria"
          ],
          [
           "Argentina"
          ],
          [
           "Australia"
          ],
          [
           "US"
          ],
          [
           "Austria"
          ],
          [
           "US"
          ],
          [
           "France"
          ],
          [
           "Italy"
          ],
          [
           "Italy"
          ],
          [
           "South Africa"
          ],
          [
           "France"
          ],
          [
           "France"
          ],
          [
           "Australia"
          ],
          [
           "Spain"
          ],
          [
           "Portugal"
          ],
          [
           "Australia"
          ],
          [
           "Australia"
          ],
          [
           "US"
          ],
          [
           "US"
          ],
          [
           "Austria"
          ],
          [
           "Australia"
          ],
          [
           "South Africa"
          ],
          [
           "Portugal"
          ],
          [
           "New Zealand"
          ],
          [
           "Italy"
          ],
          [
           "Germany"
          ],
          [
           "Austria"
          ],
          [
           "France"
          ],
          [
           "Australia"
          ],
          [
           "Spain"
          ],
          [
           "US"
          ],
          [
           "New Zealand"
          ],
          [
           "Italy"
          ],
          [
           "France"
          ],
          [
           "Australia"
          ],
          [
           "Austria"
          ],
          [
           "US"
          ],
          [
           "US"
          ],
          [
           "US"
          ],
          [
           "US"
          ],
          [
           "Hungary"
          ],
          [
           "US"
          ],
          [
           "US"
          ],
          [
           "Italy"
          ],
          [
           "Italy"
          ],
          [
           "France"
          ],
          [
           "US"
          ],
          [
           "France"
          ],
          [
           "Spain"
          ],
          [
           "Austria"
          ],
          [
           "US"
          ],
          [
           "US"
          ],
          [
           "US"
          ],
          [
           "US"
          ],
          [
           "Australia"
          ],
          [
           "US"
          ],
          [
           "France"
          ],
          [
           "Austria"
          ],
          [
           "France"
          ],
          [
           "US"
          ],
          [
           "Hungary"
          ],
          [
           "New Zealand"
          ],
          [
           "France"
          ],
          [
           "Italy"
          ],
          [
           "Chile"
          ],
          [
           "Hungary"
          ],
          [
           "Australia"
          ],
          [
           "Germany"
          ],
          [
           "France"
          ],
          [
           "Italy"
          ],
          [
           "Germany"
          ],
          [
           "Italy"
          ],
          [
           "US"
          ],
          [
           "Austria"
          ],
          [
           "US"
          ],
          [
           "Italy"
          ],
          [
           "Italy"
          ],
          [
           "Portugal"
          ],
          [
           "US"
          ],
          [
           "Austria"
          ],
          [
           "US"
          ],
          [
           "Italy"
          ],
          [
           "France"
          ],
          [
           "South Africa"
          ],
          [
           "Austria"
          ],
          [
           "France"
          ],
          [
           "Italy"
          ],
          [
           "Argentina"
          ],
          [
           "Spain"
          ],
          [
           "France"
          ],
          [
           "England"
          ],
          [
           "US"
          ],
          [
           "Italy"
          ],
          [
           "South Africa"
          ],
          [
           "Hungary"
          ],
          [
           "France"
          ],
          [
           "England"
          ],
          [
           "US"
          ],
          [
           "Chile"
          ],
          [
           "Italy"
          ],
          [
           "Spain"
          ],
          [
           "Austria"
          ],
          [
           "US"
          ],
          [
           "US"
          ],
          [
           "Portugal"
          ],
          [
           "Australia"
          ],
          [
           "Austria"
          ],
          [
           "Spain"
          ],
          [
           "Australia"
          ],
          [
           "Spain"
          ],
          [
           "US"
          ],
          [
           "Spain"
          ],
          [
           "Portugal"
          ],
          [
           "US"
          ],
          [
           "Italy"
          ],
          [
           "US"
          ],
          [
           "Italy"
          ],
          [
           "Argentina"
          ],
          [
           "Australia"
          ],
          [
           "Australia"
          ],
          [
           "Italy"
          ],
          [
           "US"
          ],
          [
           "France"
          ],
          [
           "Spain"
          ],
          [
           "Italy"
          ],
          [
           "US"
          ],
          [
           "Italy"
          ],
          [
           "US"
          ],
          [
           "US"
          ],
          [
           "France"
          ],
          [
           "Italy"
          ],
          [
           "US"
          ],
          [
           "France"
          ],
          [
           "Italy"
          ],
          [
           "US"
          ],
          [
           "Spain"
          ],
          [
           "France"
          ],
          [
           "Argentina"
          ],
          [
           "Italy"
          ],
          [
           "France"
          ],
          [
           "US"
          ],
          [
           "France"
          ],
          [
           "Australia"
          ],
          [
           "Spain"
          ],
          [
           "Australia"
          ],
          [
           "US"
          ],
          [
           "England"
          ],
          [
           "Italy"
          ],
          [
           "US"
          ],
          [
           "US"
          ],
          [
           "Germany"
          ],
          [
           "France"
          ],
          [
           "Austria"
          ],
          [
           "France"
          ],
          [
           "US"
          ],
          [
           "Australia"
          ],
          [
           "US"
          ],
          [
           "Spain"
          ],
          [
           "Italy"
          ],
          [
           "Argentina"
          ],
          [
           "Portugal"
          ],
          [
           "US"
          ],
          [
           "US"
          ],
          [
           "US"
          ]
         ],
         "domain": {
          "x": [
           0,
           1
          ],
          "y": [
           0,
           1
          ]
         },
         "hovertemplate": "labels=%{label}<br>points=%{value}<br>parent=%{parent}<br>id=%{id}<br>country=%{customdata[0]}<extra></extra>",
         "ids": [
          "Portugal/Verdelho",
          "Italy/Cabernet Sauvignon-Merlot",
          "US/Cabernet Franc",
          "Portugal/Bual",
          "Italy/Aglianico",
          "France/Alsace white blend",
          "Austria/Blaufränkisch",
          "Argentina/Bordeaux-style Red Blend",
          "Australia/Muscadel",
          "US/Scheurebe",
          "Austria/Scheurebe",
          "US/Sauvignon Blanc",
          "France/Sauvignon Blanc",
          "Italy/Sauvignon",
          "Italy/Sangiovese",
          "South Africa/Rhône-style Red Blend",
          "France/Rhône-style Red Blend",
          "France/Semillon-Sauvignon Blanc",
          "Australia/Red Blend",
          "Spain",
          "Portugal/Port",
          "Australia/Muscat",
          "Australia/Muscadelle",
          "US/Moscato",
          "US/Shiraz",
          "Austria/St. Laurent",
          "Australia/Shiraz-Viognier",
          "South Africa",
          "Portugal",
          "New Zealand",
          "Italy",
          "Germany",
          "Austria/Welschriesling",
          "France/Viognier",
          "Australia/Shiraz-Cabernet Sauvignon",
          "Spain/Tempranillo Blend",
          "US/Syrah-Grenache",
          "New Zealand/Syrah",
          "Italy/Syrah",
          "France/Syrah",
          "Australia/Syrah",
          "Austria/Grüner Veltliner",
          "US/Sparkling Blend",
          "US/Tempranillo",
          "US/Grenache Blend",
          "US",
          "Hungary/Furmint",
          "US/Cabernet Sauvignon",
          "US/Fumé Blanc",
          "Italy/Corvina, Rondinella, Molinara",
          "Italy/Cabernet Franc",
          "France/Chenin Blanc",
          "US/G-S-M",
          "France/Chardonnay",
          "Spain/Garnacha",
          "Austria/Gelber Traminer",
          "US/Bordeaux-style Red Blend",
          "US/Grenache",
          "US/Cabernet",
          "US/Gewürztraminer",
          "Australia/Cabernet-Shiraz",
          "US/Cabernet Sauvignon-Syrah",
          "France/Champagne Blend",
          "Austria/Austrian white blend",
          "France/Bordeaux-style White Blend",
          "US/Cabernet Blend",
          "Hungary/White Blend",
          "New Zealand/Bordeaux-style Red Blend",
          "France/Provence red blend",
          "Italy/Prugnolo Gentile",
          "Chile/Red Blend",
          "Hungary/Tokaji",
          "Australia/Cabernet Sauvignon",
          "Germany/Spätburgunder",
          "France/Tannat",
          "Italy/Sangiovese Grosso",
          "Germany/Silvaner",
          "Italy/Carricante",
          "US/Syrah",
          "Austria/Chardonnay",
          "US/Champagne Blend",
          "Italy/Friulano",
          "Italy/Teroldego",
          "Portugal/Portuguese White",
          "US/Merlot",
          "Austria",
          "US/Mission",
          "Italy/Merlot",
          "France/Marsanne",
          "South Africa/Muscat",
          "Austria/Pinot Noir",
          "France/Bordeaux-style Red Blend",
          "Italy/Pinot Bianco",
          "Argentina",
          "Spain/Tinta del Pais",
          "France/Red Blend",
          "England/Sparkling Blend",
          "US/Malbec",
          "Italy/Cabernet Sauvignon",
          "South Africa/Bordeaux-style Red Blend",
          "Hungary",
          "France",
          "England",
          "US/Sémillon",
          "Chile",
          "Italy/Verdicchio",
          "Spain/Tempranillo",
          "Austria/Traminer",
          "US/Bordeaux-style White Blend",
          "US/Viognier",
          "Portugal/Touriga Nacional",
          "Australia/Tokay",
          "Austria/White Blend",
          "Spain/Tinto del Pais",
          "Australia",
          "Spain/Tinto Fino",
          "US/White Blend",
          "Spain/Tinta de Toro",
          "Portugal/Terrantez",
          "US/White Riesling",
          "Italy/Zibibbo",
          "US/Zinfandel",
          "Italy/White Blend",
          "Argentina/Cabernet Sauvignon-Malbec",
          "Australia/Grenache",
          "Australia/Cabernet Sauvignon-Shiraz",
          "Italy/Picolit",
          "US/Petite Sirah",
          "France/Petit Manseng",
          "Spain/Pedro Ximénez",
          "Italy/Nerello Mascalese",
          "US/Nebbiolo",
          "Italy/Nebbiolo",
          "US/Muscat Canelli",
          "US/Muscat",
          "France/Muscat",
          "Italy/Garganega",
          "US/Mourvèdre",
          "France/Gewürztraminer",
          "Italy/Montepulciano",
          "US/Monastrell",
          "Spain/Monastrell",
          "France/Malbec",
          "Argentina/Malbec",
          "Italy/Kerner",
          "France/Pinot Gris",
          "US/Cabernet Sauvignon-Merlot",
          "France/Pinot Noir",
          "Australia/Port",
          "Spain/Carignan",
          "Australia/Shiraz",
          "US/Semillon-Sauvignon Blanc",
          "England/Chardonnay",
          "Italy/Sagrantino",
          "US/Rosé",
          "US/Riesling",
          "Germany/Riesling",
          "France/Riesling",
          "Austria/Riesling",
          "France/Rhône-style White Blend",
          "US/Rhône-style Red Blend",
          "Australia/Rhône-style Red Blend",
          "US/Red Blend",
          "Spain/Red Blend",
          "Italy/Red Blend",
          "Argentina/Red Blend",
          "Portugal/Portuguese Red",
          "US/Port",
          "US/Pinot Noir",
          "US/Chardonnay"
         ],
         "labels": [
          "Verdelho",
          "Cabernet Sauvignon-Merlot",
          "Cabernet Franc",
          "Bual",
          "Aglianico",
          "Alsace white blend",
          "Blaufränkisch",
          "Bordeaux-style Red Blend",
          "Muscadel",
          "Scheurebe",
          "Scheurebe",
          "Sauvignon Blanc",
          "Sauvignon Blanc",
          "Sauvignon",
          "Sangiovese",
          "Rhône-style Red Blend",
          "Rhône-style Red Blend",
          "Semillon-Sauvignon Blanc",
          "Red Blend",
          "Spain",
          "Port",
          "Muscat",
          "Muscadelle",
          "Moscato",
          "Shiraz",
          "St. Laurent",
          "Shiraz-Viognier",
          "South Africa",
          "Portugal",
          "New Zealand",
          "Italy",
          "Germany",
          "Welschriesling",
          "Viognier",
          "Shiraz-Cabernet Sauvignon",
          "Tempranillo Blend",
          "Syrah-Grenache",
          "Syrah",
          "Syrah",
          "Syrah",
          "Syrah",
          "Grüner Veltliner",
          "Sparkling Blend",
          "Tempranillo",
          "Grenache Blend",
          "US",
          "Furmint",
          "Cabernet Sauvignon",
          "Fumé Blanc",
          "Corvina, Rondinella, Molinara",
          "Cabernet Franc",
          "Chenin Blanc",
          "G-S-M",
          "Chardonnay",
          "Garnacha",
          "Gelber Traminer",
          "Bordeaux-style Red Blend",
          "Grenache",
          "Cabernet",
          "Gewürztraminer",
          "Cabernet-Shiraz",
          "Cabernet Sauvignon-Syrah",
          "Champagne Blend",
          "Austrian white blend",
          "Bordeaux-style White Blend",
          "Cabernet Blend",
          "White Blend",
          "Bordeaux-style Red Blend",
          "Provence red blend",
          "Prugnolo Gentile",
          "Red Blend",
          "Tokaji",
          "Cabernet Sauvignon",
          "Spätburgunder",
          "Tannat",
          "Sangiovese Grosso",
          "Silvaner",
          "Carricante",
          "Syrah",
          "Chardonnay",
          "Champagne Blend",
          "Friulano",
          "Teroldego",
          "Portuguese White",
          "Merlot",
          "Austria",
          "Mission",
          "Merlot",
          "Marsanne",
          "Muscat",
          "Pinot Noir",
          "Bordeaux-style Red Blend",
          "Pinot Bianco",
          "Argentina",
          "Tinta del Pais",
          "Red Blend",
          "Sparkling Blend",
          "Malbec",
          "Cabernet Sauvignon",
          "Bordeaux-style Red Blend",
          "Hungary",
          "France",
          "England",
          "Sémillon",
          "Chile",
          "Verdicchio",
          "Tempranillo",
          "Traminer",
          "Bordeaux-style White Blend",
          "Viognier",
          "Touriga Nacional",
          "Tokay",
          "White Blend",
          "Tinto del Pais",
          "Australia",
          "Tinto Fino",
          "White Blend",
          "Tinta de Toro",
          "Terrantez",
          "White Riesling",
          "Zibibbo",
          "Zinfandel",
          "White Blend",
          "Cabernet Sauvignon-Malbec",
          "Grenache",
          "Cabernet Sauvignon-Shiraz",
          "Picolit",
          "Petite Sirah",
          "Petit Manseng",
          "Pedro Ximénez",
          "Nerello Mascalese",
          "Nebbiolo",
          "Nebbiolo",
          "Muscat Canelli",
          "Muscat",
          "Muscat",
          "Garganega",
          "Mourvèdre",
          "Gewürztraminer",
          "Montepulciano",
          "Monastrell",
          "Monastrell",
          "Malbec",
          "Malbec",
          "Kerner",
          "Pinot Gris",
          "Cabernet Sauvignon-Merlot",
          "Pinot Noir",
          "Port",
          "Carignan",
          "Shiraz",
          "Semillon-Sauvignon Blanc",
          "Chardonnay",
          "Sagrantino",
          "Rosé",
          "Riesling",
          "Riesling",
          "Riesling",
          "Riesling",
          "Rhône-style White Blend",
          "Rhône-style Red Blend",
          "Rhône-style Red Blend",
          "Red Blend",
          "Red Blend",
          "Red Blend",
          "Red Blend",
          "Portuguese Red",
          "Port",
          "Pinot Noir",
          "Chardonnay"
         ],
         "marker": {
          "colors": [
           "#636efa",
           "#EF553B",
           "#00cc96",
           "#636efa",
           "#EF553B",
           "#ab63fa",
           "#FFA15A",
           "#19d3f3",
           "#FF6692",
           "#00cc96",
           "#FFA15A",
           "#00cc96",
           "#ab63fa",
           "#EF553B",
           "#EF553B",
           "#B6E880",
           "#ab63fa",
           "#ab63fa",
           "#FF6692",
           "#FF97FF",
           "#636efa",
           "#FF6692",
           "#FF6692",
           "#00cc96",
           "#00cc96",
           "#FFA15A",
           "#FF6692",
           "#B6E880",
           "#636efa",
           "#FECB52",
           "#EF553B",
           "#636efa",
           "#FFA15A",
           "#ab63fa",
           "#FF6692",
           "#FF97FF",
           "#00cc96",
           "#FECB52",
           "#EF553B",
           "#ab63fa",
           "#FF6692",
           "#FFA15A",
           "#00cc96",
           "#00cc96",
           "#00cc96",
           "#00cc96",
           "#EF553B",
           "#00cc96",
           "#00cc96",
           "#EF553B",
           "#EF553B",
           "#ab63fa",
           "#00cc96",
           "#ab63fa",
           "#FF97FF",
           "#FFA15A",
           "#00cc96",
           "#00cc96",
           "#00cc96",
           "#00cc96",
           "#FF6692",
           "#00cc96",
           "#ab63fa",
           "#FFA15A",
           "#ab63fa",
           "#00cc96",
           "#EF553B",
           "#FECB52",
           "#ab63fa",
           "#EF553B",
           "#00cc96",
           "#EF553B",
           "#FF6692",
           "#636efa",
           "#ab63fa",
           "#EF553B",
           "#636efa",
           "#EF553B",
           "#00cc96",
           "#FFA15A",
           "#00cc96",
           "#EF553B",
           "#EF553B",
           "#636efa",
           "#00cc96",
           "#FFA15A",
           "#00cc96",
           "#EF553B",
           "#ab63fa",
           "#B6E880",
           "#FFA15A",
           "#ab63fa",
           "#EF553B",
           "#19d3f3",
           "#FF97FF",
           "#ab63fa",
           "#ab63fa",
           "#00cc96",
           "#EF553B",
           "#B6E880",
           "#EF553B",
           "#ab63fa",
           "#ab63fa",
           "#00cc96",
           "#00cc96",
           "#EF553B",
           "#FF97FF",
           "#FFA15A",
           "#00cc96",
           "#00cc96",
           "#636efa",
           "#FF6692",
           "#FFA15A",
           "#FF97FF",
           "#FF6692",
           "#FF97FF",
           "#00cc96",
           "#FF97FF",
           "#636efa",
           "#00cc96",
           "#EF553B",
           "#00cc96",
           "#EF553B",
           "#19d3f3",
           "#FF6692",
           "#FF6692",
           "#EF553B",
           "#00cc96",
           "#ab63fa",
           "#FF97FF",
           "#EF553B",
           "#00cc96",
           "#EF553B",
           "#00cc96",
           "#00cc96",
           "#ab63fa",
           "#EF553B",
           "#00cc96",
           "#ab63fa",
           "#EF553B",
           "#00cc96",
           "#FF97FF",
           "#ab63fa",
           "#19d3f3",
           "#EF553B",
           "#ab63fa",
           "#00cc96",
           "#ab63fa",
           "#FF6692",
           "#FF97FF",
           "#FF6692",
           "#00cc96",
           "#ab63fa",
           "#EF553B",
           "#00cc96",
           "#00cc96",
           "#636efa",
           "#ab63fa",
           "#FFA15A",
           "#ab63fa",
           "#00cc96",
           "#FF6692",
           "#00cc96",
           "#FF97FF",
           "#EF553B",
           "#19d3f3",
           "#636efa",
           "#00cc96",
           "#00cc96",
           "#00cc96"
          ]
         },
         "name": "",
         "parents": [
          "Portugal",
          "Italy",
          "US",
          "Portugal",
          "Italy",
          "France",
          "Austria",
          "Argentina",
          "Australia",
          "US",
          "Austria",
          "US",
          "France",
          "Italy",
          "Italy",
          "South Africa",
          "France",
          "France",
          "Australia",
          "",
          "Portugal",
          "Australia",
          "Australia",
          "US",
          "US",
          "Austria",
          "Australia",
          "",
          "",
          "",
          "",
          "",
          "Austria",
          "France",
          "Australia",
          "Spain",
          "US",
          "New Zealand",
          "Italy",
          "France",
          "Australia",
          "Austria",
          "US",
          "US",
          "US",
          "",
          "Hungary",
          "US",
          "US",
          "Italy",
          "Italy",
          "France",
          "US",
          "France",
          "Spain",
          "Austria",
          "US",
          "US",
          "US",
          "US",
          "Australia",
          "US",
          "France",
          "Austria",
          "France",
          "US",
          "Hungary",
          "New Zealand",
          "France",
          "Italy",
          "Chile",
          "Hungary",
          "Australia",
          "Germany",
          "France",
          "Italy",
          "Germany",
          "Italy",
          "US",
          "Austria",
          "US",
          "Italy",
          "Italy",
          "Portugal",
          "US",
          "",
          "US",
          "Italy",
          "France",
          "South Africa",
          "Austria",
          "France",
          "Italy",
          "",
          "Spain",
          "France",
          "England",
          "US",
          "Italy",
          "South Africa",
          "",
          "",
          "",
          "US",
          "",
          "Italy",
          "Spain",
          "Austria",
          "US",
          "US",
          "Portugal",
          "Australia",
          "Austria",
          "Spain",
          "",
          "Spain",
          "US",
          "Spain",
          "Portugal",
          "US",
          "Italy",
          "US",
          "Italy",
          "Argentina",
          "Australia",
          "Australia",
          "Italy",
          "US",
          "France",
          "Spain",
          "Italy",
          "US",
          "Italy",
          "US",
          "US",
          "France",
          "Italy",
          "US",
          "France",
          "Italy",
          "US",
          "Spain",
          "France",
          "Argentina",
          "Italy",
          "France",
          "US",
          "France",
          "Australia",
          "Spain",
          "Australia",
          "US",
          "England",
          "Italy",
          "US",
          "US",
          "Germany",
          "France",
          "Austria",
          "France",
          "US",
          "Australia",
          "US",
          "Spain",
          "Italy",
          "Argentina",
          "Portugal",
          "US",
          "US",
          "US"
         ],
         "type": "sunburst",
         "values": [
          96,
          95,
          380,
          288,
          477,
          1047,
          380,
          287,
          291,
          285,
          676,
          761,
          476,
          95,
          10521,
          190,
          1052,
          95,
          190,
          13191,
          8330,
          1360,
          197,
          475,
          190,
          95,
          673,
          475,
          15107,
          190,
          71552,
          10897,
          388,
          95,
          95,
          1623,
          95,
          95,
          678,
          2408,
          859,
          3046,
          4497,
          190,
          190,
          222483,
          96,
          64578,
          665,
          1809,
          2309,
          2101,
          380,
          24573,
          95,
          95,
          15611,
          1145,
          95,
          380,
          192,
          1339,
          14452,
          286,
          16039,
          2603,
          288,
          95,
          190,
          696,
          285,
          383,
          572,
          380,
          857,
          6205,
          96,
          190,
          16328,
          578,
          290,
          95,
          285,
          95,
          3623,
          16978,
          192,
          5810,
          1431,
          190,
          382,
          50710,
          95,
          2962,
          96,
          763,
          190,
          190,
          285,
          95,
          767,
          148730,
          285,
          951,
          285,
          95,
          4488,
          288,
          190,
          666,
          190,
          872,
          765,
          574,
          12390,
          1352,
          856,
          2570,
          95,
          191,
          855,
          3807,
          1534,
          95,
          285,
          96,
          671,
          285,
          380,
          191,
          667,
          95,
          22658,
          95,
          288,
          382,
          95,
          190,
          2378,
          380,
          95,
          194,
          1712,
          2390,
          95,
          2003,
          287,
          18622,
          285,
          383,
          6328,
          766,
          95,
          856,
          191,
          1902,
          10421,
          6869,
          9999,
          95,
          761,
          95,
          6505,
          1625,
          14001,
          190,
          6013,
          95,
          62794,
          26991
         ]
        }
       ],
       "layout": {
        "height": 600,
        "legend": {
         "tracegroupgap": 0
        },
        "template": {
         "data": {
          "bar": [
           {
            "error_x": {
             "color": "#2a3f5f"
            },
            "error_y": {
             "color": "#2a3f5f"
            },
            "marker": {
             "line": {
              "color": "#E5ECF6",
              "width": 0.5
             }
            },
            "type": "bar"
           }
          ],
          "barpolar": [
           {
            "marker": {
             "line": {
              "color": "#E5ECF6",
              "width": 0.5
             }
            },
            "type": "barpolar"
           }
          ],
          "carpet": [
           {
            "aaxis": {
             "endlinecolor": "#2a3f5f",
             "gridcolor": "white",
             "linecolor": "white",
             "minorgridcolor": "white",
             "startlinecolor": "#2a3f5f"
            },
            "baxis": {
             "endlinecolor": "#2a3f5f",
             "gridcolor": "white",
             "linecolor": "white",
             "minorgridcolor": "white",
             "startlinecolor": "#2a3f5f"
            },
            "type": "carpet"
           }
          ],
          "choropleth": [
           {
            "colorbar": {
             "outlinewidth": 0,
             "ticks": ""
            },
            "type": "choropleth"
           }
          ],
          "contour": [
           {
            "colorbar": {
             "outlinewidth": 0,
             "ticks": ""
            },
            "colorscale": [
             [
              0,
              "#0d0887"
             ],
             [
              0.1111111111111111,
              "#46039f"
             ],
             [
              0.2222222222222222,
              "#7201a8"
             ],
             [
              0.3333333333333333,
              "#9c179e"
             ],
             [
              0.4444444444444444,
              "#bd3786"
             ],
             [
              0.5555555555555556,
              "#d8576b"
             ],
             [
              0.6666666666666666,
              "#ed7953"
             ],
             [
              0.7777777777777778,
              "#fb9f3a"
             ],
             [
              0.8888888888888888,
              "#fdca26"
             ],
             [
              1,
              "#f0f921"
             ]
            ],
            "type": "contour"
           }
          ],
          "contourcarpet": [
           {
            "colorbar": {
             "outlinewidth": 0,
             "ticks": ""
            },
            "type": "contourcarpet"
           }
          ],
          "heatmap": [
           {
            "colorbar": {
             "outlinewidth": 0,
             "ticks": ""
            },
            "colorscale": [
             [
              0,
              "#0d0887"
             ],
             [
              0.1111111111111111,
              "#46039f"
             ],
             [
              0.2222222222222222,
              "#7201a8"
             ],
             [
              0.3333333333333333,
              "#9c179e"
             ],
             [
              0.4444444444444444,
              "#bd3786"
             ],
             [
              0.5555555555555556,
              "#d8576b"
             ],
             [
              0.6666666666666666,
              "#ed7953"
             ],
             [
              0.7777777777777778,
              "#fb9f3a"
             ],
             [
              0.8888888888888888,
              "#fdca26"
             ],
             [
              1,
              "#f0f921"
             ]
            ],
            "type": "heatmap"
           }
          ],
          "heatmapgl": [
           {
            "colorbar": {
             "outlinewidth": 0,
             "ticks": ""
            },
            "colorscale": [
             [
              0,
              "#0d0887"
             ],
             [
              0.1111111111111111,
              "#46039f"
             ],
             [
              0.2222222222222222,
              "#7201a8"
             ],
             [
              0.3333333333333333,
              "#9c179e"
             ],
             [
              0.4444444444444444,
              "#bd3786"
             ],
             [
              0.5555555555555556,
              "#d8576b"
             ],
             [
              0.6666666666666666,
              "#ed7953"
             ],
             [
              0.7777777777777778,
              "#fb9f3a"
             ],
             [
              0.8888888888888888,
              "#fdca26"
             ],
             [
              1,
              "#f0f921"
             ]
            ],
            "type": "heatmapgl"
           }
          ],
          "histogram": [
           {
            "marker": {
             "colorbar": {
              "outlinewidth": 0,
              "ticks": ""
             }
            },
            "type": "histogram"
           }
          ],
          "histogram2d": [
           {
            "colorbar": {
             "outlinewidth": 0,
             "ticks": ""
            },
            "colorscale": [
             [
              0,
              "#0d0887"
             ],
             [
              0.1111111111111111,
              "#46039f"
             ],
             [
              0.2222222222222222,
              "#7201a8"
             ],
             [
              0.3333333333333333,
              "#9c179e"
             ],
             [
              0.4444444444444444,
              "#bd3786"
             ],
             [
              0.5555555555555556,
              "#d8576b"
             ],
             [
              0.6666666666666666,
              "#ed7953"
             ],
             [
              0.7777777777777778,
              "#fb9f3a"
             ],
             [
              0.8888888888888888,
              "#fdca26"
             ],
             [
              1,
              "#f0f921"
             ]
            ],
            "type": "histogram2d"
           }
          ],
          "histogram2dcontour": [
           {
            "colorbar": {
             "outlinewidth": 0,
             "ticks": ""
            },
            "colorscale": [
             [
              0,
              "#0d0887"
             ],
             [
              0.1111111111111111,
              "#46039f"
             ],
             [
              0.2222222222222222,
              "#7201a8"
             ],
             [
              0.3333333333333333,
              "#9c179e"
             ],
             [
              0.4444444444444444,
              "#bd3786"
             ],
             [
              0.5555555555555556,
              "#d8576b"
             ],
             [
              0.6666666666666666,
              "#ed7953"
             ],
             [
              0.7777777777777778,
              "#fb9f3a"
             ],
             [
              0.8888888888888888,
              "#fdca26"
             ],
             [
              1,
              "#f0f921"
             ]
            ],
            "type": "histogram2dcontour"
           }
          ],
          "mesh3d": [
           {
            "colorbar": {
             "outlinewidth": 0,
             "ticks": ""
            },
            "type": "mesh3d"
           }
          ],
          "parcoords": [
           {
            "line": {
             "colorbar": {
              "outlinewidth": 0,
              "ticks": ""
             }
            },
            "type": "parcoords"
           }
          ],
          "pie": [
           {
            "automargin": true,
            "type": "pie"
           }
          ],
          "scatter": [
           {
            "marker": {
             "colorbar": {
              "outlinewidth": 0,
              "ticks": ""
             }
            },
            "type": "scatter"
           }
          ],
          "scatter3d": [
           {
            "line": {
             "colorbar": {
              "outlinewidth": 0,
              "ticks": ""
             }
            },
            "marker": {
             "colorbar": {
              "outlinewidth": 0,
              "ticks": ""
             }
            },
            "type": "scatter3d"
           }
          ],
          "scattercarpet": [
           {
            "marker": {
             "colorbar": {
              "outlinewidth": 0,
              "ticks": ""
             }
            },
            "type": "scattercarpet"
           }
          ],
          "scattergeo": [
           {
            "marker": {
             "colorbar": {
              "outlinewidth": 0,
              "ticks": ""
             }
            },
            "type": "scattergeo"
           }
          ],
          "scattergl": [
           {
            "marker": {
             "colorbar": {
              "outlinewidth": 0,
              "ticks": ""
             }
            },
            "type": "scattergl"
           }
          ],
          "scattermapbox": [
           {
            "marker": {
             "colorbar": {
              "outlinewidth": 0,
              "ticks": ""
             }
            },
            "type": "scattermapbox"
           }
          ],
          "scatterpolar": [
           {
            "marker": {
             "colorbar": {
              "outlinewidth": 0,
              "ticks": ""
             }
            },
            "type": "scatterpolar"
           }
          ],
          "scatterpolargl": [
           {
            "marker": {
             "colorbar": {
              "outlinewidth": 0,
              "ticks": ""
             }
            },
            "type": "scatterpolargl"
           }
          ],
          "scatterternary": [
           {
            "marker": {
             "colorbar": {
              "outlinewidth": 0,
              "ticks": ""
             }
            },
            "type": "scatterternary"
           }
          ],
          "surface": [
           {
            "colorbar": {
             "outlinewidth": 0,
             "ticks": ""
            },
            "colorscale": [
             [
              0,
              "#0d0887"
             ],
             [
              0.1111111111111111,
              "#46039f"
             ],
             [
              0.2222222222222222,
              "#7201a8"
             ],
             [
              0.3333333333333333,
              "#9c179e"
             ],
             [
              0.4444444444444444,
              "#bd3786"
             ],
             [
              0.5555555555555556,
              "#d8576b"
             ],
             [
              0.6666666666666666,
              "#ed7953"
             ],
             [
              0.7777777777777778,
              "#fb9f3a"
             ],
             [
              0.8888888888888888,
              "#fdca26"
             ],
             [
              1,
              "#f0f921"
             ]
            ],
            "type": "surface"
           }
          ],
          "table": [
           {
            "cells": {
             "fill": {
              "color": "#EBF0F8"
             },
             "line": {
              "color": "white"
             }
            },
            "header": {
             "fill": {
              "color": "#C8D4E3"
             },
             "line": {
              "color": "white"
             }
            },
            "type": "table"
           }
          ]
         },
         "layout": {
          "annotationdefaults": {
           "arrowcolor": "#2a3f5f",
           "arrowhead": 0,
           "arrowwidth": 1
          },
          "autotypenumbers": "strict",
          "coloraxis": {
           "colorbar": {
            "outlinewidth": 0,
            "ticks": ""
           }
          },
          "colorscale": {
           "diverging": [
            [
             0,
             "#8e0152"
            ],
            [
             0.1,
             "#c51b7d"
            ],
            [
             0.2,
             "#de77ae"
            ],
            [
             0.3,
             "#f1b6da"
            ],
            [
             0.4,
             "#fde0ef"
            ],
            [
             0.5,
             "#f7f7f7"
            ],
            [
             0.6,
             "#e6f5d0"
            ],
            [
             0.7,
             "#b8e186"
            ],
            [
             0.8,
             "#7fbc41"
            ],
            [
             0.9,
             "#4d9221"
            ],
            [
             1,
             "#276419"
            ]
           ],
           "sequential": [
            [
             0,
             "#0d0887"
            ],
            [
             0.1111111111111111,
             "#46039f"
            ],
            [
             0.2222222222222222,
             "#7201a8"
            ],
            [
             0.3333333333333333,
             "#9c179e"
            ],
            [
             0.4444444444444444,
             "#bd3786"
            ],
            [
             0.5555555555555556,
             "#d8576b"
            ],
            [
             0.6666666666666666,
             "#ed7953"
            ],
            [
             0.7777777777777778,
             "#fb9f3a"
            ],
            [
             0.8888888888888888,
             "#fdca26"
            ],
            [
             1,
             "#f0f921"
            ]
           ],
           "sequentialminus": [
            [
             0,
             "#0d0887"
            ],
            [
             0.1111111111111111,
             "#46039f"
            ],
            [
             0.2222222222222222,
             "#7201a8"
            ],
            [
             0.3333333333333333,
             "#9c179e"
            ],
            [
             0.4444444444444444,
             "#bd3786"
            ],
            [
             0.5555555555555556,
             "#d8576b"
            ],
            [
             0.6666666666666666,
             "#ed7953"
            ],
            [
             0.7777777777777778,
             "#fb9f3a"
            ],
            [
             0.8888888888888888,
             "#fdca26"
            ],
            [
             1,
             "#f0f921"
            ]
           ]
          },
          "colorway": [
           "#636efa",
           "#EF553B",
           "#00cc96",
           "#ab63fa",
           "#FFA15A",
           "#19d3f3",
           "#FF6692",
           "#B6E880",
           "#FF97FF",
           "#FECB52"
          ],
          "font": {
           "color": "#2a3f5f"
          },
          "geo": {
           "bgcolor": "white",
           "lakecolor": "white",
           "landcolor": "#E5ECF6",
           "showlakes": true,
           "showland": true,
           "subunitcolor": "white"
          },
          "hoverlabel": {
           "align": "left"
          },
          "hovermode": "closest",
          "mapbox": {
           "style": "light"
          },
          "paper_bgcolor": "white",
          "plot_bgcolor": "#E5ECF6",
          "polar": {
           "angularaxis": {
            "gridcolor": "white",
            "linecolor": "white",
            "ticks": ""
           },
           "bgcolor": "#E5ECF6",
           "radialaxis": {
            "gridcolor": "white",
            "linecolor": "white",
            "ticks": ""
           }
          },
          "scene": {
           "xaxis": {
            "backgroundcolor": "#E5ECF6",
            "gridcolor": "white",
            "gridwidth": 2,
            "linecolor": "white",
            "showbackground": true,
            "ticks": "",
            "zerolinecolor": "white"
           },
           "yaxis": {
            "backgroundcolor": "#E5ECF6",
            "gridcolor": "white",
            "gridwidth": 2,
            "linecolor": "white",
            "showbackground": true,
            "ticks": "",
            "zerolinecolor": "white"
           },
           "zaxis": {
            "backgroundcolor": "#E5ECF6",
            "gridcolor": "white",
            "gridwidth": 2,
            "linecolor": "white",
            "showbackground": true,
            "ticks": "",
            "zerolinecolor": "white"
           }
          },
          "shapedefaults": {
           "line": {
            "color": "#2a3f5f"
           }
          },
          "ternary": {
           "aaxis": {
            "gridcolor": "white",
            "linecolor": "white",
            "ticks": ""
           },
           "baxis": {
            "gridcolor": "white",
            "linecolor": "white",
            "ticks": ""
           },
           "bgcolor": "#E5ECF6",
           "caxis": {
            "gridcolor": "white",
            "linecolor": "white",
            "ticks": ""
           }
          },
          "title": {
           "x": 0.05
          },
          "xaxis": {
           "automargin": true,
           "gridcolor": "white",
           "linecolor": "white",
           "ticks": "",
           "title": {
            "standoff": 15
           },
           "zerolinecolor": "white",
           "zerolinewidth": 2
          },
          "yaxis": {
           "automargin": true,
           "gridcolor": "white",
           "linecolor": "white",
           "ticks": "",
           "title": {
            "standoff": 15
           },
           "zerolinecolor": "white",
           "zerolinewidth": 2
          }
         }
        },
        "title": {
         "text": "Sunburst plot of points>=95/100 across country and variety"
        },
        "width": 1200
       }
      },
      "text/html": [
       "<div>                            <div id=\"05981bcc-71ca-4c29-b039-9929a8552a4d\" class=\"plotly-graph-div\" style=\"height:600px; width:1200px;\"></div>            <script type=\"text/javascript\">                require([\"plotly\"], function(Plotly) {                    window.PLOTLYENV=window.PLOTLYENV || {};                                    if (document.getElementById(\"05981bcc-71ca-4c29-b039-9929a8552a4d\")) {                    Plotly.newPlot(                        \"05981bcc-71ca-4c29-b039-9929a8552a4d\",                        [{\"branchvalues\": \"total\", \"customdata\": [[\"Portugal\"], [\"Italy\"], [\"US\"], [\"Portugal\"], [\"Italy\"], [\"France\"], [\"Austria\"], [\"Argentina\"], [\"Australia\"], [\"US\"], [\"Austria\"], [\"US\"], [\"France\"], [\"Italy\"], [\"Italy\"], [\"South Africa\"], [\"France\"], [\"France\"], [\"Australia\"], [\"Spain\"], [\"Portugal\"], [\"Australia\"], [\"Australia\"], [\"US\"], [\"US\"], [\"Austria\"], [\"Australia\"], [\"South Africa\"], [\"Portugal\"], [\"New Zealand\"], [\"Italy\"], [\"Germany\"], [\"Austria\"], [\"France\"], [\"Australia\"], [\"Spain\"], [\"US\"], [\"New Zealand\"], [\"Italy\"], [\"France\"], [\"Australia\"], [\"Austria\"], [\"US\"], [\"US\"], [\"US\"], [\"US\"], [\"Hungary\"], [\"US\"], [\"US\"], [\"Italy\"], [\"Italy\"], [\"France\"], [\"US\"], [\"France\"], [\"Spain\"], [\"Austria\"], [\"US\"], [\"US\"], [\"US\"], [\"US\"], [\"Australia\"], [\"US\"], [\"France\"], [\"Austria\"], [\"France\"], [\"US\"], [\"Hungary\"], [\"New Zealand\"], [\"France\"], [\"Italy\"], [\"Chile\"], [\"Hungary\"], [\"Australia\"], [\"Germany\"], [\"France\"], [\"Italy\"], [\"Germany\"], [\"Italy\"], [\"US\"], [\"Austria\"], [\"US\"], [\"Italy\"], [\"Italy\"], [\"Portugal\"], [\"US\"], [\"Austria\"], [\"US\"], [\"Italy\"], [\"France\"], [\"South Africa\"], [\"Austria\"], [\"France\"], [\"Italy\"], [\"Argentina\"], [\"Spain\"], [\"France\"], [\"England\"], [\"US\"], [\"Italy\"], [\"South Africa\"], [\"Hungary\"], [\"France\"], [\"England\"], [\"US\"], [\"Chile\"], [\"Italy\"], [\"Spain\"], [\"Austria\"], [\"US\"], [\"US\"], [\"Portugal\"], [\"Australia\"], [\"Austria\"], [\"Spain\"], [\"Australia\"], [\"Spain\"], [\"US\"], [\"Spain\"], [\"Portugal\"], [\"US\"], [\"Italy\"], [\"US\"], [\"Italy\"], [\"Argentina\"], [\"Australia\"], [\"Australia\"], [\"Italy\"], [\"US\"], [\"France\"], [\"Spain\"], [\"Italy\"], [\"US\"], [\"Italy\"], [\"US\"], [\"US\"], [\"France\"], [\"Italy\"], [\"US\"], [\"France\"], [\"Italy\"], [\"US\"], [\"Spain\"], [\"France\"], [\"Argentina\"], [\"Italy\"], [\"France\"], [\"US\"], [\"France\"], [\"Australia\"], [\"Spain\"], [\"Australia\"], [\"US\"], [\"England\"], [\"Italy\"], [\"US\"], [\"US\"], [\"Germany\"], [\"France\"], [\"Austria\"], [\"France\"], [\"US\"], [\"Australia\"], [\"US\"], [\"Spain\"], [\"Italy\"], [\"Argentina\"], [\"Portugal\"], [\"US\"], [\"US\"], [\"US\"]], \"domain\": {\"x\": [0.0, 1.0], \"y\": [0.0, 1.0]}, \"hovertemplate\": \"labels=%{label}<br>points=%{value}<br>parent=%{parent}<br>id=%{id}<br>country=%{customdata[0]}<extra></extra>\", \"ids\": [\"Portugal/Verdelho\", \"Italy/Cabernet Sauvignon-Merlot\", \"US/Cabernet Franc\", \"Portugal/Bual\", \"Italy/Aglianico\", \"France/Alsace white blend\", \"Austria/Blaufr\\u00e4nkisch\", \"Argentina/Bordeaux-style Red Blend\", \"Australia/Muscadel\", \"US/Scheurebe\", \"Austria/Scheurebe\", \"US/Sauvignon Blanc\", \"France/Sauvignon Blanc\", \"Italy/Sauvignon\", \"Italy/Sangiovese\", \"South Africa/Rh\\u00f4ne-style Red Blend\", \"France/Rh\\u00f4ne-style Red Blend\", \"France/Semillon-Sauvignon Blanc\", \"Australia/Red Blend\", \"Spain\", \"Portugal/Port\", \"Australia/Muscat\", \"Australia/Muscadelle\", \"US/Moscato\", \"US/Shiraz\", \"Austria/St. Laurent\", \"Australia/Shiraz-Viognier\", \"South Africa\", \"Portugal\", \"New Zealand\", \"Italy\", \"Germany\", \"Austria/Welschriesling\", \"France/Viognier\", \"Australia/Shiraz-Cabernet Sauvignon\", \"Spain/Tempranillo Blend\", \"US/Syrah-Grenache\", \"New Zealand/Syrah\", \"Italy/Syrah\", \"France/Syrah\", \"Australia/Syrah\", \"Austria/Gr\\u00fcner Veltliner\", \"US/Sparkling Blend\", \"US/Tempranillo\", \"US/Grenache Blend\", \"US\", \"Hungary/Furmint\", \"US/Cabernet Sauvignon\", \"US/Fum\\u00e9 Blanc\", \"Italy/Corvina, Rondinella, Molinara\", \"Italy/Cabernet Franc\", \"France/Chenin Blanc\", \"US/G-S-M\", \"France/Chardonnay\", \"Spain/Garnacha\", \"Austria/Gelber Traminer\", \"US/Bordeaux-style Red Blend\", \"US/Grenache\", \"US/Cabernet\", \"US/Gew\\u00fcrztraminer\", \"Australia/Cabernet-Shiraz\", \"US/Cabernet Sauvignon-Syrah\", \"France/Champagne Blend\", \"Austria/Austrian white blend\", \"France/Bordeaux-style White Blend\", \"US/Cabernet Blend\", \"Hungary/White Blend\", \"New Zealand/Bordeaux-style Red Blend\", \"France/Provence red blend\", \"Italy/Prugnolo Gentile\", \"Chile/Red Blend\", \"Hungary/Tokaji\", \"Australia/Cabernet Sauvignon\", \"Germany/Sp\\u00e4tburgunder\", \"France/Tannat\", \"Italy/Sangiovese Grosso\", \"Germany/Silvaner\", \"Italy/Carricante\", \"US/Syrah\", \"Austria/Chardonnay\", \"US/Champagne Blend\", \"Italy/Friulano\", \"Italy/Teroldego\", \"Portugal/Portuguese White\", \"US/Merlot\", \"Austria\", \"US/Mission\", \"Italy/Merlot\", \"France/Marsanne\", \"South Africa/Muscat\", \"Austria/Pinot Noir\", \"France/Bordeaux-style Red Blend\", \"Italy/Pinot Bianco\", \"Argentina\", \"Spain/Tinta del Pais\", \"France/Red Blend\", \"England/Sparkling Blend\", \"US/Malbec\", \"Italy/Cabernet Sauvignon\", \"South Africa/Bordeaux-style Red Blend\", \"Hungary\", \"France\", \"England\", \"US/S\\u00e9millon\", \"Chile\", \"Italy/Verdicchio\", \"Spain/Tempranillo\", \"Austria/Traminer\", \"US/Bordeaux-style White Blend\", \"US/Viognier\", \"Portugal/Touriga Nacional\", \"Australia/Tokay\", \"Austria/White Blend\", \"Spain/Tinto del Pais\", \"Australia\", \"Spain/Tinto Fino\", \"US/White Blend\", \"Spain/Tinta de Toro\", \"Portugal/Terrantez\", \"US/White Riesling\", \"Italy/Zibibbo\", \"US/Zinfandel\", \"Italy/White Blend\", \"Argentina/Cabernet Sauvignon-Malbec\", \"Australia/Grenache\", \"Australia/Cabernet Sauvignon-Shiraz\", \"Italy/Picolit\", \"US/Petite Sirah\", \"France/Petit Manseng\", \"Spain/Pedro Xim\\u00e9nez\", \"Italy/Nerello Mascalese\", \"US/Nebbiolo\", \"Italy/Nebbiolo\", \"US/Muscat Canelli\", \"US/Muscat\", \"France/Muscat\", \"Italy/Garganega\", \"US/Mourv\\u00e8dre\", \"France/Gew\\u00fcrztraminer\", \"Italy/Montepulciano\", \"US/Monastrell\", \"Spain/Monastrell\", \"France/Malbec\", \"Argentina/Malbec\", \"Italy/Kerner\", \"France/Pinot Gris\", \"US/Cabernet Sauvignon-Merlot\", \"France/Pinot Noir\", \"Australia/Port\", \"Spain/Carignan\", \"Australia/Shiraz\", \"US/Semillon-Sauvignon Blanc\", \"England/Chardonnay\", \"Italy/Sagrantino\", \"US/Ros\\u00e9\", \"US/Riesling\", \"Germany/Riesling\", \"France/Riesling\", \"Austria/Riesling\", \"France/Rh\\u00f4ne-style White Blend\", \"US/Rh\\u00f4ne-style Red Blend\", \"Australia/Rh\\u00f4ne-style Red Blend\", \"US/Red Blend\", \"Spain/Red Blend\", \"Italy/Red Blend\", \"Argentina/Red Blend\", \"Portugal/Portuguese Red\", \"US/Port\", \"US/Pinot Noir\", \"US/Chardonnay\"], \"labels\": [\"Verdelho\", \"Cabernet Sauvignon-Merlot\", \"Cabernet Franc\", \"Bual\", \"Aglianico\", \"Alsace white blend\", \"Blaufr\\u00e4nkisch\", \"Bordeaux-style Red Blend\", \"Muscadel\", \"Scheurebe\", \"Scheurebe\", \"Sauvignon Blanc\", \"Sauvignon Blanc\", \"Sauvignon\", \"Sangiovese\", \"Rh\\u00f4ne-style Red Blend\", \"Rh\\u00f4ne-style Red Blend\", \"Semillon-Sauvignon Blanc\", \"Red Blend\", \"Spain\", \"Port\", \"Muscat\", \"Muscadelle\", \"Moscato\", \"Shiraz\", \"St. Laurent\", \"Shiraz-Viognier\", \"South Africa\", \"Portugal\", \"New Zealand\", \"Italy\", \"Germany\", \"Welschriesling\", \"Viognier\", \"Shiraz-Cabernet Sauvignon\", \"Tempranillo Blend\", \"Syrah-Grenache\", \"Syrah\", \"Syrah\", \"Syrah\", \"Syrah\", \"Gr\\u00fcner Veltliner\", \"Sparkling Blend\", \"Tempranillo\", \"Grenache Blend\", \"US\", \"Furmint\", \"Cabernet Sauvignon\", \"Fum\\u00e9 Blanc\", \"Corvina, Rondinella, Molinara\", \"Cabernet Franc\", \"Chenin Blanc\", \"G-S-M\", \"Chardonnay\", \"Garnacha\", \"Gelber Traminer\", \"Bordeaux-style Red Blend\", \"Grenache\", \"Cabernet\", \"Gew\\u00fcrztraminer\", \"Cabernet-Shiraz\", \"Cabernet Sauvignon-Syrah\", \"Champagne Blend\", \"Austrian white blend\", \"Bordeaux-style White Blend\", \"Cabernet Blend\", \"White Blend\", \"Bordeaux-style Red Blend\", \"Provence red blend\", \"Prugnolo Gentile\", \"Red Blend\", \"Tokaji\", \"Cabernet Sauvignon\", \"Sp\\u00e4tburgunder\", \"Tannat\", \"Sangiovese Grosso\", \"Silvaner\", \"Carricante\", \"Syrah\", \"Chardonnay\", \"Champagne Blend\", \"Friulano\", \"Teroldego\", \"Portuguese White\", \"Merlot\", \"Austria\", \"Mission\", \"Merlot\", \"Marsanne\", \"Muscat\", \"Pinot Noir\", \"Bordeaux-style Red Blend\", \"Pinot Bianco\", \"Argentina\", \"Tinta del Pais\", \"Red Blend\", \"Sparkling Blend\", \"Malbec\", \"Cabernet Sauvignon\", \"Bordeaux-style Red Blend\", \"Hungary\", \"France\", \"England\", \"S\\u00e9millon\", \"Chile\", \"Verdicchio\", \"Tempranillo\", \"Traminer\", \"Bordeaux-style White Blend\", \"Viognier\", \"Touriga Nacional\", \"Tokay\", \"White Blend\", \"Tinto del Pais\", \"Australia\", \"Tinto Fino\", \"White Blend\", \"Tinta de Toro\", \"Terrantez\", \"White Riesling\", \"Zibibbo\", \"Zinfandel\", \"White Blend\", \"Cabernet Sauvignon-Malbec\", \"Grenache\", \"Cabernet Sauvignon-Shiraz\", \"Picolit\", \"Petite Sirah\", \"Petit Manseng\", \"Pedro Xim\\u00e9nez\", \"Nerello Mascalese\", \"Nebbiolo\", \"Nebbiolo\", \"Muscat Canelli\", \"Muscat\", \"Muscat\", \"Garganega\", \"Mourv\\u00e8dre\", \"Gew\\u00fcrztraminer\", \"Montepulciano\", \"Monastrell\", \"Monastrell\", \"Malbec\", \"Malbec\", \"Kerner\", \"Pinot Gris\", \"Cabernet Sauvignon-Merlot\", \"Pinot Noir\", \"Port\", \"Carignan\", \"Shiraz\", \"Semillon-Sauvignon Blanc\", \"Chardonnay\", \"Sagrantino\", \"Ros\\u00e9\", \"Riesling\", \"Riesling\", \"Riesling\", \"Riesling\", \"Rh\\u00f4ne-style White Blend\", \"Rh\\u00f4ne-style Red Blend\", \"Rh\\u00f4ne-style Red Blend\", \"Red Blend\", \"Red Blend\", \"Red Blend\", \"Red Blend\", \"Portuguese Red\", \"Port\", \"Pinot Noir\", \"Chardonnay\"], \"marker\": {\"colors\": [\"#636efa\", \"#EF553B\", \"#00cc96\", \"#636efa\", \"#EF553B\", \"#ab63fa\", \"#FFA15A\", \"#19d3f3\", \"#FF6692\", \"#00cc96\", \"#FFA15A\", \"#00cc96\", \"#ab63fa\", \"#EF553B\", \"#EF553B\", \"#B6E880\", \"#ab63fa\", \"#ab63fa\", \"#FF6692\", \"#FF97FF\", \"#636efa\", \"#FF6692\", \"#FF6692\", \"#00cc96\", \"#00cc96\", \"#FFA15A\", \"#FF6692\", \"#B6E880\", \"#636efa\", \"#FECB52\", \"#EF553B\", \"#636efa\", \"#FFA15A\", \"#ab63fa\", \"#FF6692\", \"#FF97FF\", \"#00cc96\", \"#FECB52\", \"#EF553B\", \"#ab63fa\", \"#FF6692\", \"#FFA15A\", \"#00cc96\", \"#00cc96\", \"#00cc96\", \"#00cc96\", \"#EF553B\", \"#00cc96\", \"#00cc96\", \"#EF553B\", \"#EF553B\", \"#ab63fa\", \"#00cc96\", \"#ab63fa\", \"#FF97FF\", \"#FFA15A\", \"#00cc96\", \"#00cc96\", \"#00cc96\", \"#00cc96\", \"#FF6692\", \"#00cc96\", \"#ab63fa\", \"#FFA15A\", \"#ab63fa\", \"#00cc96\", \"#EF553B\", \"#FECB52\", \"#ab63fa\", \"#EF553B\", \"#00cc96\", \"#EF553B\", \"#FF6692\", \"#636efa\", \"#ab63fa\", \"#EF553B\", \"#636efa\", \"#EF553B\", \"#00cc96\", \"#FFA15A\", \"#00cc96\", \"#EF553B\", \"#EF553B\", \"#636efa\", \"#00cc96\", \"#FFA15A\", \"#00cc96\", \"#EF553B\", \"#ab63fa\", \"#B6E880\", \"#FFA15A\", \"#ab63fa\", \"#EF553B\", \"#19d3f3\", \"#FF97FF\", \"#ab63fa\", \"#ab63fa\", \"#00cc96\", \"#EF553B\", \"#B6E880\", \"#EF553B\", \"#ab63fa\", \"#ab63fa\", \"#00cc96\", \"#00cc96\", \"#EF553B\", \"#FF97FF\", \"#FFA15A\", \"#00cc96\", \"#00cc96\", \"#636efa\", \"#FF6692\", \"#FFA15A\", \"#FF97FF\", \"#FF6692\", \"#FF97FF\", \"#00cc96\", \"#FF97FF\", \"#636efa\", \"#00cc96\", \"#EF553B\", \"#00cc96\", \"#EF553B\", \"#19d3f3\", \"#FF6692\", \"#FF6692\", \"#EF553B\", \"#00cc96\", \"#ab63fa\", \"#FF97FF\", \"#EF553B\", \"#00cc96\", \"#EF553B\", \"#00cc96\", \"#00cc96\", \"#ab63fa\", \"#EF553B\", \"#00cc96\", \"#ab63fa\", \"#EF553B\", \"#00cc96\", \"#FF97FF\", \"#ab63fa\", \"#19d3f3\", \"#EF553B\", \"#ab63fa\", \"#00cc96\", \"#ab63fa\", \"#FF6692\", \"#FF97FF\", \"#FF6692\", \"#00cc96\", \"#ab63fa\", \"#EF553B\", \"#00cc96\", \"#00cc96\", \"#636efa\", \"#ab63fa\", \"#FFA15A\", \"#ab63fa\", \"#00cc96\", \"#FF6692\", \"#00cc96\", \"#FF97FF\", \"#EF553B\", \"#19d3f3\", \"#636efa\", \"#00cc96\", \"#00cc96\", \"#00cc96\"]}, \"name\": \"\", \"parents\": [\"Portugal\", \"Italy\", \"US\", \"Portugal\", \"Italy\", \"France\", \"Austria\", \"Argentina\", \"Australia\", \"US\", \"Austria\", \"US\", \"France\", \"Italy\", \"Italy\", \"South Africa\", \"France\", \"France\", \"Australia\", \"\", \"Portugal\", \"Australia\", \"Australia\", \"US\", \"US\", \"Austria\", \"Australia\", \"\", \"\", \"\", \"\", \"\", \"Austria\", \"France\", \"Australia\", \"Spain\", \"US\", \"New Zealand\", \"Italy\", \"France\", \"Australia\", \"Austria\", \"US\", \"US\", \"US\", \"\", \"Hungary\", \"US\", \"US\", \"Italy\", \"Italy\", \"France\", \"US\", \"France\", \"Spain\", \"Austria\", \"US\", \"US\", \"US\", \"US\", \"Australia\", \"US\", \"France\", \"Austria\", \"France\", \"US\", \"Hungary\", \"New Zealand\", \"France\", \"Italy\", \"Chile\", \"Hungary\", \"Australia\", \"Germany\", \"France\", \"Italy\", \"Germany\", \"Italy\", \"US\", \"Austria\", \"US\", \"Italy\", \"Italy\", \"Portugal\", \"US\", \"\", \"US\", \"Italy\", \"France\", \"South Africa\", \"Austria\", \"France\", \"Italy\", \"\", \"Spain\", \"France\", \"England\", \"US\", \"Italy\", \"South Africa\", \"\", \"\", \"\", \"US\", \"\", \"Italy\", \"Spain\", \"Austria\", \"US\", \"US\", \"Portugal\", \"Australia\", \"Austria\", \"Spain\", \"\", \"Spain\", \"US\", \"Spain\", \"Portugal\", \"US\", \"Italy\", \"US\", \"Italy\", \"Argentina\", \"Australia\", \"Australia\", \"Italy\", \"US\", \"France\", \"Spain\", \"Italy\", \"US\", \"Italy\", \"US\", \"US\", \"France\", \"Italy\", \"US\", \"France\", \"Italy\", \"US\", \"Spain\", \"France\", \"Argentina\", \"Italy\", \"France\", \"US\", \"France\", \"Australia\", \"Spain\", \"Australia\", \"US\", \"England\", \"Italy\", \"US\", \"US\", \"Germany\", \"France\", \"Austria\", \"France\", \"US\", \"Australia\", \"US\", \"Spain\", \"Italy\", \"Argentina\", \"Portugal\", \"US\", \"US\", \"US\"], \"type\": \"sunburst\", \"values\": [96, 95, 380, 288, 477, 1047, 380, 287, 291, 285, 676, 761, 476, 95, 10521, 190, 1052, 95, 190, 13191, 8330, 1360, 197, 475, 190, 95, 673, 475, 15107, 190, 71552, 10897, 388, 95, 95, 1623, 95, 95, 678, 2408, 859, 3046, 4497, 190, 190, 222483, 96, 64578, 665, 1809, 2309, 2101, 380, 24573, 95, 95, 15611, 1145, 95, 380, 192, 1339, 14452, 286, 16039, 2603, 288, 95, 190, 696, 285, 383, 572, 380, 857, 6205, 96, 190, 16328, 578, 290, 95, 285, 95, 3623, 16978, 192, 5810, 1431, 190, 382, 50710, 95, 2962, 96, 763, 190, 190, 285, 95, 767, 148730, 285, 951, 285, 95, 4488, 288, 190, 666, 190, 872, 765, 574, 12390, 1352, 856, 2570, 95, 191, 855, 3807, 1534, 95, 285, 96, 671, 285, 380, 191, 667, 95, 22658, 95, 288, 382, 95, 190, 2378, 380, 95, 194, 1712, 2390, 95, 2003, 287, 18622, 285, 383, 6328, 766, 95, 856, 191, 1902, 10421, 6869, 9999, 95, 761, 95, 6505, 1625, 14001, 190, 6013, 95, 62794, 26991]}],                        {\"height\": 600, \"legend\": {\"tracegroupgap\": 0}, \"template\": {\"data\": {\"bar\": [{\"error_x\": {\"color\": \"#2a3f5f\"}, \"error_y\": {\"color\": \"#2a3f5f\"}, \"marker\": {\"line\": {\"color\": \"#E5ECF6\", \"width\": 0.5}}, \"type\": \"bar\"}], \"barpolar\": [{\"marker\": {\"line\": {\"color\": \"#E5ECF6\", \"width\": 0.5}}, \"type\": \"barpolar\"}], \"carpet\": [{\"aaxis\": {\"endlinecolor\": \"#2a3f5f\", \"gridcolor\": \"white\", \"linecolor\": \"white\", \"minorgridcolor\": \"white\", \"startlinecolor\": \"#2a3f5f\"}, \"baxis\": {\"endlinecolor\": \"#2a3f5f\", \"gridcolor\": \"white\", \"linecolor\": \"white\", \"minorgridcolor\": \"white\", \"startlinecolor\": \"#2a3f5f\"}, \"type\": \"carpet\"}], \"choropleth\": [{\"colorbar\": {\"outlinewidth\": 0, \"ticks\": \"\"}, \"type\": \"choropleth\"}], \"contour\": [{\"colorbar\": {\"outlinewidth\": 0, \"ticks\": \"\"}, \"colorscale\": [[0.0, \"#0d0887\"], [0.1111111111111111, \"#46039f\"], [0.2222222222222222, \"#7201a8\"], [0.3333333333333333, \"#9c179e\"], [0.4444444444444444, \"#bd3786\"], [0.5555555555555556, \"#d8576b\"], [0.6666666666666666, \"#ed7953\"], [0.7777777777777778, \"#fb9f3a\"], [0.8888888888888888, \"#fdca26\"], [1.0, \"#f0f921\"]], \"type\": \"contour\"}], \"contourcarpet\": [{\"colorbar\": {\"outlinewidth\": 0, \"ticks\": \"\"}, \"type\": \"contourcarpet\"}], \"heatmap\": [{\"colorbar\": {\"outlinewidth\": 0, \"ticks\": \"\"}, \"colorscale\": [[0.0, \"#0d0887\"], [0.1111111111111111, \"#46039f\"], [0.2222222222222222, \"#7201a8\"], [0.3333333333333333, \"#9c179e\"], [0.4444444444444444, \"#bd3786\"], [0.5555555555555556, \"#d8576b\"], [0.6666666666666666, \"#ed7953\"], [0.7777777777777778, \"#fb9f3a\"], [0.8888888888888888, \"#fdca26\"], [1.0, \"#f0f921\"]], \"type\": \"heatmap\"}], \"heatmapgl\": [{\"colorbar\": {\"outlinewidth\": 0, \"ticks\": \"\"}, \"colorscale\": [[0.0, \"#0d0887\"], [0.1111111111111111, \"#46039f\"], [0.2222222222222222, \"#7201a8\"], [0.3333333333333333, \"#9c179e\"], [0.4444444444444444, \"#bd3786\"], [0.5555555555555556, \"#d8576b\"], [0.6666666666666666, \"#ed7953\"], [0.7777777777777778, \"#fb9f3a\"], [0.8888888888888888, \"#fdca26\"], [1.0, \"#f0f921\"]], \"type\": \"heatmapgl\"}], \"histogram\": [{\"marker\": {\"colorbar\": {\"outlinewidth\": 0, \"ticks\": \"\"}}, \"type\": \"histogram\"}], \"histogram2d\": [{\"colorbar\": {\"outlinewidth\": 0, \"ticks\": \"\"}, \"colorscale\": [[0.0, \"#0d0887\"], [0.1111111111111111, \"#46039f\"], [0.2222222222222222, \"#7201a8\"], [0.3333333333333333, \"#9c179e\"], [0.4444444444444444, \"#bd3786\"], [0.5555555555555556, \"#d8576b\"], [0.6666666666666666, \"#ed7953\"], [0.7777777777777778, \"#fb9f3a\"], [0.8888888888888888, \"#fdca26\"], [1.0, \"#f0f921\"]], \"type\": \"histogram2d\"}], \"histogram2dcontour\": [{\"colorbar\": {\"outlinewidth\": 0, \"ticks\": \"\"}, \"colorscale\": [[0.0, \"#0d0887\"], [0.1111111111111111, \"#46039f\"], [0.2222222222222222, \"#7201a8\"], [0.3333333333333333, \"#9c179e\"], [0.4444444444444444, \"#bd3786\"], [0.5555555555555556, \"#d8576b\"], [0.6666666666666666, \"#ed7953\"], [0.7777777777777778, \"#fb9f3a\"], [0.8888888888888888, \"#fdca26\"], [1.0, \"#f0f921\"]], \"type\": \"histogram2dcontour\"}], \"mesh3d\": [{\"colorbar\": {\"outlinewidth\": 0, \"ticks\": \"\"}, \"type\": \"mesh3d\"}], \"parcoords\": [{\"line\": {\"colorbar\": {\"outlinewidth\": 0, \"ticks\": \"\"}}, \"type\": \"parcoords\"}], \"pie\": [{\"automargin\": true, \"type\": \"pie\"}], \"scatter\": [{\"marker\": {\"colorbar\": {\"outlinewidth\": 0, \"ticks\": \"\"}}, \"type\": \"scatter\"}], \"scatter3d\": [{\"line\": {\"colorbar\": {\"outlinewidth\": 0, \"ticks\": \"\"}}, \"marker\": {\"colorbar\": {\"outlinewidth\": 0, \"ticks\": \"\"}}, \"type\": \"scatter3d\"}], \"scattercarpet\": [{\"marker\": {\"colorbar\": {\"outlinewidth\": 0, \"ticks\": \"\"}}, \"type\": \"scattercarpet\"}], \"scattergeo\": [{\"marker\": {\"colorbar\": {\"outlinewidth\": 0, \"ticks\": \"\"}}, \"type\": \"scattergeo\"}], \"scattergl\": [{\"marker\": {\"colorbar\": {\"outlinewidth\": 0, \"ticks\": \"\"}}, \"type\": \"scattergl\"}], \"scattermapbox\": [{\"marker\": {\"colorbar\": {\"outlinewidth\": 0, \"ticks\": \"\"}}, \"type\": \"scattermapbox\"}], \"scatterpolar\": [{\"marker\": {\"colorbar\": {\"outlinewidth\": 0, \"ticks\": \"\"}}, \"type\": \"scatterpolar\"}], \"scatterpolargl\": [{\"marker\": {\"colorbar\": {\"outlinewidth\": 0, \"ticks\": \"\"}}, \"type\": \"scatterpolargl\"}], \"scatterternary\": [{\"marker\": {\"colorbar\": {\"outlinewidth\": 0, \"ticks\": \"\"}}, \"type\": \"scatterternary\"}], \"surface\": [{\"colorbar\": {\"outlinewidth\": 0, \"ticks\": \"\"}, \"colorscale\": [[0.0, \"#0d0887\"], [0.1111111111111111, \"#46039f\"], [0.2222222222222222, \"#7201a8\"], [0.3333333333333333, \"#9c179e\"], [0.4444444444444444, \"#bd3786\"], [0.5555555555555556, \"#d8576b\"], [0.6666666666666666, \"#ed7953\"], [0.7777777777777778, \"#fb9f3a\"], [0.8888888888888888, \"#fdca26\"], [1.0, \"#f0f921\"]], \"type\": \"surface\"}], \"table\": [{\"cells\": {\"fill\": {\"color\": \"#EBF0F8\"}, \"line\": {\"color\": \"white\"}}, \"header\": {\"fill\": {\"color\": \"#C8D4E3\"}, \"line\": {\"color\": \"white\"}}, \"type\": \"table\"}]}, \"layout\": {\"annotationdefaults\": {\"arrowcolor\": \"#2a3f5f\", \"arrowhead\": 0, \"arrowwidth\": 1}, \"autotypenumbers\": \"strict\", \"coloraxis\": {\"colorbar\": {\"outlinewidth\": 0, \"ticks\": \"\"}}, \"colorscale\": {\"diverging\": [[0, \"#8e0152\"], [0.1, \"#c51b7d\"], [0.2, \"#de77ae\"], [0.3, \"#f1b6da\"], [0.4, \"#fde0ef\"], [0.5, \"#f7f7f7\"], [0.6, \"#e6f5d0\"], [0.7, \"#b8e186\"], [0.8, \"#7fbc41\"], [0.9, \"#4d9221\"], [1, \"#276419\"]], \"sequential\": [[0.0, \"#0d0887\"], [0.1111111111111111, \"#46039f\"], [0.2222222222222222, \"#7201a8\"], [0.3333333333333333, \"#9c179e\"], [0.4444444444444444, \"#bd3786\"], [0.5555555555555556, \"#d8576b\"], [0.6666666666666666, \"#ed7953\"], [0.7777777777777778, \"#fb9f3a\"], [0.8888888888888888, \"#fdca26\"], [1.0, \"#f0f921\"]], \"sequentialminus\": [[0.0, \"#0d0887\"], [0.1111111111111111, \"#46039f\"], [0.2222222222222222, \"#7201a8\"], [0.3333333333333333, \"#9c179e\"], [0.4444444444444444, \"#bd3786\"], [0.5555555555555556, \"#d8576b\"], [0.6666666666666666, \"#ed7953\"], [0.7777777777777778, \"#fb9f3a\"], [0.8888888888888888, \"#fdca26\"], [1.0, \"#f0f921\"]]}, \"colorway\": [\"#636efa\", \"#EF553B\", \"#00cc96\", \"#ab63fa\", \"#FFA15A\", \"#19d3f3\", \"#FF6692\", \"#B6E880\", \"#FF97FF\", \"#FECB52\"], \"font\": {\"color\": \"#2a3f5f\"}, \"geo\": {\"bgcolor\": \"white\", \"lakecolor\": \"white\", \"landcolor\": \"#E5ECF6\", \"showlakes\": true, \"showland\": true, \"subunitcolor\": \"white\"}, \"hoverlabel\": {\"align\": \"left\"}, \"hovermode\": \"closest\", \"mapbox\": {\"style\": \"light\"}, \"paper_bgcolor\": \"white\", \"plot_bgcolor\": \"#E5ECF6\", \"polar\": {\"angularaxis\": {\"gridcolor\": \"white\", \"linecolor\": \"white\", \"ticks\": \"\"}, \"bgcolor\": \"#E5ECF6\", \"radialaxis\": {\"gridcolor\": \"white\", \"linecolor\": \"white\", \"ticks\": \"\"}}, \"scene\": {\"xaxis\": {\"backgroundcolor\": \"#E5ECF6\", \"gridcolor\": \"white\", \"gridwidth\": 2, \"linecolor\": \"white\", \"showbackground\": true, \"ticks\": \"\", \"zerolinecolor\": \"white\"}, \"yaxis\": {\"backgroundcolor\": \"#E5ECF6\", \"gridcolor\": \"white\", \"gridwidth\": 2, \"linecolor\": \"white\", \"showbackground\": true, \"ticks\": \"\", \"zerolinecolor\": \"white\"}, \"zaxis\": {\"backgroundcolor\": \"#E5ECF6\", \"gridcolor\": \"white\", \"gridwidth\": 2, \"linecolor\": \"white\", \"showbackground\": true, \"ticks\": \"\", \"zerolinecolor\": \"white\"}}, \"shapedefaults\": {\"line\": {\"color\": \"#2a3f5f\"}}, \"ternary\": {\"aaxis\": {\"gridcolor\": \"white\", \"linecolor\": \"white\", \"ticks\": \"\"}, \"baxis\": {\"gridcolor\": \"white\", \"linecolor\": \"white\", \"ticks\": \"\"}, \"bgcolor\": \"#E5ECF6\", \"caxis\": {\"gridcolor\": \"white\", \"linecolor\": \"white\", \"ticks\": \"\"}}, \"title\": {\"x\": 0.05}, \"xaxis\": {\"automargin\": true, \"gridcolor\": \"white\", \"linecolor\": \"white\", \"ticks\": \"\", \"title\": {\"standoff\": 15}, \"zerolinecolor\": \"white\", \"zerolinewidth\": 2}, \"yaxis\": {\"automargin\": true, \"gridcolor\": \"white\", \"linecolor\": \"white\", \"ticks\": \"\", \"title\": {\"standoff\": 15}, \"zerolinecolor\": \"white\", \"zerolinewidth\": 2}}}, \"title\": {\"text\": \"Sunburst plot of points>=95/100 across country and variety\"}, \"width\": 1200},                        {\"responsive\": true}                    ).then(function(){\n",
       "                            \n",
       "var gd = document.getElementById('05981bcc-71ca-4c29-b039-9929a8552a4d');\n",
       "var x = new MutationObserver(function (mutations, observer) {{\n",
       "        var display = window.getComputedStyle(gd).display;\n",
       "        if (!display || display === 'none') {{\n",
       "            console.log([gd, 'removed!']);\n",
       "            Plotly.purge(gd);\n",
       "            observer.disconnect();\n",
       "        }}\n",
       "}});\n",
       "\n",
       "// Listen for the removal of the full notebook cells\n",
       "var notebookContainer = gd.closest('#notebook-container');\n",
       "if (notebookContainer) {{\n",
       "    x.observe(notebookContainer, {childList: true});\n",
       "}}\n",
       "\n",
       "// Listen for the clearing of the current output cell\n",
       "var outputEl = gd.closest('.output');\n",
       "if (outputEl) {{\n",
       "    x.observe(outputEl, {childList: true});\n",
       "}}\n",
       "\n",
       "                        })                };                });            </script>        </div>"
      ]
     },
     "metadata": {},
     "output_type": "display_data"
    }
   ],
   "source": [
    "# Sunburst plot with plotly\n",
    "\n",
    "fig = px.sunburst(top_wine_df, path=['country', 'variety'], values='points', color='country',\n",
    "                 title=\"Sunburst plot of points>=95/100 across country and variety\", width=1200, height=600)\n",
    "fig.show()"
   ]
  },
  {
   "cell_type": "code",
   "execution_count": null,
   "metadata": {},
   "outputs": [],
   "source": []
  }
 ],
 "metadata": {
  "kernelspec": {
   "display_name": "Python 3",
   "language": "python",
   "name": "python3"
  },
  "language_info": {
   "codemirror_mode": {
    "name": "ipython",
    "version": 3
   },
   "file_extension": ".py",
   "mimetype": "text/x-python",
   "name": "python",
   "nbconvert_exporter": "python",
   "pygments_lexer": "ipython3",
   "version": "3.7.6"
  }
 },
 "nbformat": 4,
 "nbformat_minor": 5
}
