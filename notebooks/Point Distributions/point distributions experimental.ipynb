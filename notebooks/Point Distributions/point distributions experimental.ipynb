{
 "cells": [
  {
   "cell_type": "markdown",
   "id": "dc90fc79",
   "metadata": {},
   "source": [
    "# Reviewer Distribution Graphs"
   ]
  },
  {
   "cell_type": "code",
   "execution_count": 1,
   "id": "85706ca0",
   "metadata": {},
   "outputs": [],
   "source": [
    "import pandas as pd\n",
    "import numpy as np\n",
    "\n",
    "import plotly.express as px\n",
    "import plotly.figure_factory as ff\n",
    "\n"
   ]
  },
  {
   "cell_type": "code",
   "execution_count": 2,
   "id": "bbbb349e",
   "metadata": {},
   "outputs": [],
   "source": [
    "path = \"/Users/stefan/UTS/36104 DVN/DVN_AT3/data/\"\n",
    "data = pd.read_csv(path + \"winemag-data-130k-v2.csv\")"
   ]
  },
  {
   "cell_type": "code",
   "execution_count": null,
   "id": "23f1694f",
   "metadata": {},
   "outputs": [],
   "source": [
    "#data.info()\n",
    "#data.describe()\n",
    "#data"
   ]
  },
  {
   "cell_type": "code",
   "execution_count": 12,
   "id": "d4cc5317",
   "metadata": {},
   "outputs": [
    {
     "data": {
      "text/plain": [
       "count    54504.00000\n",
       "mean        88.56372\n",
       "std          3.11484\n",
       "min         80.00000\n",
       "25%         86.00000\n",
       "50%         88.00000\n",
       "75%         91.00000\n",
       "max        100.00000\n",
       "Name: points, dtype: float64"
      ]
     },
     "execution_count": 12,
     "metadata": {},
     "output_type": "execute_result"
    }
   ],
   "source": [
    "data_france = data[(data.country == \"US\")]\n",
    "data_france = data_france['points']\n",
    "\n",
    "data_france.describe()\n"
   ]
  },
  {
   "cell_type": "code",
   "execution_count": null,
   "id": "fec67ba7",
   "metadata": {},
   "outputs": [],
   "source": [
    "matt = data[(data.taster_name == \"Matt Kettmann\")]\n",
    "\n",
    "hist_data_matt = [matt[\"points\"]]\n",
    "group_labels_matt = ['distplot matt']\n",
    "\n",
    "fig = ff.create_distplot(hist_data_matt, group_labels_matt)\n",
    "\n",
    "fig.show()"
   ]
  },
  {
   "cell_type": "code",
   "execution_count": null,
   "id": "360e20ff",
   "metadata": {},
   "outputs": [],
   "source": [
    "lauren = data[(data.taster_name == \"Lauren Buzzeo\")]"
   ]
  },
  {
   "cell_type": "code",
   "execution_count": null,
   "id": "4019c2f2",
   "metadata": {},
   "outputs": [],
   "source": [
    "lauren_france = lauren[(lauren.country == \"France\")]\n",
    "lauren_france = lauren_france['points']\n",
    "\n",
    "lauren\n",
    "\n",
    "lauren_israel = lauren[(lauren.country == \"Israel\")]\n",
    "lauren_israel = lauren_israel['points']\n",
    "\n",
    "hist_data_lauren = [test, lauren_israel]\n",
    "group_labels_lauren = ['france','israel']\n",
    "\n",
    "fig = ff.create_distplot(hist_data_lauren, group_labels_lauren)\n",
    "\n",
    "fig.show()"
   ]
  },
  {
   "cell_type": "code",
   "execution_count": null,
   "id": "3bdb6782",
   "metadata": {},
   "outputs": [],
   "source": [
    "lauren_sa = lauren[(lauren.country == \"South Africa\")]\n",
    "lauren_sa = lauren_sa['points']\n",
    "\n",
    "lauren_sa\n",
    "\n"
   ]
  },
  {
   "cell_type": "code",
   "execution_count": null,
   "id": "b46f24e2",
   "metadata": {},
   "outputs": [],
   "source": [
    "df = pd.DataFrame({'2012': np.random.randn(200),\n",
    "                   '2013': np.random.randn(200)+1})\n",
    "\n",
    "fig = ff.create_distplot([df[c] for c in df.columns], df.columns, bin_size=.25)\n",
    "fig.show()"
   ]
  },
  {
   "cell_type": "code",
   "execution_count": null,
   "id": "bec70c01",
   "metadata": {},
   "outputs": [],
   "source": [
    "# plot two columns from the same dataframe\n",
    "\n",
    "fig = ff.create_distplot([lauren['points'], lauren['Unnamed: 0']], ['points','price'])\n",
    "fig.show()"
   ]
  },
  {
   "cell_type": "code",
   "execution_count": null,
   "id": "befd0f74",
   "metadata": {},
   "outputs": [],
   "source": [
    "test = lauren[(lauren.country == \"France\")].drop(lauren.columns.difference(['points']), 1).iloc[:,0]\n",
    "\n",
    "test"
   ]
  },
  {
   "cell_type": "code",
   "execution_count": null,
   "id": "6139d626",
   "metadata": {},
   "outputs": [],
   "source": [
    "lauren_france"
   ]
  },
  {
   "cell_type": "code",
   "execution_count": null,
   "id": "49bb371c",
   "metadata": {},
   "outputs": [],
   "source": [
    "# goal is to make a df with country columns and points going down ---- maybe df is not the best object to have these in\n",
    "# a combination of strings?\n",
    "\n",
    "lauren_ = pd.DataFrame()\n",
    "\n",
    "for i in lauren['country']:\n",
    "    lauren_[i] = lauren[(lauren.country == i)].drop(lauren.columns.difference(['points']), 1).iloc[:,0].reset_index(drop=True)\n",
    "\n",
    "lauren_ = lauren_.dropna(thresh=2, axis=1)"
   ]
  },
  {
   "cell_type": "code",
   "execution_count": null,
   "id": "a028460c",
   "metadata": {},
   "outputs": [],
   "source": [
    "hist_data_lauren = [lauren_['France'], lauren_['Israel'], lauren_['South Africa'], lauren_['US']]\n",
    "group_labels_lauren = ['France','Israel','South Africa','US']\n",
    "\n",
    "fig = ff.create_distplot(hist_data_lauren, group_labels_lauren, show_hist=False, show_rug=False)\n",
    "\n",
    "fig.show()"
   ]
  },
  {
   "cell_type": "code",
   "execution_count": null,
   "id": "3cd36cc2",
   "metadata": {},
   "outputs": [],
   "source": [
    "lauren_.to_csv(path + 'lauren_df.csv')"
   ]
  },
  {
   "cell_type": "code",
   "execution_count": null,
   "id": "0e392e20",
   "metadata": {},
   "outputs": [],
   "source": [
    "fig = ff.create_distplot([lauren_[c].dropna(axis=0) for c in lauren_.columns], lauren_.columns, show_hist=False, show_rug=False)\n",
    "fig.show()"
   ]
  },
  {
   "cell_type": "code",
   "execution_count": null,
   "id": "2f64e7d6",
   "metadata": {},
   "outputs": [],
   "source": [
    "lauren_.France.dropna()"
   ]
  }
 ],
 "metadata": {
  "kernelspec": {
   "display_name": "Python 3",
   "language": "python",
   "name": "python3"
  },
  "language_info": {
   "codemirror_mode": {
    "name": "ipython",
    "version": 3
   },
   "file_extension": ".py",
   "mimetype": "text/x-python",
   "name": "python",
   "nbconvert_exporter": "python",
   "pygments_lexer": "ipython3",
   "version": "3.8.8"
  }
 },
 "nbformat": 4,
 "nbformat_minor": 5
}
