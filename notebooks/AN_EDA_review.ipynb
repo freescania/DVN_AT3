{
 "cells": [
  {
   "cell_type": "code",
<<<<<<< HEAD:notebooks/AN_EDA.ipynb
   "execution_count": 8,
=======
   "execution_count": 1,
   "id": "ahead-tactics",
>>>>>>> 15f43cfdf14dbbed8cc2fe1575904b4d64d66407:notebooks/AN_EDA_review.ipynb
   "metadata": {},
   "outputs": [],
   "source": [
    "### Import Packages\n",
    "\n",
    "import pandas as pd\n",
    "import numpy as np\n",
    "import matplotlib.pyplot as plt\n",
    "import seaborn as sns\n",
    "\n",
    "%matplotlib inline"
   ]
  },
  {
   "cell_type": "code",
<<<<<<< HEAD:notebooks/AN_EDA.ipynb
   "execution_count": 9,
=======
   "execution_count": 2,
   "id": "senior-airport",
>>>>>>> 15f43cfdf14dbbed8cc2fe1575904b4d64d66407:notebooks/AN_EDA_review.ipynb
   "metadata": {},
   "outputs": [],
   "source": [
    "### Data path\n",
    "path=\"C:\\\\Users\\\\Angus\\\\Documents\\\\UTS MDSI\\\\DVN\\\\Projects\\\\DVN_AT3\\\\data\\\\raw\\\\\""
   ]
  },
  {
   "cell_type": "code",
<<<<<<< HEAD:notebooks/AN_EDA.ipynb
   "execution_count": 10,
=======
   "execution_count": 3,
   "id": "lasting-notebook",
>>>>>>> 15f43cfdf14dbbed8cc2fe1575904b4d64d66407:notebooks/AN_EDA_review.ipynb
   "metadata": {},
   "outputs": [],
   "source": [
    "# join 1 and 2 then merge\n",
    "df1 = pd.read_csv(path+\"winequality-red.csv\")\n",
    "df2 = pd.read_csv(path+\"winemag-data-130k-v2.csv\")\n",
    "df3 = pd.read_csv(path+\"winemag-data_first150k.csv\")"
   ]
  },
  {
   "cell_type": "code",
<<<<<<< HEAD:notebooks/AN_EDA.ipynb
   "execution_count": 11,
=======
   "execution_count": 20,
   "id": "reasonable-flexibility",
>>>>>>> 15f43cfdf14dbbed8cc2fe1575904b4d64d66407:notebooks/AN_EDA_review.ipynb
   "metadata": {},
   "outputs": [],
   "source": [
    "# clean reviews\n",
    "key_features = ['country', 'description', 'designation', 'points',\n",
    "       'price', 'province', 'region_1', 'region_2', 'variety', 'winery']\n",
    "\n",
    "df2_clean = df2[key_features]\n",
    "df3_clean = df3[key_features]\n",
    "\n",
    "df_rev = df2_clean.append(df3_clean)\n",
    "top_wine_df = df_rev[df_rev['points'] >= 95]\n",
    "top_varieties = top_wine_df.variety.unique()\n",
    "#variety cleaned data, otherwise too many varieties\n",
    "df_rev = df_rev.loc[df_rev['variety'].isin(top_varieties)]\n"
   ]
  },
  {
   "cell_type": "code",
   "execution_count": 37,
   "id": "naval-solomon",
   "metadata": {},
   "outputs": [],
   "source": [
    "# only df2 has title feature to get the year\n",
    "df2_focus = df2.loc[df2['variety'].isin(top_varieties)]\n",
    "# add variabel year\n",
    "year = ['1970',\t'1971',\t'1972',\t'1973',\t'1974',\t'1975',\t'1976',\t'1977',\t'1978',\t'1979',\t'1980',\n",
    "'1981',\t'1982',\t'1983',\t'1984',\t'1985',\t'1986',\t'1987',\t'1988',\t'1989',\t'1990',\t'1991',\t'1992',\n",
    "'1993',\t'1994',\t'1995',\t'1996',\t'1997',\t'1998',\t'1999',\t'2000',\t'2001',\t'2002',\t'2003',\t'2004',\n",
    "'2005',\t'2006',\t'2007',\t'2008',\t'2009',\t'2010',\t'2011',\t'2012',\t'2013',\t'2014',\t'2015',\t'2016',\n",
    "'2017',\t'2018',\t'2019',\t'2020']\n",
    "df2_focus['year'] = np.nan\n",
    "\n",
    "for i in range(0,len(df2_focus)):\n",
    "    for j in year:\n",
    "        if j in df2_focus.iloc[i,11]: \n",
    "            df2_focus.iloc[i,14] = j"
   ]
  },
  {
   "cell_type": "code",
   "execution_count": 38,
   "id": "gorgeous-bridal",
   "metadata": {},
   "outputs": [
    {
     "name": "stdout",
     "output_type": "stream",
     "text": [
      "<class 'pandas.core.frame.DataFrame'>\n",
      "Int64Index: 114142 entries, 0 to 129970\n",
      "Data columns (total 15 columns):\n",
      " #   Column                 Non-Null Count   Dtype  \n",
      "---  ------                 --------------   -----  \n",
      " 0   Unnamed: 0             114142 non-null  int64  \n",
      " 1   country                114096 non-null  object \n",
      " 2   description            114142 non-null  object \n",
      " 3   designation            81601 non-null   object \n",
      " 4   points                 114142 non-null  int64  \n",
      " 5   price                  106468 non-null  float64\n",
      " 6   province               114096 non-null  object \n",
      " 7   region_1               95804 non-null   object \n",
      " 8   region_2               47852 non-null   object \n",
      " 9   taster_name            91263 non-null   object \n",
      " 10  taster_twitter_handle  86770 non-null   object \n",
      " 11  title                  114142 non-null  object \n",
      " 12  variety                114142 non-null  object \n",
      " 13  winery                 114142 non-null  object \n",
      " 14  year                   110536 non-null  float64\n",
      "dtypes: float64(2), int64(2), object(11)\n",
      "memory usage: 13.9+ MB\n"
     ]
    }
   ],
   "source": [
    "df2_focus['year'] = df2_focus['year'].astype('float')\n",
    "df2_focus.info()"
   ]
  },
  {
   "cell_type": "code",
   "execution_count": 43,
   "id": "passing-jackson",
   "metadata": {},
   "outputs": [
    {
     "data": {
      "text/plain": [
       "array(['White Blend', 'Portuguese Red', 'Pinot Gris', 'Riesling',\n",
       "       'Pinot Noir', 'Gewürztraminer', 'Cabernet Sauvignon',\n",
       "       'Nerello Mascalese', 'Chardonnay', 'Malbec', 'Tempranillo Blend',\n",
       "       'Red Blend', 'Merlot', 'Chenin Blanc', 'Sauvignon Blanc',\n",
       "       'Bordeaux-style White Blend', 'Sangiovese', 'Cabernet Franc',\n",
       "       'Champagne Blend', 'Bordeaux-style Red Blend', 'Aglianico',\n",
       "       'Petite Sirah', 'Touriga Nacional', 'Petit Manseng', 'Rosé',\n",
       "       'Zinfandel', 'Grüner Veltliner', 'Viognier', 'Syrah', 'Nebbiolo',\n",
       "       'Shiraz-Cabernet Sauvignon', 'Alsace white blend',\n",
       "       'Rhône-style Red Blend', 'Portuguese White', 'Sauvignon',\n",
       "       'Sangiovese Grosso', 'Prugnolo Gentile', 'G-S-M', 'Fumé Blanc',\n",
       "       'Furmint', 'Pinot Bianco', 'Shiraz', 'Montepulciano', 'Moscato',\n",
       "       'Grenache', 'Blaufränkisch', 'Friulano', 'Sagrantino',\n",
       "       'Cabernet Sauvignon-Syrah', 'Sparkling Blend', 'Muscat',\n",
       "       'Muscadelle', 'Shiraz-Viognier', 'Garganega', 'Tempranillo',\n",
       "       'Rhône-style White Blend', 'Verdelho', 'Marsanne', 'Scheurebe',\n",
       "       'Kerner', 'Syrah-Grenache', 'Sémillon', 'Verdicchio', 'Silvaner',\n",
       "       'Carricante', 'Monastrell', 'Corvina, Rondinella, Molinara',\n",
       "       'Port', 'Cabernet Sauvignon-Merlot', 'Traminer',\n",
       "       'Provence red blend', 'Tannat', 'Zibibbo', 'Garnacha', 'Mourvèdre',\n",
       "       'Teroldego', 'Semillon-Sauvignon Blanc', 'Welschriesling',\n",
       "       'Tinta de Toro', 'St. Laurent', 'Cabernet Sauvignon-Shiraz',\n",
       "       'Austrian white blend', 'Muscat Canelli', 'Cabernet Blend',\n",
       "       'Spätburgunder', 'Pedro Ximénez', 'Cabernet Sauvignon-Malbec',\n",
       "       'Tinto Fino', 'Tokaji', 'Carignan', 'Tinto del Pais',\n",
       "       'Grenache Blend', 'Picolit', 'Tokay', 'Tinta del Pais', 'Cabernet',\n",
       "       'White Riesling', 'Terrantez', 'Bual', 'Mission',\n",
       "       'Cabernet-Shiraz', 'Gelber Traminer', 'Muscadel'], dtype=object)"
      ]
     },
     "execution_count": 43,
     "metadata": {},
     "output_type": "execute_result"
    }
   ],
   "source": [
    "df_rev.variety.unique()"
   ]
  },
  {
   "cell_type": "code",
<<<<<<< HEAD:notebooks/AN_EDA.ipynb
   "execution_count": 12,
=======
   "execution_count": 44,
   "id": "beginning-facial",
>>>>>>> 15f43cfdf14dbbed8cc2fe1575904b4d64d66407:notebooks/AN_EDA_review.ipynb
   "metadata": {},
   "outputs": [
    {
     "name": "stdout",
     "output_type": "stream",
     "text": [
      "<class 'pandas.core.frame.DataFrame'>\n",
      "Int64Index: 5397 entries, 345 to 150762\n",
      "Data columns (total 10 columns):\n",
      " #   Column       Non-Null Count  Dtype  \n",
      "---  ------       --------------  -----  \n",
      " 0   country      5397 non-null   object \n",
      " 1   description  5397 non-null   object \n",
      " 2   designation  4405 non-null   object \n",
      " 3   points       5397 non-null   int64  \n",
      " 4   price        4725 non-null   float64\n",
      " 5   province     5397 non-null   object \n",
      " 6   region_1     4926 non-null   object \n",
      " 7   region_2     2288 non-null   object \n",
      " 8   variety      5397 non-null   object \n",
      " 9   winery       5397 non-null   object \n",
      "dtypes: float64(1), int64(1), object(8)\n",
      "memory usage: 463.8+ KB\n"
     ]
    }
   ],
   "source": [
    "top_wine_df.info()"
   ]
  },
  {
   "cell_type": "code",
<<<<<<< HEAD:notebooks/AN_EDA.ipynb
   "execution_count": 13,
=======
   "execution_count": 45,
   "id": "prescription-tampa",
>>>>>>> 15f43cfdf14dbbed8cc2fe1575904b4d64d66407:notebooks/AN_EDA_review.ipynb
   "metadata": {},
   "outputs": [
    {
     "name": "stdout",
     "output_type": "stream",
     "text": [
      "<class 'pandas.core.frame.DataFrame'>\n",
      "Int64Index: 248295 entries, 0 to 150928\n",
      "Data columns (total 10 columns):\n",
      " #   Column       Non-Null Count   Dtype  \n",
      "---  ------       --------------   -----  \n",
      " 0   country      248245 non-null  object \n",
      " 1   description  248295 non-null  object \n",
      " 2   designation  175474 non-null  object \n",
      " 3   points       248295 non-null  int64  \n",
      " 4   price        228870 non-null  float64\n",
      " 5   province     248245 non-null  object \n",
      " 6   region_1     208035 non-null  object \n",
      " 7   region_2     105956 non-null  object \n",
      " 8   variety      248295 non-null  object \n",
      " 9   winery       248295 non-null  object \n",
      "dtypes: float64(1), int64(1), object(8)\n",
      "memory usage: 20.8+ MB\n"
     ]
    }
   ],
   "source": [
    "df_rev.info()"
   ]
  },
  {
   "cell_type": "code",
<<<<<<< HEAD:notebooks/AN_EDA.ipynb
   "execution_count": 14,
=======
   "execution_count": 46,
   "id": "irish-reviewer",
>>>>>>> 15f43cfdf14dbbed8cc2fe1575904b4d64d66407:notebooks/AN_EDA_review.ipynb
   "metadata": {},
   "outputs": [
    {
     "name": "stdout",
     "output_type": "stream",
     "text": [
      "<class 'pandas.core.frame.DataFrame'>\n",
      "RangeIndex: 1599 entries, 0 to 1598\n",
      "Data columns (total 12 columns):\n",
      " #   Column                Non-Null Count  Dtype  \n",
      "---  ------                --------------  -----  \n",
      " 0   fixed acidity         1599 non-null   float64\n",
      " 1   volatile acidity      1599 non-null   float64\n",
      " 2   citric acid           1599 non-null   float64\n",
      " 3   residual sugar        1599 non-null   float64\n",
      " 4   chlorides             1599 non-null   float64\n",
      " 5   free sulfur dioxide   1599 non-null   float64\n",
      " 6   total sulfur dioxide  1599 non-null   float64\n",
      " 7   density               1599 non-null   float64\n",
      " 8   pH                    1599 non-null   float64\n",
      " 9   sulphates             1599 non-null   float64\n",
      " 10  alcohol               1599 non-null   float64\n",
      " 11  quality               1599 non-null   int64  \n",
      "dtypes: float64(11), int64(1)\n",
      "memory usage: 150.0 KB\n",
      "None\n"
     ]
    },
    {
     "data": {
      "text/html": [
       "<div>\n",
       "<style scoped>\n",
       "    .dataframe tbody tr th:only-of-type {\n",
       "        vertical-align: middle;\n",
       "    }\n",
       "\n",
       "    .dataframe tbody tr th {\n",
       "        vertical-align: top;\n",
       "    }\n",
       "\n",
       "    .dataframe thead th {\n",
       "        text-align: right;\n",
       "    }\n",
       "</style>\n",
       "<table border=\"1\" class=\"dataframe\">\n",
       "  <thead>\n",
       "    <tr style=\"text-align: right;\">\n",
       "      <th></th>\n",
       "      <th>fixed acidity</th>\n",
       "      <th>volatile acidity</th>\n",
       "      <th>citric acid</th>\n",
       "      <th>residual sugar</th>\n",
       "      <th>chlorides</th>\n",
       "      <th>free sulfur dioxide</th>\n",
       "      <th>total sulfur dioxide</th>\n",
       "      <th>density</th>\n",
       "      <th>pH</th>\n",
       "      <th>sulphates</th>\n",
       "      <th>alcohol</th>\n",
       "      <th>quality</th>\n",
       "    </tr>\n",
       "  </thead>\n",
       "  <tbody>\n",
       "    <tr>\n",
       "      <th>count</th>\n",
       "      <td>1599.000000</td>\n",
       "      <td>1599.000000</td>\n",
       "      <td>1599.000000</td>\n",
       "      <td>1599.000000</td>\n",
       "      <td>1599.000000</td>\n",
       "      <td>1599.000000</td>\n",
       "      <td>1599.000000</td>\n",
       "      <td>1599.000000</td>\n",
       "      <td>1599.000000</td>\n",
       "      <td>1599.000000</td>\n",
       "      <td>1599.000000</td>\n",
       "      <td>1599.000000</td>\n",
       "    </tr>\n",
       "    <tr>\n",
       "      <th>mean</th>\n",
       "      <td>8.319637</td>\n",
       "      <td>0.527821</td>\n",
       "      <td>0.270976</td>\n",
       "      <td>2.538806</td>\n",
       "      <td>0.087467</td>\n",
       "      <td>15.874922</td>\n",
       "      <td>46.467792</td>\n",
       "      <td>0.996747</td>\n",
       "      <td>3.311113</td>\n",
       "      <td>0.658149</td>\n",
       "      <td>10.422983</td>\n",
       "      <td>5.636023</td>\n",
       "    </tr>\n",
       "    <tr>\n",
       "      <th>std</th>\n",
       "      <td>1.741096</td>\n",
       "      <td>0.179060</td>\n",
       "      <td>0.194801</td>\n",
       "      <td>1.409928</td>\n",
       "      <td>0.047065</td>\n",
       "      <td>10.460157</td>\n",
       "      <td>32.895324</td>\n",
       "      <td>0.001887</td>\n",
       "      <td>0.154386</td>\n",
       "      <td>0.169507</td>\n",
       "      <td>1.065668</td>\n",
       "      <td>0.807569</td>\n",
       "    </tr>\n",
       "    <tr>\n",
       "      <th>min</th>\n",
       "      <td>4.600000</td>\n",
       "      <td>0.120000</td>\n",
       "      <td>0.000000</td>\n",
       "      <td>0.900000</td>\n",
       "      <td>0.012000</td>\n",
       "      <td>1.000000</td>\n",
       "      <td>6.000000</td>\n",
       "      <td>0.990070</td>\n",
       "      <td>2.740000</td>\n",
       "      <td>0.330000</td>\n",
       "      <td>8.400000</td>\n",
       "      <td>3.000000</td>\n",
       "    </tr>\n",
       "    <tr>\n",
       "      <th>25%</th>\n",
       "      <td>7.100000</td>\n",
       "      <td>0.390000</td>\n",
       "      <td>0.090000</td>\n",
       "      <td>1.900000</td>\n",
       "      <td>0.070000</td>\n",
       "      <td>7.000000</td>\n",
       "      <td>22.000000</td>\n",
       "      <td>0.995600</td>\n",
       "      <td>3.210000</td>\n",
       "      <td>0.550000</td>\n",
       "      <td>9.500000</td>\n",
       "      <td>5.000000</td>\n",
       "    </tr>\n",
       "    <tr>\n",
       "      <th>50%</th>\n",
       "      <td>7.900000</td>\n",
       "      <td>0.520000</td>\n",
       "      <td>0.260000</td>\n",
       "      <td>2.200000</td>\n",
       "      <td>0.079000</td>\n",
       "      <td>14.000000</td>\n",
       "      <td>38.000000</td>\n",
       "      <td>0.996750</td>\n",
       "      <td>3.310000</td>\n",
       "      <td>0.620000</td>\n",
       "      <td>10.200000</td>\n",
       "      <td>6.000000</td>\n",
       "    </tr>\n",
       "    <tr>\n",
       "      <th>75%</th>\n",
       "      <td>9.200000</td>\n",
       "      <td>0.640000</td>\n",
       "      <td>0.420000</td>\n",
       "      <td>2.600000</td>\n",
       "      <td>0.090000</td>\n",
       "      <td>21.000000</td>\n",
       "      <td>62.000000</td>\n",
       "      <td>0.997835</td>\n",
       "      <td>3.400000</td>\n",
       "      <td>0.730000</td>\n",
       "      <td>11.100000</td>\n",
       "      <td>6.000000</td>\n",
       "    </tr>\n",
       "    <tr>\n",
       "      <th>max</th>\n",
       "      <td>15.900000</td>\n",
       "      <td>1.580000</td>\n",
       "      <td>1.000000</td>\n",
       "      <td>15.500000</td>\n",
       "      <td>0.611000</td>\n",
       "      <td>72.000000</td>\n",
       "      <td>289.000000</td>\n",
       "      <td>1.003690</td>\n",
       "      <td>4.010000</td>\n",
       "      <td>2.000000</td>\n",
       "      <td>14.900000</td>\n",
       "      <td>8.000000</td>\n",
       "    </tr>\n",
       "  </tbody>\n",
       "</table>\n",
       "</div>"
      ],
      "text/plain": [
       "       fixed acidity  volatile acidity  citric acid  residual sugar  \\\n",
       "count    1599.000000       1599.000000  1599.000000     1599.000000   \n",
       "mean        8.319637          0.527821     0.270976        2.538806   \n",
       "std         1.741096          0.179060     0.194801        1.409928   \n",
       "min         4.600000          0.120000     0.000000        0.900000   \n",
       "25%         7.100000          0.390000     0.090000        1.900000   \n",
       "50%         7.900000          0.520000     0.260000        2.200000   \n",
       "75%         9.200000          0.640000     0.420000        2.600000   \n",
       "max        15.900000          1.580000     1.000000       15.500000   \n",
       "\n",
       "         chlorides  free sulfur dioxide  total sulfur dioxide      density  \\\n",
       "count  1599.000000          1599.000000           1599.000000  1599.000000   \n",
       "mean      0.087467            15.874922             46.467792     0.996747   \n",
       "std       0.047065            10.460157             32.895324     0.001887   \n",
       "min       0.012000             1.000000              6.000000     0.990070   \n",
       "25%       0.070000             7.000000             22.000000     0.995600   \n",
       "50%       0.079000            14.000000             38.000000     0.996750   \n",
       "75%       0.090000            21.000000             62.000000     0.997835   \n",
       "max       0.611000            72.000000            289.000000     1.003690   \n",
       "\n",
       "                pH    sulphates      alcohol      quality  \n",
       "count  1599.000000  1599.000000  1599.000000  1599.000000  \n",
       "mean      3.311113     0.658149    10.422983     5.636023  \n",
       "std       0.154386     0.169507     1.065668     0.807569  \n",
       "min       2.740000     0.330000     8.400000     3.000000  \n",
       "25%       3.210000     0.550000     9.500000     5.000000  \n",
       "50%       3.310000     0.620000    10.200000     6.000000  \n",
       "75%       3.400000     0.730000    11.100000     6.000000  \n",
       "max       4.010000     2.000000    14.900000     8.000000  "
      ]
     },
<<<<<<< HEAD:notebooks/AN_EDA.ipynb
     "execution_count": 14,
=======
     "execution_count": 46,
>>>>>>> 15f43cfdf14dbbed8cc2fe1575904b4d64d66407:notebooks/AN_EDA_review.ipynb
     "metadata": {},
     "output_type": "execute_result"
    }
   ],
   "source": [
    "print(df1.info())\n",
    "df1.describe()"
   ]
  },
  {
   "cell_type": "code",
<<<<<<< HEAD:notebooks/AN_EDA.ipynb
   "execution_count": 15,
=======
   "execution_count": 47,
   "id": "medieval-snake",
>>>>>>> 15f43cfdf14dbbed8cc2fe1575904b4d64d66407:notebooks/AN_EDA_review.ipynb
   "metadata": {},
   "outputs": [
    {
     "name": "stdout",
     "output_type": "stream",
     "text": [
      "<class 'pandas.core.frame.DataFrame'>\n",
      "RangeIndex: 129971 entries, 0 to 129970\n",
      "Data columns (total 14 columns):\n",
      " #   Column                 Non-Null Count   Dtype  \n",
      "---  ------                 --------------   -----  \n",
      " 0   Unnamed: 0             129971 non-null  int64  \n",
      " 1   country                129908 non-null  object \n",
      " 2   description            129971 non-null  object \n",
      " 3   designation            92506 non-null   object \n",
      " 4   points                 129971 non-null  int64  \n",
      " 5   price                  120975 non-null  float64\n",
      " 6   province               129908 non-null  object \n",
      " 7   region_1               108724 non-null  object \n",
      " 8   region_2               50511 non-null   object \n",
      " 9   taster_name            103727 non-null  object \n",
      " 10  taster_twitter_handle  98758 non-null   object \n",
      " 11  title                  129971 non-null  object \n",
      " 12  variety                129970 non-null  object \n",
      " 13  winery                 129971 non-null  object \n",
      "dtypes: float64(1), int64(2), object(11)\n",
      "memory usage: 13.9+ MB\n",
      "None\n"
     ]
    },
    {
     "data": {
      "text/html": [
       "<div>\n",
       "<style scoped>\n",
       "    .dataframe tbody tr th:only-of-type {\n",
       "        vertical-align: middle;\n",
       "    }\n",
       "\n",
       "    .dataframe tbody tr th {\n",
       "        vertical-align: top;\n",
       "    }\n",
       "\n",
       "    .dataframe thead th {\n",
       "        text-align: right;\n",
       "    }\n",
       "</style>\n",
       "<table border=\"1\" class=\"dataframe\">\n",
       "  <thead>\n",
       "    <tr style=\"text-align: right;\">\n",
       "      <th></th>\n",
       "      <th>Unnamed: 0</th>\n",
       "      <th>country</th>\n",
       "      <th>description</th>\n",
       "      <th>designation</th>\n",
       "      <th>points</th>\n",
       "      <th>price</th>\n",
       "      <th>province</th>\n",
       "      <th>region_1</th>\n",
       "      <th>region_2</th>\n",
       "      <th>taster_name</th>\n",
       "      <th>taster_twitter_handle</th>\n",
       "      <th>title</th>\n",
       "      <th>variety</th>\n",
       "      <th>winery</th>\n",
       "    </tr>\n",
       "  </thead>\n",
       "  <tbody>\n",
       "    <tr>\n",
       "      <th>129966</th>\n",
       "      <td>129966</td>\n",
       "      <td>Germany</td>\n",
       "      <td>Notes of honeysuckle and cantaloupe sweeten th...</td>\n",
       "      <td>Brauneberger Juffer-Sonnenuhr Spätlese</td>\n",
       "      <td>90</td>\n",
       "      <td>28.0</td>\n",
       "      <td>Mosel</td>\n",
       "      <td>NaN</td>\n",
       "      <td>NaN</td>\n",
       "      <td>Anna Lee C. Iijima</td>\n",
       "      <td>NaN</td>\n",
       "      <td>Dr. H. Thanisch (Erben Müller-Burggraef) 2013 ...</td>\n",
       "      <td>Riesling</td>\n",
       "      <td>Dr. H. Thanisch (Erben Müller-Burggraef)</td>\n",
       "    </tr>\n",
       "    <tr>\n",
       "      <th>129967</th>\n",
       "      <td>129967</td>\n",
       "      <td>US</td>\n",
       "      <td>Citation is given as much as a decade of bottl...</td>\n",
       "      <td>NaN</td>\n",
       "      <td>90</td>\n",
       "      <td>75.0</td>\n",
       "      <td>Oregon</td>\n",
       "      <td>Oregon</td>\n",
       "      <td>Oregon Other</td>\n",
       "      <td>Paul Gregutt</td>\n",
       "      <td>@paulgwine</td>\n",
       "      <td>Citation 2004 Pinot Noir (Oregon)</td>\n",
       "      <td>Pinot Noir</td>\n",
       "      <td>Citation</td>\n",
       "    </tr>\n",
       "    <tr>\n",
       "      <th>129968</th>\n",
       "      <td>129968</td>\n",
       "      <td>France</td>\n",
       "      <td>Well-drained gravel soil gives this wine its c...</td>\n",
       "      <td>Kritt</td>\n",
       "      <td>90</td>\n",
       "      <td>30.0</td>\n",
       "      <td>Alsace</td>\n",
       "      <td>Alsace</td>\n",
       "      <td>NaN</td>\n",
       "      <td>Roger Voss</td>\n",
       "      <td>@vossroger</td>\n",
       "      <td>Domaine Gresser 2013 Kritt Gewurztraminer (Als...</td>\n",
       "      <td>Gewürztraminer</td>\n",
       "      <td>Domaine Gresser</td>\n",
       "    </tr>\n",
       "    <tr>\n",
       "      <th>129969</th>\n",
       "      <td>129969</td>\n",
       "      <td>France</td>\n",
       "      <td>A dry style of Pinot Gris, this is crisp with ...</td>\n",
       "      <td>NaN</td>\n",
       "      <td>90</td>\n",
       "      <td>32.0</td>\n",
       "      <td>Alsace</td>\n",
       "      <td>Alsace</td>\n",
       "      <td>NaN</td>\n",
       "      <td>Roger Voss</td>\n",
       "      <td>@vossroger</td>\n",
       "      <td>Domaine Marcel Deiss 2012 Pinot Gris (Alsace)</td>\n",
       "      <td>Pinot Gris</td>\n",
       "      <td>Domaine Marcel Deiss</td>\n",
       "    </tr>\n",
       "    <tr>\n",
       "      <th>129970</th>\n",
       "      <td>129970</td>\n",
       "      <td>France</td>\n",
       "      <td>Big, rich and off-dry, this is powered by inte...</td>\n",
       "      <td>Lieu-dit Harth Cuvée Caroline</td>\n",
       "      <td>90</td>\n",
       "      <td>21.0</td>\n",
       "      <td>Alsace</td>\n",
       "      <td>Alsace</td>\n",
       "      <td>NaN</td>\n",
       "      <td>Roger Voss</td>\n",
       "      <td>@vossroger</td>\n",
       "      <td>Domaine Schoffit 2012 Lieu-dit Harth Cuvée Car...</td>\n",
       "      <td>Gewürztraminer</td>\n",
       "      <td>Domaine Schoffit</td>\n",
       "    </tr>\n",
       "  </tbody>\n",
       "</table>\n",
       "</div>"
      ],
      "text/plain": [
       "        Unnamed: 0  country  \\\n",
       "129966      129966  Germany   \n",
       "129967      129967       US   \n",
       "129968      129968   France   \n",
       "129969      129969   France   \n",
       "129970      129970   France   \n",
       "\n",
       "                                              description  \\\n",
       "129966  Notes of honeysuckle and cantaloupe sweeten th...   \n",
       "129967  Citation is given as much as a decade of bottl...   \n",
       "129968  Well-drained gravel soil gives this wine its c...   \n",
       "129969  A dry style of Pinot Gris, this is crisp with ...   \n",
       "129970  Big, rich and off-dry, this is powered by inte...   \n",
       "\n",
       "                                   designation  points  price province  \\\n",
       "129966  Brauneberger Juffer-Sonnenuhr Spätlese      90   28.0    Mosel   \n",
       "129967                                     NaN      90   75.0   Oregon   \n",
       "129968                                   Kritt      90   30.0   Alsace   \n",
       "129969                                     NaN      90   32.0   Alsace   \n",
       "129970           Lieu-dit Harth Cuvée Caroline      90   21.0   Alsace   \n",
       "\n",
       "       region_1      region_2         taster_name taster_twitter_handle  \\\n",
       "129966      NaN           NaN  Anna Lee C. Iijima                   NaN   \n",
       "129967   Oregon  Oregon Other        Paul Gregutt           @paulgwine    \n",
       "129968   Alsace           NaN          Roger Voss            @vossroger   \n",
       "129969   Alsace           NaN          Roger Voss            @vossroger   \n",
       "129970   Alsace           NaN          Roger Voss            @vossroger   \n",
       "\n",
       "                                                    title         variety  \\\n",
       "129966  Dr. H. Thanisch (Erben Müller-Burggraef) 2013 ...        Riesling   \n",
       "129967                  Citation 2004 Pinot Noir (Oregon)      Pinot Noir   \n",
       "129968  Domaine Gresser 2013 Kritt Gewurztraminer (Als...  Gewürztraminer   \n",
       "129969      Domaine Marcel Deiss 2012 Pinot Gris (Alsace)      Pinot Gris   \n",
       "129970  Domaine Schoffit 2012 Lieu-dit Harth Cuvée Car...  Gewürztraminer   \n",
       "\n",
       "                                          winery  \n",
       "129966  Dr. H. Thanisch (Erben Müller-Burggraef)  \n",
       "129967                                  Citation  \n",
       "129968                           Domaine Gresser  \n",
       "129969                      Domaine Marcel Deiss  \n",
       "129970                          Domaine Schoffit  "
      ]
     },
<<<<<<< HEAD:notebooks/AN_EDA.ipynb
     "execution_count": 15,
=======
     "execution_count": 47,
>>>>>>> 15f43cfdf14dbbed8cc2fe1575904b4d64d66407:notebooks/AN_EDA_review.ipynb
     "metadata": {},
     "output_type": "execute_result"
    }
   ],
   "source": [
    "print(df2.info())\n",
    "df2.tail()"
   ]
  },
  {
   "cell_type": "code",
<<<<<<< HEAD:notebooks/AN_EDA.ipynb
   "execution_count": 16,
=======
   "execution_count": 48,
   "id": "sudden-burden",
>>>>>>> 15f43cfdf14dbbed8cc2fe1575904b4d64d66407:notebooks/AN_EDA_review.ipynb
   "metadata": {},
   "outputs": [
    {
     "name": "stdout",
     "output_type": "stream",
     "text": [
      "<class 'pandas.core.frame.DataFrame'>\n",
      "RangeIndex: 150930 entries, 0 to 150929\n",
      "Data columns (total 11 columns):\n",
      " #   Column       Non-Null Count   Dtype  \n",
      "---  ------       --------------   -----  \n",
      " 0   Unnamed: 0   150930 non-null  int64  \n",
      " 1   country      150925 non-null  object \n",
      " 2   description  150930 non-null  object \n",
      " 3   designation  105195 non-null  object \n",
      " 4   points       150930 non-null  int64  \n",
      " 5   price        137235 non-null  float64\n",
      " 6   province     150925 non-null  object \n",
      " 7   region_1     125870 non-null  object \n",
      " 8   region_2     60953 non-null   object \n",
      " 9   variety      150930 non-null  object \n",
      " 10  winery       150930 non-null  object \n",
      "dtypes: float64(1), int64(2), object(8)\n",
      "memory usage: 12.7+ MB\n",
      "None\n"
     ]
    },
    {
     "data": {
      "text/html": [
       "<div>\n",
       "<style scoped>\n",
       "    .dataframe tbody tr th:only-of-type {\n",
       "        vertical-align: middle;\n",
       "    }\n",
       "\n",
       "    .dataframe tbody tr th {\n",
       "        vertical-align: top;\n",
       "    }\n",
       "\n",
       "    .dataframe thead th {\n",
       "        text-align: right;\n",
       "    }\n",
       "</style>\n",
       "<table border=\"1\" class=\"dataframe\">\n",
       "  <thead>\n",
       "    <tr style=\"text-align: right;\">\n",
       "      <th></th>\n",
       "      <th>Unnamed: 0</th>\n",
       "      <th>country</th>\n",
       "      <th>description</th>\n",
       "      <th>designation</th>\n",
       "      <th>points</th>\n",
       "      <th>price</th>\n",
       "      <th>province</th>\n",
       "      <th>region_1</th>\n",
       "      <th>region_2</th>\n",
       "      <th>variety</th>\n",
       "      <th>winery</th>\n",
       "    </tr>\n",
       "  </thead>\n",
       "  <tbody>\n",
       "    <tr>\n",
       "      <th>150925</th>\n",
       "      <td>150925</td>\n",
       "      <td>Italy</td>\n",
       "      <td>Many people feel Fiano represents southern Ita...</td>\n",
       "      <td>NaN</td>\n",
       "      <td>91</td>\n",
       "      <td>20.0</td>\n",
       "      <td>Southern Italy</td>\n",
       "      <td>Fiano di Avellino</td>\n",
       "      <td>NaN</td>\n",
       "      <td>White Blend</td>\n",
       "      <td>Feudi di San Gregorio</td>\n",
       "    </tr>\n",
       "    <tr>\n",
       "      <th>150926</th>\n",
       "      <td>150926</td>\n",
       "      <td>France</td>\n",
       "      <td>Offers an intriguing nose with ginger, lime an...</td>\n",
       "      <td>Cuvée Prestige</td>\n",
       "      <td>91</td>\n",
       "      <td>27.0</td>\n",
       "      <td>Champagne</td>\n",
       "      <td>Champagne</td>\n",
       "      <td>NaN</td>\n",
       "      <td>Champagne Blend</td>\n",
       "      <td>H.Germain</td>\n",
       "    </tr>\n",
       "    <tr>\n",
       "      <th>150927</th>\n",
       "      <td>150927</td>\n",
       "      <td>Italy</td>\n",
       "      <td>This classic example comes from a cru vineyard...</td>\n",
       "      <td>Terre di Dora</td>\n",
       "      <td>91</td>\n",
       "      <td>20.0</td>\n",
       "      <td>Southern Italy</td>\n",
       "      <td>Fiano di Avellino</td>\n",
       "      <td>NaN</td>\n",
       "      <td>White Blend</td>\n",
       "      <td>Terredora</td>\n",
       "    </tr>\n",
       "    <tr>\n",
       "      <th>150928</th>\n",
       "      <td>150928</td>\n",
       "      <td>France</td>\n",
       "      <td>A perfect salmon shade, with scents of peaches...</td>\n",
       "      <td>Grand Brut Rosé</td>\n",
       "      <td>90</td>\n",
       "      <td>52.0</td>\n",
       "      <td>Champagne</td>\n",
       "      <td>Champagne</td>\n",
       "      <td>NaN</td>\n",
       "      <td>Champagne Blend</td>\n",
       "      <td>Gosset</td>\n",
       "    </tr>\n",
       "    <tr>\n",
       "      <th>150929</th>\n",
       "      <td>150929</td>\n",
       "      <td>Italy</td>\n",
       "      <td>More Pinot Grigios should taste like this. A r...</td>\n",
       "      <td>NaN</td>\n",
       "      <td>90</td>\n",
       "      <td>15.0</td>\n",
       "      <td>Northeastern Italy</td>\n",
       "      <td>Alto Adige</td>\n",
       "      <td>NaN</td>\n",
       "      <td>Pinot Grigio</td>\n",
       "      <td>Alois Lageder</td>\n",
       "    </tr>\n",
       "  </tbody>\n",
       "</table>\n",
       "</div>"
      ],
      "text/plain": [
       "        Unnamed: 0 country                                        description  \\\n",
       "150925      150925   Italy  Many people feel Fiano represents southern Ita...   \n",
       "150926      150926  France  Offers an intriguing nose with ginger, lime an...   \n",
       "150927      150927   Italy  This classic example comes from a cru vineyard...   \n",
       "150928      150928  France  A perfect salmon shade, with scents of peaches...   \n",
       "150929      150929   Italy  More Pinot Grigios should taste like this. A r...   \n",
       "\n",
       "            designation  points  price            province           region_1  \\\n",
       "150925              NaN      91   20.0      Southern Italy  Fiano di Avellino   \n",
       "150926   Cuvée Prestige      91   27.0           Champagne          Champagne   \n",
       "150927    Terre di Dora      91   20.0      Southern Italy  Fiano di Avellino   \n",
       "150928  Grand Brut Rosé      90   52.0           Champagne          Champagne   \n",
       "150929              NaN      90   15.0  Northeastern Italy         Alto Adige   \n",
       "\n",
       "       region_2          variety                 winery  \n",
       "150925      NaN      White Blend  Feudi di San Gregorio  \n",
       "150926      NaN  Champagne Blend              H.Germain  \n",
       "150927      NaN      White Blend              Terredora  \n",
       "150928      NaN  Champagne Blend                 Gosset  \n",
       "150929      NaN     Pinot Grigio          Alois Lageder  "
      ]
     },
<<<<<<< HEAD:notebooks/AN_EDA.ipynb
     "execution_count": 16,
=======
     "execution_count": 48,
>>>>>>> 15f43cfdf14dbbed8cc2fe1575904b4d64d66407:notebooks/AN_EDA_review.ipynb
     "metadata": {},
     "output_type": "execute_result"
    }
   ],
   "source": [
    "print(df3.info())\n",
    "df3.tail()"
   ]
  },
  {
   "cell_type": "code",
<<<<<<< HEAD:notebooks/AN_EDA.ipynb
   "execution_count": 17,
=======
   "execution_count": 49,
   "id": "elegant-migration",
   "metadata": {},
   "outputs": [
    {
     "data": {
      "image/png": "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\n",
      "text/plain": [
       "<Figure size 1296x648 with 1 Axes>"
      ]
     },
     "metadata": {
      "needs_background": "light"
     },
     "output_type": "display_data"
    }
   ],
   "source": [
    "### Year v. price\n",
    "\n",
    "# Make Scatter plot\n",
    "fig, ax=plt.subplots(figsize = (18,9))\n",
    "ax.scatter(df2_focus[\"year\"], df2_focus[\"price\"], color='b')\n",
    "ax.set_xlabel('year')\n",
    "ax.set_ylabel('price')\n",
    "plt.title('year v. price')\n",
    "#ax.set_xticklabels(ax.get_xticklabels(),rotation=90)\n",
    "plt.show()"
   ]
  },
  {
   "cell_type": "code",
   "execution_count": 50,
   "id": "fatty-drove",
>>>>>>> 15f43cfdf14dbbed8cc2fe1575904b4d64d66407:notebooks/AN_EDA_review.ipynb
   "metadata": {},
   "outputs": [
    {
     "data": {
<<<<<<< HEAD:notebooks/AN_EDA.ipynb
      "image/png": "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\n",
=======
      "image/png": "iVBORw0KGgoAAAANSUhEUgAABCkAAAImCAYAAAB+cNCIAAAAOXRFWHRTb2Z0d2FyZQBNYXRwbG90bGliIHZlcnNpb24zLjMuNCwgaHR0cHM6Ly9tYXRwbG90bGliLm9yZy8QVMy6AAAACXBIWXMAAAsTAAALEwEAmpwYAABUeElEQVR4nO3dfXwddZ33//cnTSm9gUIPAdoCrQVcF9AFqYjcFAxLAFEBr1Vruoo3uyjCitdu5YdcXNd6Ayyy1VVXF0VBcbfxFnXBwhIkSAVEaQWhUJAQiLQpUk5oS+kNTfL5/TFzyklIzjlNZjLfSV7PxyOPnO/MOTOfTObczPt85zvm7gIAAAAAAMhaXdYFAAAAAAAASIQUAAAAAAAgEIQUAAAAAAAgCIQUAAAAAAAgCIQUAAAAAAAgCIQUAAAAAAAgCIQUAADsAjP7oJndnXUdaTGzX5nZ3+W5DjM72czWJF1TvOzvmtnlaSw7r8xss5nNy7oOAMDYQEgBABhTzOxpM9saHzi9YGbLzOzArOvKymgdVJvZXDPzeLtvjv8Pl6S0rs+Y2Y6yda02s/+VxrpQnbtPc/eOrOsAAIwNhBQAgLHoHe4+TdJMSX+W9O/DWYiZ1Sda1fiwV7zt/0bS/zWzU1Nazw/jg+Npkj4p6b/MbL+U1hW0rPZTnh8AgDQQUgAAxix33ybpJ5IOK00zs+lm9j0zW29mnWZ2mZnVxfM+aGb3mNm/mVlR0mfMrGBmN5nZJjP7naSDy9dhZq8zs9vNrNvMHjez95TNO9PMHogf+4yZfaZs3qtOSYh7H/x1fPsWM/ti2bwfmNn1g/2dFvk3M3suXtfDZnaEmZ0naZGki+MeBzeb2afM7MYBj/+qmX1liGV/OO6p8IKZ3WZmcypu9Ji7r5D0iKQja1mWmZ1qZo+Z2UYz+5okq2U98bpuk/SiBvxvypY9y8xujP/nT5nZJ8rmfcbMfhTvEy+a2SNmNr9s/lFm9vt43g8l7V5LTWa2W7xPvL5s2r5mtsXMGuL2283sQTPbYGb3mtkbyu57iZk9Ga/3UTM7p2zeq/bTQf7erWY2Y8Df8byZTaxS93fN7BvxPv2imd014P/kZnaBmT0h6YmyaYfEtyeb2Rfj59ZGM7vbzCbH846N/84NZvYHMzu5lm0JABhfCCkAAGOWmU2R9F5J95VN/ndJ0yXNk3SSpA9I+lDZ/DdL6pC0n6QrJH1d0jZFvTI+HP+Ulj9V0u2SWiTtK2mhpP8ws1Io8lK8/L0knSnpfDM7u8byPyzp/WbWaGaLJB0j6aIh7tskaYGk18Z/23skFd39WklLJV0d9zp4h6T/knS6me0V/w31cd3fG7hQMztL0qWS3iWpQdKvJX2/luLN7FhJR0hqr7YsM9tH0k8lXSZpH0lPSjq+xvWYmZ0paTdJjw4yv07SzZL+IGm2pFMkfdLMTiu72zsl/UDR/+kmSV+LH7ubpJ9L+k9JMyT9WFK/00riA+4TBq7X3V+Ol/m3ZZPfJ+kOd19vZkdJul7SRyUVJH1T0k1mNim+75OSTlT0//ysop4iM8uWNXA/LV93l6TfDKi1WdJP3H3HwFoHsUjS5xX9Lx5UtA+VOzte/2F6tSWSjpZ0nKJtdrGkPjObLWmZpMvj6Ysl3VgKbAAAKCGkAACMRT83sw2SNko6VdK/SpKZTVB0QP5pd3/R3Z+W9EVJ7y97bJe7/7u790h6WdGB3v9z95fcfZWkG8ru+3ZJT7v7d9y9x90fkHSjpHdLkrv/yt0fdvc+d39I0UH5SbX8Ae7+rKTz4/V9RdIH3P3FIe6+Q9Iekl4nydx9tbuvG2K56yQtL9Uo6XRJz7v7ykHu/jFJ/xIvr0fSlZKOrNKb4nkz26roIPk/FB3kV1vW2yQ94u6lg+gvS3q2wjok6T3x/3izomDhSnffMMj93iSpwd0/5+4vx2MnfEvRflByt7vf4u69igKJv4qnHytpoqQvu/sOd/+JpPvLF+7ue7n7UAOp3iDpfWZW6hXy/nj5knSepG+6+2/dvdfdb5C0PV6n3P3H7t4V7zs/VNRr4ZiyZe/cT9196yDrblEUiihe/8J4Wi2Wuftyd98u6f9Ieov1H9flX9y9e+B640Dow5Iucve18d91b7ycv5V0S7yd+9z9dkkrFP3vAQDYiZACADAWne3ueynqmn+hpLvMbH9F3wxPlNRZdt9ORd+wlzxTdrtBUv2AaeWPnSPpzfG36Rvig+ZFkvaXJDN7s5ndGZ9msFHRgfo+u/B33CxpgqTHyw+E41MSSoNGnujubYq+/f+6pOfM7Foz27PCcm/QK9/w/61eOXAeaI6kr5T9bd2KTsOYPcT9pejvmybpnySdrGh7V1vWLJVtY3d39d/mg/lRHBBMVXSaxwfM7KND/A2zBvyPLlXUA6GkPBDZImn3uIfJLElr43pKyv//Fbn7b+PlnWxmr5N0iKJApVTXPw2o68B4nTKzD5SdCrJBUa+U8n2n2va5UVG4MFNRL5s+Rb1XalH+v9is6H81q4Z176PoOffkIPPmSHr3gL/3BEU9lAAA2ImQAgAwZsXf5P5UUq+iA6LnFfU6KO8JcJCkteUPK7u9XlKPooPH8vuXPCPprvhgufQzzd3Pj+e3KDooPdDdp0v6hl4Za+ElSVNKC4p7eQzs+n6FpNWSZprZ+8r+rsNLg0a6+6/jaV9196MVdcF/raRPDfL3lPxc0hvM7AhFvUEGducv//s+OuDvm+zu9w5x/1J9ve7+JUWnyXy8hmWtU9k2jr/5r/mKLHGPmFslvWOIv+GpAevdw91r+QZ/naTZZT0hpP7//1qUAqH3KzrdYltZXVcMqGuKu38/7l3yLUUBWyEO3Fap/zgdg/1fX5np/oKkVkWnOzVL+sGAsKWS8v/FNEWnZ3TVsO7nFf3PBxsb5BlJ/zng753q7lfVWBMAYJwgpAAAjFnxeAVnSdpb0uq4O/+PJF1hZnvEB4P/qGichleJ7/9TRQNoTonHmji37C6/kPRaM3u/mU2Mf95kZn8Zz99DUre7bzOzYxQdLJb8UdE39mdaNJjhZZJK4xHIzBYoGivjA/E6/z0+r3+wv/NNca+NiYrCj22KvjmXoqubzBvwd5UGFG2R9Dt3/9MQm/Abkj5tZofH65luZu8e4r6DuUrRoJ27V1nWMkmHm9m74h4Mn1DcG6UWZnaAotNWHhlk9u8kvWhm/59FgzpOsGhQ0TfVsOjfKAqpPhH/b9+l/qdc1OK/JJ2jKKgoH/fjW5I+Fv/fzMymxvvCHpKmKgoC1sd/34cU9aTYVS2K9p+/Ue2nekjS28zshHhMjs9Lus/dq/XckLv3KRpn40sWDd45wczeEo+z8V+S3mFmp8XTd7do8NgDdv3PAgCMZYQUAICx6GYz2yxpk6LeCOe6e+kA9h8UHch3SLpb0cHboFfNiF2o6PSFZyV9V9J3SjPiMSKaFJ3v3xXf5wt6JWz4uKTPmdmLkv6fooCk9NiN8fxvK+rJ8ZKkNZIUn6rxPUkXxuf2/1rSdZK+M+Bb/ZI9FR30vqDodISi4nE44scdFnex/3nZY26Q9HoNfaqH3P1n8d/zAzPbpOjb/DOGuv8glsU1/X2lZbn784rGyLgqrv1QSfdUWfZ7S6e8KBon4h5FA0wO/Bt6FfUWOVLSU4q+7f+2ogEpK/Jo8Mt3SfqgolMe3qsotNqpdMpNhWU8I+n3ikKHX5dNXyHp7xWdpvOCogFGPxjPe1TRWCm/URQyvV7Vt8dgblK0LZ919z/E9R4U11ypR0iLpH9W9Dcfrf6Df1azWNLDiv4n3Yr+53XxdigNnrpeUc+KT4nPogCAAaz2nn8AAGCsiA9SH5O0v7tvyrqescyiS8d2uftlWddSjZl9V9KaPNQKABib6rMuAAAAjK74Kgz/qGicAgKKFJnZXEW9MY7KuBQAAHKBkAIAgHHEzKYqOoWgU9E4DkiJmX1e0v9WdMnOp7KuBwCAPOB0DwAAAAAAEAQGKwIAAAAAAEEgpAAAAAAAAEEYk2NS7LPPPj537tysywAAAAAAAAOsXLnyeXdvGGzemAwp5s6dqxUrVmRdBgAAAAAAGMDMOoeax+keAAAAAAAgCIQUAAAAAAAgCIQUAAAAAAAgCIQUAAAAAAAgCIQUAAAAAAAgCIQUAAAAAAAgCIQUAAAAAAAgCIQUAAAAAAAgCIQUAAAAAAAgCIQUAAAAAAAgCIQUAAAAAAAgCIQUAAAAAAAgCIQUAAAAAAAgCIQUAAAAAAAgCIQUAAAAAAAgCIQUAAAAAAAgCIQUAAAAAABJUrFY1OLFi9Xd3Z11KRinCCkAAAAAAJKklpYWrVq1SkuXLs26FIxThBQAAAAAABWLRbW2tsrd1draSm8KZIKQAgAAAACglpYW9fX1SZL6+vroTYFMEFIAAAAAANTW1qaenh5JUk9Pj9ra2jKuCOMRIQUAAAAAQI2Njaqvr5ck1dfXq7GxMeOKMB4RUgAAAAAA1NzcrLq66BCxrq5OixYtyrgijEeEFAAAAAAAFQoFNTU1yczU1NSkGTNmZF0SxqH6rAsAAAAAAIShublZnZ2d9KJAZggpAAAAAACSot4US5YsyboMjGOc7gEAAAAAAIJASAEAAAAAAIJASAEAAAAAAIJASAEAAAAAAIJASAEAAAAAAIJASAEAAAAAAIJASAEAAAAAAIJASAEAAAAAAIJASAEAAAAAAIJASAEAAAAAAIJASAEAAAAAAIJASAEAAAAAAIJASAEAAAAAAIJASAEAAAAAAIJASAEAAAAAAIJASAEAAAAAAIJASAEAAAAAAIJASAEAAAAAAIJASAEAAAAAAIJASAEAAAAAAIJASAEAAAAAAIJASAEAAAAAAIJASAEAAAAAAIJASAEAAAAAAIJASAEAAAAAAIJASAEAAAAAAIJASAEAAAAAAIJASAEAAAAAAIJASAEAAAAAAIJASAEAAAAAAIJASAEAAAAAAIKQWkhhZrub2e/M7A9m9oiZfTae/hoz+62ZtZvZD81st3j6pLjdHs+fW7asT8fTHzez09KqGQAAAAAAZCfNnhTbJTW6+19JOlLS6WZ2rKQvSPo3dz9E0guSPhLf/yOSXoin/1t8P5nZYZIWSjpc0umS/sPMJqRYNwAAAAAAyEBqIYVHNsfNifGPS2qU9JN4+g2Szo5vnxW3Fc8/xcwsnv4Dd9/u7k9Japd0TFp1AwAAAACAbKQ6JoWZTTCzByU9J+l2SU9K2uDuPfFd1kiaHd+eLekZSYrnb5RUKJ8+yGPK13Wema0wsxXr169P4a8BAAAAAABpSjWkcPdedz9S0gGKej+8LsV1Xevu8919fkNDQ1qrAQAAAAAAKRmVq3u4+wZJd0p6i6S9zKw+nnWApLXx7bWSDpSkeP50ScXy6YM8BgAAAAAAjBFpXt2jwcz2im9PlnSqpNWKwoq/ie92rqT/jm/fFLcVz29zd4+nL4yv/vEaSYdK+l1adQMAAAAAgGzUV7/LsM2UdEN8JY46ST9y91+Y2aOSfmBml0t6QNJ18f2vk/SfZtYuqVvRFT3k7o+Y2Y8kPSqpR9IF7t6bYt0AAAAAACADFnVWGFvmz5/vK1asyLoMAAAAAAAwgJmtdPf5g80blTEpAAAAAAAAqiGkAAAAAAAAQSCkAAAAAAAAQSCkAAAAAAAAQSCkAAAAAAAAQSCkAAAAAAAAQSCkAAAAAAAAQSCkAAAAAAAAQSCkAAAAAAAAQSCkAAAAAAAAQSCkAAAAAAAAQSCkAAAAAAAAQSCkAAAAAAAAQSCkAAAAAAAAQSCkAAAAAAAAQSCkAAAAAAAAQSCkAAAAAAAAQSCkAAAAAAAAQSCkAAAAAAAAQSCkAAAAAAAAQSCkAAAAAAAAQSCkAAAAAAAAQSCkAAAAAAAAQSCkAAAAAAAAQSCkAAAAAAAAQSCkAAAAAAAAQSCkAAAAAAAAQSCkAAAAAAAAQSCkAAAAAAAAQSCkAAAAAAAAQSCkAAAAAAAAQSCkAAAAAAAAQSCkAAAAAAAAQSCkAAAAAAAAQSCkAAAAAAAAQSCkAAAAAAAAQSCkAAAAAAAAQSCkAAAAAAAAQSCkAAAAAAAAQSCkAAAAAAAAQSCkAAAAAAAAQSCkAAAAAAAAQSCkAAAAAAAAQSCkAAAAAAAAQSCkAAAAAAAAQSCkAAAAAAAAQSCkAAAAAAAAQSCkAAAAAAAAQSCkAAAAAAAAQSCkAAAAAAAAQSCkAAAAAAAAQSCkAAAAAAAAQSCkAAAAAAAAQSCkAAAAAAAAQSCkAAAAAAAAQSCkAAAAAAAAQSCkAAAAAAAAQSCkAAAAAAAAQUgtpDCzA83sTjN71MweMbOL4umfMbO1ZvZg/PO2ssd82szazexxMzutbPrp8bR2M7skrZoBAAAAAPlRLBa1ePFidXd3Z10KEpJmT4oeSf/k7odJOlbSBWZ2WDzv39z9yPjnFkmK5y2UdLik0yX9h5lNMLMJkr4u6QxJh0l6X9lyAAAAAADjVEtLi1atWqWlS5dmXQoSklpI4e7r3P338e0XJa2WNLvCQ86S9AN33+7uT0lql3RM/NPu7h3u/rKkH8T3BQAAAACMU8ViUa2trXJ3tba20ptijBiVMSnMbK6koyT9Np50oZk9ZGbXm9ne8bTZkp4pe9iaeNpQ0wEAAAAA41RLS4v6+vokSX19ffSmGCNSDynMbJqkGyV90t03SbpG0sGSjpS0TtIXE1rPeWa2wsxWrF+/PolFAgAAAAAC1dbWpp6eHklST0+P2traMq4ISUg1pDCziYoCiqXu/lNJcvc/u3uvu/dJ+pai0zkkaa2kA8sefkA8bajp/bj7te4+393nNzQ0JP/HAAAAAACC0djYqPr6eklSfX29GhsbM64ISUjz6h4m6TpJq939S2XTZ5bd7RxJq+LbN0laaGaTzOw1kg6V9DtJ90s61MxeY2a7KRpc86a06gYAAAAAhK+5uVl1ddEhbV1dnRYtWpRxRUhCfYrLPl7S+yU9bGYPxtMuVXR1jiMluaSnJX1Uktz9ETP7kaRHFV0Z5AJ375UkM7tQ0m2SJki63t0fSbFuAAAAAEDgCoWCmpqatGzZMjU1NWnGjBlZl4QEpBZSuPvdkmyQWbdUeMwVkq4YZPotlR4HAAAAABh/mpub1dnZSS+KMSTNnhQAAAAAAKSmUChoyZIlWZeBBI3KJUgBAAAAAACqIaQAAAAAAABBIKQAAAAAAABBIKQAAAAAAABBIKQAAAAAAABBIKQAAAAAAABBIKQAAAAAAABBIKQAAAAAAABBIKQAAAAAAABBIKQAAAAAAABBIKQAAAAAAABBIKQAAAAAAABBIKQAAAAAAABBIKQAAAAAAABBIKQAAAAAAABBIKQAAAAAAABBIKQAAAAAAABBIKQAAAAAAABBIKQAAAAAAABBIKQAAAAAAABBIKQAAAAAAABBIKQAAAAAAABBIKQAAAAAAABBIKQAAAAAAABBIKQAAAAAAABBIKQAAAAAAABBIKQAAAAAAABBIKQAAAAAAABBIKQAAAAAAABBIKQAAAAAAABBIKQAAAAAAABBIKQAAAAAAABBIKQAAAAAAABBIKQAAAAAAABBIKQAAAAAAABBIKQAAAAAAABBIKQAAAAAAABBIKQAAAAAAABBIKQAAAAAAABBIKQAAAAAAABBIKQAAAAAAABBIKQAAAAAAABBIKQAAAAAAABBIKQAAAAAAABBIKQAAAAAAABBIKQAAAAAAABBIKQAAAAAAABBIKQAAAAAAABBIKQAAAAAAABBIKQAAAAAAABBIKQAAAAAAABBIKQAAAAAAABBIKQAAAAAAABBIKQAAAAAAABBIKQAAAAAAABBIKQAAAAAAABBIKQAAAAAAABBIKQAAAAAkCvFYlGLFy9Wd3d31qUASFhqIYWZHWhmd5rZo2b2iJldFE+fYWa3m9kT8e+94+lmZl81s3Yze8jM3li2rHPj+z9hZuemVTMAAACA8LW0tGjVqlVaunRp1qUASFiaPSl6JP2Tux8m6VhJF5jZYZIukXSHux8q6Y64LUlnSDo0/jlP0jVSFGpI+mdJb5Z0jKR/LgUbAAAAAMaXYrGo1tZWubtaW1vpTQGMMamFFO6+zt1/H99+UdJqSbMlnSXphvhuN0g6O759lqTveeQ+SXuZ2UxJp0m63d273f0FSbdLOj2tugEAAACEq6WlRX19fZKkvr4+elMAY8yojElhZnMlHSXpt5L2c/d18axnJe0X354t6Zmyh62Jpw01feA6zjOzFWa2Yv369cn+AQAAAACC0NbWpp6eHklST0+P2traMq4IQJJSDynMbJqkGyV90t03lc9zd5fkSazH3a919/nuPr+hoSGJRQIAAAAITGNjo+rr6yVJ9fX1amxszLgiAElKNaQws4mKAoql7v7TePKf49M4FP9+Lp6+VtKBZQ8/IJ421HQAAAAA40xzc7Pq6qLDmLq6Oi1atCjjigAkKc2re5ik6yStdvcvlc26SVLpCh3nSvrvsukfiK/ycaykjfFpIbdJajKzveMBM5viaQAAAADGmUKhoKamJpmZmpqaNGPGjKxLApCg+hSXfbyk90t62MwejKddKukqST8ys49I6pT0nnjeLZLeJqld0hZJH5Ikd+82s89Luj++3+fcnSF8AQAAgHGqublZnZ2d9KIAxiCLhoUYW+bPn+8rVqzIugwAAAAAADCAma109/mDzRuVq3sAAAAAAABUQ0gBAAAAAACCQEgBAAAAAACCQEgBAAAAAACCQEgBAAAAJKxYLGrx4sXq7uaidACwKwgpAAAAgIS1tLRo1apVWrp0adalAECuEFIAAAAACSoWi2ptbZW7q7W1ld4UALALCCkAAACABLW0tKivr0+S1NfXR28KANgFhBQAAABAgtra2tTT0yNJ6unpUVtbW8YVAUB+EFIAAAAACWpsbFR9fb0kqb6+Xo2NjRlXBAD5QUgBAAAAJKi5uVl1ddHH7Lq6Oi1atCjjigAgPwgpAAAAgAQVCgU1NTXJzNTU1KQZM2ZkXRIA5EZ91gUAAAAAY01zc7M6OzvpRQEAu4iQAgAAAEhYoVDQkiVLsi4DAHKH0z0AAAAAAEAQCCkAAAAAAEAQCCkAAAAAAEAQCCkAAAAAAEAQCCkAAAAAAEAQCCkAAAAAAEAQCCkAAAAAAEAQCCkAAAAAAEAQCCkAAAAAAEAQCCkAAAAAAEAQCCkAAAAAAEAQCCkAAAAAAEAQCCkAAAAAAEAQCCkAAAAAAEAQCCkAAAAAAEAQCCkAAAAAAEAQCCkAAAAAAEAQag4pzGyOmf11fHuyme2RXlkAAAAAAGC8qSmkMLO/l/QTSd+MJx0g6ecp1QQAAAAAAMahWntSXCDpeEmbJMndn5C0b1pFAQAAAACA8afWkGK7u79caphZvSRPpyQAAAAAADAe1RpS3GVml0qabGanSvqxpJvTKwsAAAAAAIw3tYYUl0haL+lhSR+VdIuky9IqCgAAAAAAjD/1Nd5vsqTr3f1bkmRmE+JpW9IqDAAAAAAAjC+19qS4Q1EoUTJZ0i+TLwcAAAAAAIxXtYYUu7v75lIjvj0lnZIAAAAAAMB4VGtI8ZKZvbHUMLOjJW1NpyQAAAAAADAe1TomxScl/djMuiSZpP0lvTetogAAAAAAwPhTU0jh7veb2esk/UU86XF335FeWQAAAAAAYLypGFKYWaO7t5nZuwbMeq2Zyd1/mmJtAAAAAABgHKnWk+IkSW2S3jHIPJdESAEAAAAAABJRMaRw9382szpJt7r7j0apJgAAAAAAMA5VvbqHu/dJungUagEAAAAAAONYrZcg/aWZLTazA81sRukn1coAAAAAAMC4UuslSN+raAyKjw+YPi/ZcgAAAAAAwHhVa0hxmKKA4gRFYcWvJX0jraIAAAAAAMD4U2tIcYOkTZK+Greb42nvSaMoAAAAAAAw/tQaUhzh7oeVte80s0fTKAgAAAAAAIxPtQ6c+XszO7bUMLM3S1qRTkkAAAAAAGA8qrUnxdGS7jWzP8XtgyQ9bmYPS3J3f0Mq1QEAAAAAgHGj1pDi9FSrAAAAAAAA415NIYW7d6ZdCAAAAAAAGN9qHZMCAAAAAAAgVYQUAAAAAAAgCIQUAAAAwDjX3t6uc845Rx0dHVmXAmCcSy2kMLPrzew5M1tVNu0zZrbWzB6Mf95WNu/TZtZuZo+b2Wll00+Pp7Wb2SVp1QsAAACMV1dffbW2bNmiq666KutSAIxzafak+K4GvyrIv7n7kfHPLZJkZodJWijp8Pgx/2FmE8xsgqSvSzpD0mGS3hffFwAAAEAC2tvb1dkZjZPf2dlJbwoAmUotpHD35ZK6a7z7WZJ+4O7b3f0pSe2Sjol/2t29w91flvSD+L4AAAAAEnD11Vf3a9ObAkCWshiT4kIzeyg+HWTveNpsSc+U3WdNPG2o6a9iZueZ2QozW7F+/fo06gYAAADGnFIviqHaADCaRjukuEbSwZKOlLRO0heTWrC7X+vu8919fkNDQ1KLBQAAAMa0OXPmVGwDwGga1ZDC3f/s7r3u3ifpW4pO55CktZIOLLvrAfG0oaYDAAAASMDFF1/cr33JJYxVDyA7oxpSmNnMsuY5kkpX/rhJ0kIzm2Rmr5F0qKTfSbpf0qFm9hoz203R4Jo3jWbNAAAAwFh2yCGH7Ow9MWfOHM2bNy/jigCMZ2legvT7kn4j6S/MbI2ZfUTS1Wb2sJk9JOmtkv63JLn7I5J+JOlRSf8j6YK4x0WPpAsl3SZptaQfxfcFAAAAkJCLL75YU6ZMoRcFgMyZu2ddQ+Lmz5/vK1asyLoMAAAAAAAwgJmtdPf5g83L4uoeAAAAAAAAr0JIAQAAAAAAgkBIAQAAAAAAgkBIAQAAAAAAgkBIAQAAAAAAgkBIAQAAAAAAgkBIAQAAAAAAgkBIAQAAAAAAgkBIAQAAAAAAgkBIAQAAAAAAgkBIAQAAAAAAgkBIAQAAAAAAgkBIAQAAAAAAgkBIAQAAAAAAgkBIAQAAAAAAgkBIAQAAAAAAgkBIAQAAAAAAgkBIAQAAACSsWCxq8eLF6u7uzroUAMgVQgoAAAAgYS0tLVq1apWWLl2adSkAkCuEFAAAAECCisWiWltb5e5qbW2lNwUA7AJCCgAAACBBLS0t6uvrkyT19fXRmwIAdgEhBQAAAJCgtrY29fT0SJJ6enrU1taWcUUAkB+EFAAAAECCGhsbVV9fL0mqr69XY2NjxhUBQH4QUgAAAAAJam5uVl1d9DG7rq5OixYtyrgiAMgPQgoAAAAgQYVCQU1NTTIzNTU1acaMGVmXBAC5UZ91AQAAAMBY09zcrM7OTnpRAMAuIqQAAAAAElYoFLRkyZKsywCA3OF0DwAAAAAAEARCCgAAAAAAEARCCgAAAAAAEARCCgAAACBhxWJRixcvVnd3d9alAECuEFIAAAAACWtpadGqVau0dOnSrEsBgFwhpAAAAAASVCwW1draKndXa2srvSkAYBcQUgAAAAAJamlpUV9fnySpr6+P3hQAsAsIKQAAAIAEtbW1qaenR5LU09Ojtra2jCsCgPwgpAAAAAAS1NjYqPr6eklSfX29GhsbM64IAPKDkAIAAABIUHNzs+rqoo/ZdXV1WrRoUcYVAUB+EFIAAAAACSoUCmpqapKZqampSTNmzMi6JADIjfqsCwAAAADGmubmZnV2dtKLAgB2ESEFAAAAkLBCoaAlS5ZkXQYA5A6newAAAAAAgCAQUgAAAAAAgCAQUgAAAAAAgCAQUgAAAAAAgCAQUgAAAAAJKxaLWrx4sbq7u7MuBQByhZACAAAASFhLS4tWrVqlpUuXZl0KAOQKIQUAAACQoGKxqNbWVrm7Wltb6U0BALuAkAIAAABIUEtLi/r6+iRJfX199KYAgF1ASAEAAAAkqK2tTT09PZKknp4etbW1ZVwRAOQHIQUAAACQoMbGRtXX10uS6uvr1djYmHFFAJAfhBQAAABAgpqbm1VXF33Mrqur06JFizKuCADyg5ACAAAASFChUFBTU5PMTE1NTZoxY0bWJQFAbtRnXQAAAAAw1jQ3N6uzs5NeFACwiwgpAAAAgIQVCgUtWbIk6zIAIHc43QMAAAAAAASBkAIAAAAAAASBkAIAAAAAAASBkAIAAAAAAAQhtZDCzK43s+fMbFXZtBlmdruZPRH/3juebmb2VTNrN7OHzOyNZY85N77/E2Z2blr1AgAAAACAbKXZk+K7kk4fMO0SSXe4+6GS7ojbknSGpEPjn/MkXSNFoYakf5b0ZknHSPrnUrABAAAAAADGltRCCndfLql7wOSzJN0Q375B0tll07/nkfsk7WVmMyWdJul2d+929xck3a5XBx8AAAAAAGAMGO0xKfZz93Xx7Wcl7Rffni3pmbL7rYmnDTX9VczsPDNbYWYr1q9fn2zVAAAAAAAgdZkNnOnuLskTXN617j7f3ec3NDQktVgAAAAAADBKRjuk+HN8Gofi38/F09dKOrDsfgfE04aaDgAAAAAAxpjRDiluklS6Qse5kv67bPoH4qt8HCtpY3xayG2Smsxs73jAzKZ4GgAAAAAAGGPq01qwmX1f0smS9jGzNYqu0nGVpB+Z2UckdUp6T3z3WyS9TVK7pC2SPiRJ7t5tZp+XdH98v8+5+8DBOAEAAAAAwBhg0dAQY8v8+fN9xYoVWZcBAAAAAAAGMLOV7j5/sHmZDZwJAAAAAABQjpACAAAAAAAEgZACAAAAAAAEgZACAAAAAAAEgZACAAAAAAAEgZACAAAAAAAEgZACAAAAAAAEgZACAAAAAAAEgZACAAAAAAAEgZACAAAAAAAEgZACAAAAAAAEgZACAABgnCoWi1q8eLG6u7uzLgUAAEmEFAAAAONWS0uLVq1apaVLl2ZdCgAAkggpAAAAxqVisajW1la5u1pbW+lNAQAIAiEFAADAONTS0qK+vj5JUl9fH70pAABBIKQAAAAYh9ra2tTT0yNJ6unpUVtbW8YVAQBASAEAADAuNTY2qr6+XpJUX1+vxsbGjCsCAICQAgAAYFxqbm5WXV30UbCurk6LFi3KuCIAAAgpAAAAxqVCoaCmpiaZmZqamjRjxoysSwIAQPVZFwAAAIBsNDc3q7Ozk14UAIBgEFIAAACMU4VCQUuWLMm6DAAAduJ0DwAAAAAAEARCCgAAAAAAEARCCgAAAAAAEARCCgAAAAAAEARCCgAAAAAAEARCCgAAAAAAEARCCgAAAAAAEARCCgAAAAAAEARCCgAAAAAAEARCCgAAAAAAEARCCgAAAAAAEARCCgAAAAAAEARCCgAAAAC5UiwWtXjxYnV3d2ddCoCEEVIAAAAAyJWWlhatWrVKS5cuzboUAAkjpAAAAACQG8ViUa2trXJ3tba20psCGGMIKQAAAADkRktLi3p7eyVJvb299KYAxhhCCgAAAAC50dbW1i+kaGtry7giAEkipAAAAACQG8cdd1zFNoB8I6QAAAAAkFtmlnUJABJESAEAAAAgN+69995+7XvuuSejSgCkgZACAAAAQG40Njaqvr5eklRfX6/GxsaMKwKQJEIKAAAAALnR3NysurroMKaurk6LFi3KuCIASSKkAAAAAJAbhUJBTU1NMjM1NTVpxowZWZcEIEGEFAAAAABy5YwzztDkyZN15plnZl0KgIQRUgAAAADIlVtvvVVbt27VsmXLsi4FQMIIKQAAAADkRrFYVGtrq9xdra2t6u7uzrokAAkipAAAAACQGy0tLerr65Mk9fX1aenSpRlXBCBJhBQAAAAAcqOtrU09PT2SpJ6eHrW1tWVcEYAkEVIAAAAAyI3GxkbV19dLkurr69XY2JhxRQCSREgBAAAAIDeam5tVVxcdxtTV1WnRokUZVwQgSYQUAAAAAHKjUChowYIFkqSTTjpJM2bMyLgiAEkipAAAAACQS+6edQkAEkZIAQAAACA3isWili9fLklavnw5lyAFxhhCCgAAAAC5wSVIUa5YLGrx4sWEVWMIIQUAAACA3OASpCjX0tKiVatWEVaNIYQUAAAAAHKDS5CipFgsqrW1Ve6u1tZWelOMEYQUAAAAAHKDS5CihFN/xiZCCgAAgITk7dzovNULSNElSJuammRmampq4hKkCcvT6wKn/oxNmYQUZva0mT1sZg+a2Yp42gwzu93Mnoh/7x1PNzP7qpm1m9lDZvbGLGoGAACoJm/nRuetXqCkublZRxxxBL0oUpCn1wVO/RmbsuxJ8VZ3P9Ld58ftSyTd4e6HSrojbkvSGZIOjX/Ok3TNqFcKAABQRd7Ojc5bvUC5QqGgJUuW0IsiYXl7XeDUn7EppNM9zpJ0Q3z7Bklnl03/nkfuk7SXmc3MoD4AAIAh5e3c6LzVi3TlqYs/0pO314VCoaAFCxZIkk466SRCqzEiq5DCJbWa2UozOy+etp+7r4tvPytpv/j2bEnPlD12TTytHzM7z8xWmNmK9evXp1U3AADAoPJ2bnTe6kW68tTFH+nJ8+uCu2ddAhKSVUhxgru/UdGpHBeY2YLymR7tYbu0l7n7te4+393nNzQ0JFgqAABAdXk7Nzpv9SI9eevij/Tk7XWhWCxq+fLlkqTly5ez744RmYQU7r42/v2cpJ9JOkbSn0unccS/n4vvvlbSgWUPPyCeBgAAEIy8nRvd3NwsM5OUj3qRnrx18Ud68vY6xr47No16SGFmU81sj9JtSU2SVkm6SdK58d3OlfTf8e2bJH0gvsrHsZI2lp0WAgAAxri8nCuft8siFgoFTZ06VZI0ZcqU4OuVpJUrV+qMM87QAw88kHUpY0qeu/gjWXl7HWPfHZuy6Emxn6S7zewPkn4naZm7/4+kqySdamZPSPrruC1Jt0jqkNQu6VuSPj76JQMAgKzk6Vz5PF0WsVgsasOGDZKkDRs2BB8CSdKVV16pvr4+XX755VmXMqbkrYs/0pWn17GB+yr77tgw6iGFu3e4+1/FP4e7+xXx9KK7n+Luh7r7X7t7dzzd3f0Cdz/Y3V/v7itGu2YAAJCNvJ0rn6fLIn72s5+t2A7NypUrtXnzZknS5s2b6U2RoLx18Ue68vQ6dtxxx/Vrn3DCCRlVgiSFdAlSAACAfjjfOD2PP/54v/Zjjz2WUSW1ufLKK/u16U2RnLx18QdKvvnNb/ZrX3PNNRlVgiQRUgAAgGBxvjFKSr0ohmpjZPLUxR8o6ezsrNhGPhFSAACAYHGuPEqmTZtWsR2avAz4WpKnLv5AyZw5cyq2kU+EFAAAIFicK5+eD33oQ/3af/d3f5dRJbW59NJL+7Uvu+yyjCqpzfXXX6+HH35Y119/fdalALskTwHbxRdf3K99ySWXZFQJkkRIAQAAgsW58ulZuHBhv/a73/3ujCqpzdFHH72z98S0adN01FFHZVzR0IrF4s5Tk+64445cHOzl6cAU6SoFbNddd13WpVR1yCGH9HtdmDdvXsYVIQmEFAAAIGicK5+eUm+K0HtRlFx66aWqq6vLRS+K8gFf89CbIk+X+kV6ygO2tra24EOrYrGobdu2SZK2b98efL2oDSEFAAAIGufKp2fhwoW67bbbgu9FUXL00Ufr1ltvDboXhST96le/6te+8847symkRnm71C/SMzBgC703RUtLy87b7k7INkYQUgAAAAAJcveK7dBwqV+UDAzUQg/YuALU2ERIAQAAACTouOOO69c+/vjjM6qkNhzoocTMKrZDwxWgxiZCCgAAACBFofekyFuogvScfPLJ/dpvfetbsymkRlwBamwipACAYWIkdADAYO69996K7dCFHqogPeecc06/9rve9a6MKqlNoVDQggULJEkLFixg7KIxgpACAIaJkdABAIPJ25gU99xzT8U2xo9bb7115ykeZqZly5ZlXFHtQj81BbUjpACAYWAkdADAUHbfffeK7dDsu+++FdsYP9ra2naGau4e/PgkxWJRy5cvlyTdddddfB4bIwgpAGAYGAkdADCULVu2VGyH5rnnnqvYxviRt4EoW1pa1NvbK0nq7e3l89gYQUgBAMPASOgAgLHilFNO6dfF/5RTTsm4ImQlbwNRtrW19Qsp+Dw2NhBSAMAw5O2bBgDA6DnxxBMrtkPT3Ny88z1t4sSJwR+YIj2FQkFNTU0yMzU1NQU/EOXRRx/drz1//vyMKkGSCCkAYBjy9k0DAGD0nH/++f3aH//4xzOqpDaFQkGnnXZabg5Mka7m5mYdccQRufhs09HRUbGNfCKkAIBhyNs3DQBGR94uTZy3evOiUCjs7D1x4okn5uI9Ik8HpnmTt+dZoVDQkiVLcrHfrl27tl97zZo1GVWCJBFSAMAw8YEOwEB5uzRx3urNk4ULF2rKlClqbm7OupSa5OnANG94nqVnzpw5FdvIJ0IKABgmPtABKJe3SxPnrd68ufXWW7V161YtW7Ys61KQIZ5n6br44ov7tS+55JKMKkGSCCkAAEDQ7rzzTp122mlavnx51qVUlLdLE+et3jwpFou67bbbODAFz7OUHXLIIZo2bZokadq0aZo3b17GFSEJhBQAACBoS5YskSR94QtfyLiSyvJ2aeK81ZsnLS0tO7ftjh07ODAdx3iepatYLGrbtm2SpO3btxMIjhGEFAAAIFh33nlnvw/4IfemOO644/q1jz/++IwqqQ2XUk7PHXfcIXeXJLm77rjjjowrQlZ4nqWrpaVl5213JxAcIwgpAABAsEq9KEpC701RrnSQGioupZyegWMVMXbR+MXzLF30VBmbCCkAYJjydkkxII9KHz6HaofknnvuqdgOTaFQ0IIFCyRJJ510EgfSCerq6qrYxviRx0uWt7e365xzzlFHR0fWpVTV2NjYLwSip8rYQEgBAMPEJcWA9JW6SQ/VDsm+++5bsR2y0Ht9AHl2xhlnaPLkyTrzzDOzLqUmV199tbZs2aKrrroq61Kqam5u7jcwKT1VxgZCCgAYBi4pBoyOj33sY/3aF1xwQUaVVPfcc89VbIemWCzuHONj+fLlvI4lyMwqtkNE78D05OlytO3t7ers7JQkdXZ2Bt+b4oUXXujX3rBhQzaFIFGEFAAwDFxSDBgdTz/9dL/2k08+mU0hNTjllFN2HoyamU455ZSMK6qM17H0zJw5s1971qxZGVVSO3oHpiNvl6O9+uqr+7VD701x5ZVX9mtfccUVGVWCJBFSAMAwMFATMDoGPrdCfq41NzfvPB1l4sSJwXc75nUsPQMPRIvFYkaV1IbegenJ2+VoS70ohmqHZu3atf3aa9asyagSJImQAgCGgUuKIc/y1K07T8+1QqGgk046SZK0YMGC4AfIy9O2zZs89qrp7e2VJPX29gZ/IJ0nebsc7Zw5cyq2gdFASAEAw8AlxZBneerW3dzc3O9gLy/PtTyMQZDHbZuXqw40NzdrwoQJkqQJEyYEv23b2tr6hRR56FWTl7A1bwPqfvSjH+3XPv/88zOqpDYNDQ392qFvX9SGkAIAhiGPlxQDpPx16y4UCjvP5581a1bQz7Visai77rpLknTXXXexbVNw5ZVXasuWLbr88suzLqWiQqGgiRMnSopO/Ql92x533HEV2yHKS9iatwF177333n7tu+++O6NKajPwVKrnn38+o0qQJEIKABim5uZmHXHEEcF/Q4b05eUbPSl/gyUWi0V1dXVJktatWxf0Ns7bued52rZS1IuidP752rVrg+5N0d7erq1bt0qStm7dGnSt0qsP9ELfF/IUth5//PH92ieccEJGldTml7/8ZcV2aErvZ0O1kU+EFAAAjFBevtGT8jdYYktLy87zuUMPVfJ27nmetq306lH8Q+5NMbC2z33ucxlVUpsHHnigX/v3v/99RpXUJk9h6/bt2/u1t23bllEltSmNUzNUGxgNhBQAMEx5OjBFevL0jZ6Uv8ES8xSq5O3c8zxtW+nVo/gPbIdk3bp1FdsYmTztuwNPnxjYDs3mzZsrtoHRQEgBAMOQtwNTpCdP3+hJ+Rv0NU+hSt7OPR+4LUPettKrByPNw+CkeTF16tSK7dDkad8t9VYaqh2a2bNn92sfcMABGVVSm7zVi9oQUgDAMOTtwBTpydM3elL+Bn3NU6iSt8tOnnHGGf3aZ555ZkaV1GbgufwnnnhiRpVUN3ny5Irt0PzDP/xDv/YnP/nJbAqp0dy5c/u1Dz744GwKqUHe9oV58+ZVbIfmggsu6Ne+8MILM6oESSKkAMa4PA3olyd5OzBFevL0TX9JngZ9LRQKWrBggSTppJNOCjpUKQ9U8nDZyZ/97Gf92jfeeGNGldRm4cKF/drve9/7MqqkutL7w1Dt0Nxzzz392suXL8+oktp84xvf6Nf++te/nlEl1b300ksV26FZsWJFv/b999+fUSW1Gfj5K/SBPlEbQgpgjGPchHTk8cAU6Whubu7Xqyb0A9M8evHFF/v9DlWhUNCkSZMkSbvttlvQgYok3XnnnRXbobn11lv7tZctW5ZRJdXlrYv/r3/964rt0OQpBJoyZUrFdmimT59esR2agSEFXxqNDYQUwBjGuAnpyVMXdGCgPIWXxWJRv/3tbyVJ9913X9CvY+3t7dqyZYskacuWLcFfdjJvl+7L06UR83QQnUcTJkyo2A5J6TVhqHZonn322Yrt0OTtdQy1IaQAxjDGTUhP3s7rR3paWlr6jUMQ+vMsb+HlNddcU7EdkoGXyLziiisyqqQ2paB1qHZo8nRginTttddeFdsA8i3sdyMgQO3t7TrnnHOC/4ZMYtyEtOXpvH6kp62tTb29vZKk3t7e4J9nLS0t/V4XQg9V7r777n7tkLuhD7wk5po1azKqpDaFQqFiOzR5O7cf6SkWixXbAPKNkALYRVdffbW2bNmiq666KutSqmLchHQVCgUtWbKEXhTjXN6eZ21tbf16WIUequTt3P48ydslUwEA4wMhBbAL2tvb1dnZKUnq7OwMvjcF4yYA6cvb8+zoo4+u2A7N1KlTK7YBAMDYUp91AUCeXH311f3aV111la699tqMqqmuNG7CsmXLGDdhGK655pqKQVSpa/fs2bMrLmfevHk6//zzE60N4cjb82zgPv3UU09lVEmk2vNs4CBzW7du1ac+9alX3Y/nGUZbpX13r7320oYNG/q1B9tvJfZdABiInhTALij1ohiqHSLGTUjPtm3btG3btqzLQADy9DzL27gJe++9d8U2EKKZM2dWbAMAhkZPCmAXzJkzp18wMWfOnAyrqU1p3ATsumrfbJW+FfvXf/3X0SgHGaq1V82//Mu/VFzOaHxjWq3WSZMmafv27f3aWX7DW235xWJRixYtkrtr4sSJ+trXvpZpb5Vq23cgvj2v3a5uW2nw7Tta27baOt773vdqw4YNOvXUU7V48eLU6wGAsYKQAhig0oekiRMn9mvvtttufADdBbV8AK3lFAq2LUKTpx41Bx54oNrb23e2DzrooAyrqa5QKGjvvfdWd3e3TjvttKBPp5k5c6bWrVu3sz1r1qwMq6n+mjt58mRt3bq1Xzvk97TQtm81M2fO1I4dO/ThD38461KAnZIKA6UwXhfyZuXKlbrssst05ZVX6qijjsq6nGARUgC7YMqUKTIzubsmTZqkyZMnZ13SmJOng72QJBUASXzoGEyeetXU8r975zvfqe3bt2vOnDn62te+NgpVjcx+++2n7du3B3E6TbXte9ppp0mSzEzf+c53RqOkYZs7d65Wr17dr52lWvbd0vaVFPz2nThxog4++OAggjUOTNNFDyvU6sorr1RfX58uv/xy3XjjjVmXEyxCCmCAam8OF1xwgTo6OvTlL39Z8+bNG6WqBpe3A9Nalh/Swd5YQwCEkgMPPFAdHR265JJLsi6lJiEd7FVT+rb/E5/4RNal1PSae/bZZ2vr1q16/etfn4tTA0vb96KLLsq6FKQob6f+5Em17XHzzTf3C68vuugive1tb0u7rHFh5cqV2rx5syRp8+bNeuCBB+hNMQRCCowrw3nTG2jdunWaPHmyrrnmmhHXMxpvnhyYjg8EQNgVU6ZM0RFHHJF50DoWNTQ0qKGhITcf6ufOnas//elPuvTSS7MupSZ5276hqPYesXLlyn77wFVXXcXB0y6otH0XL16shx9+eGf7yCOP1Be+8IXRKGtY3vGOd+wMKcyM51qCrrzyyn5telMMjZAC40pHR4f+uPoh7T/dhr2Mul6XJG3qerjKPSt7dqOP6PESB6YjkURg9eSTT0oautvmruDbHgBZyFMvFaTn6KOP3nl79913zzygqPZ+eNFFF+mxxx7b2T788MOD/ZyzZMmSfqcphRxQlITUI2ws9aop9aIYqo1XEFJg3Nl/uunDC7Lf9a9f3pN1CeNaR0eHHl39kKaP4HN5nFdp7Z8fGlEtG7ur3yekUCWEN/okhbRtperbN6R6R6NWKV/1si8Mjn1hZEbjdXfu3Ll6+umn9ZnPfCbV9SThK1/5Sr8D/y996UsZVlPd7rvvrm3btunII4/MupSa0GMJWcv+SA0AMjJ9hnRcU9ZVSPe2Vr9PR0eHHnnsIU0ZQajychyqPPXc8EOVLTUEKnnT0dGhhx57RCpMGf5C/GVJ0kPrnxpZMcUtVe8S1fuoVNhz+OvxKCR9aP2a4S+juKnqXaJaV8sKew9/PZLc+yRJD69/dvjLKL5Q9T5RvY/JCsN/orlHT7SH1z837GVIkherP9mieh+XFRqGvx6PehY+vH74T24vrq96n1KtdYX9h70eSerzOknSqvUbh7+MYvX9KKr3CU0oHDD89Xh0RbBH1m+tcs/KeosjeJ7ugj333FNveMMbMu9FUavS5ZQPP/zwrEup6rWvfa2k0elFEVLAlkS4Vu3xH/nIR7RmzSvPkYMOOijYXjWoHSEFxpWuri69uMGD6MWwboNrs7qGnD8ev3WSRq/erq4ubdxYW0CQto3dkvUOvS9IUb0a4RlCu4/gmHYnj2sZawpTNOGs7D/o9v73I1Xvk8j2nz515MtQbbVYYW/Vv+OURNY3Ej0331HT/awwQ/Vvf3vK1VTX84tfVL1PtP1H9sJg0/ca0eMjXtO+UFfYX5Pf8aEE1jcyW2+u7aogEwoHaI93/mPK1VT34k3Vewnk6cA0qc8L9fX1qq+v14QJE0ZU81jrVdPR0aEnHm3XAXsO//LSE3t2kyRtXfPysJexZtOfhv3YXXHdddf161XzrW99a1TWi3QRUmDcebk3CgiGq6c3+l0/YeR1VNLR0aHHVj+khr1Gth5FX0CquG74356v31D9Ph0dHVq9+iHNGNkXpoq/MNWfnx1+vd3VvzAFMAq6urrkmzbWHBCkyYsvqGtHX8X77Ky3hoAgbV4sqmtH9oF6Urq6utS36cWaA4I09RWfVdeOlyrep6urS72bXqopIEhbb3GNunZUDhY7Ojr06GPt2rMw/APTHo8OTNesH/6B6aZi9QPTjo4OPfZYu/aZMWfY65EkxfU+/9yOYS/i+e7Oqvfp6OjQ46vbtf/ew9+2dX1RrRufHf62laRnX6jtwP+APQ/SJ4/LdjDcL997ZdX7JBVYlUycODHVwKoWXI42GYQUGJFrrrlGt99+e8X7bNmyZWf315EwM02ZUrk79qmnnlrxCX3CCSckloYffPDBI1qOpKoj6zfsJb37rSNMQxLw4zurJCpK7tv1PfZIZDFV65k1a5Y2bHx+ROt46cXo99QEap41a1bV+dvrn9dfnjn8QV+TsHqZa9a+lWvNm66uLmnTlpp6MaSuuEVdO6rvu89v2jCy9WyMD9BG2KOi2n6LdM2aNUvFibtr0tvfnWkd23/xY81qYODNLCXRq2bq9P0SqKS2XjX7zJijs99+WQLrG5mf/+LyqvdJYtvO2COJbSvVsn27urr00qaXagoJ0rRmU6emdlUP19offUIH7TF7ROvae9J0SdJ+Uxr08jPVT5sczJ9eXDuiGvKolkBl7dpou8yeXfl/lHSoQkiBcSWJJ89oXS2jq6tLmzbWFhCkbf0GabuPrS7+SVx68cnNUWA1e7+RBVaz90umnlDUEl5u375dfX2Vv9Uuza+rqxvyPnV1dZo0aVLF5VQLLyVJO3prGg9iSD3x31I/dK012VH9+Z7IvrspDlsbhn++vRqq1xIFKsMfO6DEN0aJoE0fWSJYSxj4/KbqY21U4hujx9v0kZ5fZTWFQF5cr+2/+PGw1+IbN0RrG8FpH15cL1UJKaJt+/iw11HSF480XDeSUY9V677wxIjW0bcxGqujbvrwxwwpr2esiD7fbKkpIEjb88VOvdwzgvGIMCJdXV3ykZ7LqiicGCmvIQAaac+PyZMna+vWrf3aQ+no6KjaK2Skpyp1dXX1q2cwpfnbtm2reL+urq6K69rVECM3IYWZnS7pK5ImSPq2u19V62Pz9G3/aNYqVa+32of7888/f8x1Rar2hK71vMLx1k1r1qxZmlD3vE7L/tRz3XaHtN/+lT/Q5SmwKtnSHfVkGK5t8bHXSMam2NItad/hP76kt7e35texSmFGEq+FtfSwqvZGvrUnmjd54u4VlzN58uSqBxvVDvzztO8mFb49uSnq+XFwwwgGXWzYv2o9yQRAUaBycMMInygN+45SvdH5cQePpCdEw4xRqVWSntwU9YA7uGH68BfSMH2Utm10GsLBDUMfiNSk4dCaAsENm9pHtJqXNv5Z0kh7VNQWru3o2abni9VPtaikpzc6daJ+wm7DXsaOnm2SKn9unzVrlh7fOLJt2/1itG1H3qOi+vadNWuWntgwsnrXvxTV2zA1/X1he8/L6nxxZIPD7uiNnmsTJ0wc9jK297ysan0L7777bnU/X9Sk+uHtcwM/s/jLvXri0eGFt9t7XlZXV1fFzwSv1Dv87VIXl9y3vfJpVS9t36EnNgwe8m/v2VG11oFyEVKY2QRJX5d0qqQ1ku43s5vc/dFsK8N4tPvulQ9CkjJr1ixtGuHpCJK0Ib4E817TRl5PNd0vRAHBUF58UUriFOuJ9ZVPC+l+QdpvZAPISworsKr2AbWWNLx3WzS/zyp/YK54IL1vbQfR1f7epLoYjsbI4VL1erPqDjmYWrbtaO27SWzbWoWyL9RqNOpN8nxv9oVdN5pBdjKhSnTQf0DD8A/61XBI1VqSOPVWSu7029EIrJ5/Kdq20/cfwbaVNH3/6ts3iXp3PBnVO/mA4dd7qMbevlCLHb096vPKPUVLXu4d+sC/zuo0cUK6h+pRrbV92bO9p3JIUWeWaL25CCkkHSOp3d07JMnMfiDpLEk1hRR5+rY/T7WOVaFs/1peKGvqprU9nl83/APTwsxk3sR7+6rXW4vJkydX7Cmx3/6jc/rEaAVWUjIHIyEdSIfyPKtV3uqtZjT33STkqd481SpR70iEFGQTWA2O8PLV2BeGL4mel319fdq+fbsmTZpU8XTWJHpeVqu3luOIWlWrd1c/l+clpJgt6Zmy9hpJb86oFmBUJPXCPVoHpmPtIE7K19+Up1qRrrztC9SbnjzVKuWv3mpCClRqQb3pyVOtEvUOJW+vUXmrt5wlNbZBmszsbySd7u5/F7ffL+nN7n5h2X3Ok3SeJB100EFHd3aO7Dw3AAAAAACQPDNb6e7zB5s3wmHIR81aSQeWtQ+Ip+3k7te6+3x3n9/QMPIRXgEAAAAAwOjKS0hxv6RDzew1ZrabpIWSbsq4JgAAAAAAkKBcjEnh7j1mdqGk2xRdgvR6d38k47IAAAAAAECCchFSSJK73yLplqzrAAAAAAAA6cjL6R4AAAAAAGCMI6QAAAAAAABBIKQAAAAAAABBIKQAAAAAAABBIKQAAAAAAABBIKQAAAAAAABBIKQAAAAAAABBIKQAAAAAAABBIKQAAAAAAABBIKQAAAAAAABBIKQAAAAAAABBIKQAAAAAAABBIKQAAAAAAABBIKQAAAAAAABBIKQAAAAAAABBIKQAAAAAAABBMHfPuobEmdl6SZ0pLHofSc+nsNy0UG968lSrRL1pylOtEvWmKU+1StSbpjzVKlFvmvJUq0S9acpTrRL1pilPtUrp1TvH3RsGmzEmQ4q0mNkKd5+fdR21ot705KlWiXrTlKdaJepNU55qlag3TXmqVaLeNOWpVol605SnWiXqTVOeapWyqZfTPQAAAAAAQBAIKQAAAAAAQBAIKXbNtVkXsIuoNz15qlWi3jTlqVaJetOUp1ol6k1TnmqVqDdNeapVot405alWiXrTlKdapQzqZUwKAAAAAAAQBHpSAAAAAACAMLj7uPmRdL2k5yStKpv2V5J+I+lhSTdL2jOevpuk78TT/yDp5EGWd1P5sgbMM0lfldQu6SFJb8yqXkm/kvS4pAfjn32HWN+n43ofl3RaRrXupqhL0R8lPSbpfyVda1L1StqjbJs+qOjSPF8Otd543vvi6Q9J+h9J+yS97yZY63vj9T8i6QsV1jfSbXugpDslPRqv66J4+gxJt0t6Iv69d7XtI+nc+P5PSDp3iPUNutwMav0fSRsk/aLC+iZJ+mH8+N9KmpvFtpV0ZLz/PBJPf2/g9c6R9HtFrwuPSPpYyPtCPH9PSWskfS3pWlPYd3v1yuvuTSHvC/G8gyS1SlodL+9VtYyk3gT327eq/3vaNklnB75tr46XsTq+jwW+735B0qr4J/HXsWHU+jpFr63bJS0esKzTFb2vtku6JJDnWaV6X/XZY5D1jfTzTSL1DrWcJOtNsNbdJf1O0We0RyR9NvR9IZ4/QdIDGuIzTkj1Snpa0efgByWtCHVfiOftJeknio7RVkt6S9LPs53LGc6D8vojaYGkN6r/wdP9kk6Kb39Y0ufj2xdI+k58e19JKyXVlT3uXZJaNHRI8TZJt8b/qGMl/TarehWFFPOrrOswRS9AkyS9RtKTkiZkUOtnJV0e367T4AfRI6o16X2h7PErJS0ItV5J9YrewPeJ510t6TNJ77sJ1VqQ9CdJDfG8GySdktK2nalXPqTvoSggOyzePpfE0y9RHJQMtX0Uvdh3xL/3jm+/6sPwUMsdzVrjeadIeocqhxQfl/SN+PZCST/MaNu+VtKh8e1ZktZJ2ivgeneTNCm+PU3RB5BZoe4L8fyvKHpPGyqkGHatKey7m2tYXxD7QjzvV5JOLdsfpiRZb9L7QnyfGZK6k6414efZcZLuUXQwMkHRh+qTQ913JZ2p6ECgXtJURe+Le2a8L+wr6U2SrlD/A9MJit5P5yl6PfuDpMMC2BcGrTee96rPHoOsb6Sfb5LavoMuJ8l6E6zVJE2Lb09UdEB/bMj7Qjz/HxW9pw0VUgRTr6LPCK863gltX4jn3SDp7+Lbu2nwz2IjPgZ29/EVUsQbbq76Hzxt1Ctjcxwo6dH49tclvb/sfndIOia+PU3S3fE/eKiQ4puS3lfWflzSzIzq/ZWqhxSflvTpsvZtGiQdG4Van5E0Ne1ak6q3bNpr49oH+xYniHoVvbmsV/Qtr0n6hqTz0th3E6j1TZLuKJv+fkn/kda2HbDM/5Z0avnfregF/vFK20dRL5VvDrUdB9ue5csdzVrL2ierckixc3sq+mD9/GD7+GjVWzb9D4pDi9Dr1SuB22AhRRD7gqSjJf1A0gc1dEiRWK0J1FtLSBHEvqDoc8Ldo1lvQvvteZKWBr5t36Io2J4saYqkFZL+MtR9V9KnJP3fsunXSXpPlvtC2f0+o/4Hpm+RdFtZu997bVb7wlD1lk2fq8ohRSKfzZOqd+By0qw3iVrj59nvJb055H1B0gGKPk82auiQIqR6n1b1kCLzfUHSdElPVdtOSdXKmBRRt5ez4tvvVnQAJUUfgt9pZvVm9hpFH+JK8z4v6YuStlRY7mxFB60la+JpWdQrSd8xswfN7P+amY1SvbtUq5ntFc//vJn93sx+bGb7jVKtu1zvgMeWUlgPtV533yHpfEVdyroUfXi+bpTq3dVt2y7pL8xsrpnVSzpbr97middqZnMlHaXom4L93H1dPOtZSaV9cah11lrLUMsdzVprtfPx7t6jKGwqZFmvmR2jKL1/MuR6zexAM3sonv8Fd+8aZDWZ7wtmVqfo/WxxldUkUutI641v725mK8zsPjM7e4jVhLIvvFbSBjP7qZk9YGb/amYT0qo3wdeFhZK+P8Rqgti27v4bRV2Y18U/t7n76kFWE8q++wdJp5vZFDPbR9HpNRXf10ZhXxhKre8do70vjFRinxmSqnfAcgZKpN6R1mpmE8zsQUW9cW9394q1BrAvfFnSxZL6KtwnpHpdUquZrTSz86rVG8tiX3iNoi87vxO/n33bzKamVSshRdT1/ONmtlJRF5iX4+nXK9qoKxTt7PdK6jWzIyUd7O4/G/1SJe1ivfG8Re7+ekknxj/vD7TWekXp573u/kZFXTeXjFKtw6m3XKUPdGnZ1X13oqKQ4ihFXeYfUvTtSHC1uvsLca0/lPRrRSnzwG2eKDObJulGSZ90903l8+LwabAAakSGu9wsah2JpOo1s5mS/lPSh9y90oePEUmiXnd/xt3fIOkQSecOEbju8nJTqPXjkm5x9zW1rnMk+1hC+8Icd58vqVnSl83s4OHUUosE6q1X9L67WFEPsXmKeqwkLuHn2esVfdOYmpHWa2aHSPpLRZ8bZktqNLMTKz0my33X3Vsl3aLofe77ij7jpPK+Nl7fI0ZLgs+1IZeTlITez3rd/UhFz7VjzOyINGqVEnldeLuk59x9ZVo1DlhfEvvCCfFxzxmSLjCzBclXmtj72RslXePuR0l6SdFpIqkY9yGFuz/m7k3ufrSiN40n4+k97v6/3f1Idz9L0UAhf1TUBW6+mT2t6JSP15rZrwZZ9Fr1T8gPiKeNdr1y97Xx7xcVnZ91zGjUO4xai4p6p/w0XsSPFT0ZUq91mPVKkszsryTVV3hBDKXeI+P5T8YvRj9SdE5v6vUOc7+92d3f7O5vUdRV7I+DLDqRWuMA50ZF3ZtL+9+f4w/rpQ/tz1VZZ621DLXc0ay1VjsfH/doma7oeTrq9ZrZnpKWSfo/7n5f6PWWeNSDYpWiA9WBQtgX3iLpwvg9bYmkD5jZVUnXmmC95e9pHYpOZzxqkNWFsi+skfSgu3d49G3dz1XlfW049Sa8375H0s886n03mFC27TmS7nP3ze6+WdE50G8ZZHUh7btXxO93pyo67bLi+9oo7AtDqfW9Y7T3hZEa8WeGpOodYjmJ1pv0tnX3DYp6L51eqdaM94XjFfXQfVrRaYyNZvZfAddb/p72nKSfKYXjtIRqXSNpjb/Sk+YnSvE4bdyHFGa2b/y7TtJlis7Tl0Xd8abGt0+V1OPuj7r7Ne4+y93nSjpB0h/d/eRBFn2Tog97ZmbHStror3SpGbV6LepGv088faKktyv6wDxYvQvNbJJF3e4PVTSa76jVGh8436zoPHkpGtjv0dGodTj1lj30farciyKUetdKOszMGuJFnKpoZN7B6k103x3Oti17zN6Kvu399hC1jmjbmpkpOu1ltbt/acCyz41vn6voHL7S9MG2z22Smsxs77jmJg3+TeRQyx3NWmtVvty/kdQWP09HtV4z203RG/f33P0nOaj3ADObHC9zb0XvFY9XqTeTfcHdF7n7QfF72mJF23iwb0aGXWuS9cbPr0nxMvdR9IF0qPeJzPcFRYMj7lX2utuYdL0pvC7U8p4Wwrb9k6ST4s85EyWdpKHf00LYdyeYWSFe5hskvUHRVV8q1Zv2vjCU+yUdamaviV9/F8bLSKzWhOut1YjeE5Oqt8JyEqs3wVobLD4dO35fO1XRlR0GqzXzfcHdP+3uB8TvaQvjOv421HrNbKqZ7VG6reiz41DHaZnuC+7+rKRnzOwv4kmVjtNGfhzhwxwgJI8/it5010naoSgN+oikixQl2X+UdJW0c3C/uYo+VK6W9EtF3UsHLm+u+g8O+DHFl5pTlJB/XdE3xg+rysCVadWraATplXrlUo5fUXz1A0nvlPS5svX9n7jexyWdkcW2VTSo4/K43jskHZR0rUnvC4qu4vC6AdOCrDfeR1fH2/dmSYWk990Ea/2+ohe/RyUtTHHbnqCoi9tDeuXSe29TdG7iHYouzfRLSTOqbR9Fp7W0xz8fKpv+7dL9hlpuBrX+WtG5hVvj/9Np8fTPSXpnfHt3RT2a2hWFP/Oy2LaS/jbenx4s+zky4HpPjZfxh/j3eWXrCG5fKFvmB1U2cGZStSa8bY/TK5csfljSR8rWEdy+MGB/eFjSdyXtlmS9Cdc6V1GgXTdgHcFtW0VXoPimXrm065cC33d31yvvafcpfg3LeF/YX9Hr/yZFl6Reo1cuEf42Re/ZTyrqwRbCvlCp3ld99oinJ/n5JpF6h1pOkvUmWOsbFF3K8yFFB8//L/R9oWyZJ6ts4MwQ61V0CuAf9MolXsufa0HtC/G8IxWdov2Qop6BeydZa/lP6UABAAAAAAAgU+P+dA8AAAAAABAGQgoAAAAAABAEQgoAAAAAABAEQgoAAAAAABAEQgoAAAAAABAEQgoAAAAAABAEQgoAADBmmNmErGsAAADDR0gBAAAyYWafM7NPlrWvMLOLzOxTZna/mT1kZp8tm/9zM1tpZo+Y2Xll0zeb2RfN7A+S3jK6fwUAAEgSIQUAAMjK9ZI+IElmVidpoaRnJR0q6RhJR0o62swWxPf/sLsfLWm+pE+YWSGePlXSb939r9z97lGsHwAAJKw+6wIAAMD45O5Pm1nRzI6StJ+kByS9SVJTfFuSpikKLZYrCibOiacfGE8vSuqVdONo1g4AANJBSAEAALL0bUkflLS/op4Vp0j6F3f/ZvmdzOxkSX8t6S3uvsXMfiVp93j2NnfvHaV6AQBAijjdAwAAZOlnkk5X1IPitvjnw2Y2TZLMbLaZ7StpuqQX4oDidZKOzapgAACQHnpSAACAzLj7y2Z2p6QNcW+IVjP7S0m/MTNJ2izpbyX9j6SPmdlqSY9Lui+rmgEAQHrM3bOuAQAAjFPxgJm/l/Rud38i63oAAEC2ON0DAABkwswOk9Qu6Q4CCgAAINGTAgAAAAAABIKeFAAAAAAAIAiEFAAAAAAAIAiEFAAAAAAAIAiEFAAAAAAAIAiEFAAAAAAAIAiEFAAAAAAAIAj/P8MP1RCtnQ/jAAAAAElFTkSuQmCC\n",
      "text/plain": [
       "<Figure size 1296x648 with 1 Axes>"
      ]
     },
     "metadata": {
      "needs_background": "light"
     },
     "output_type": "display_data"
    }
   ],
   "source": [
    "### Bordeaux year v price\n",
    "bordeaux = df2_focus[df2_focus['variety'] == 'Bordeaux-style Red Blend']\n",
    "# Make Scatter plot\n",
    "fig, ax=plt.subplots(figsize = (18,9))\n",
    "sns.boxplot(y=\"price\", x=\"year\", data=bordeaux)\n",
    "ax.set_xlabel('year')\n",
    "ax.set_ylabel('price')\n",
    "plt.title('Bordeaux-style Red Blend: year v. price')\n",
    "#ax.set_xticklabels(ax.get_xticklabels(),rotation=90)\n",
    "plt.show()"
   ]
  },
  {
   "cell_type": "code",
   "execution_count": 51,
   "id": "requested-basis",
   "metadata": {},
   "outputs": [
    {
     "data": {
      "image/png": "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\n",
>>>>>>> 15f43cfdf14dbbed8cc2fe1575904b4d64d66407:notebooks/AN_EDA_review.ipynb
      "text/plain": [
       "<Figure size 864x432 with 1 Axes>"
      ]
     },
     "metadata": {
      "needs_background": "light"
     },
     "output_type": "display_data"
    }
   ],
   "source": [
    "### Points v. price\n",
    "\n",
    "# Make Scatter plot\n",
    "fig, ax=plt.subplots(figsize = (12,6))\n",
    "ax.scatter(df_rev[\"points\"], df_rev[\"price\"], color='b')\n",
    "ax.set_xlabel('points')\n",
    "ax.set_ylabel('price')\n",
    "plt.title('points v. price')\n",
    "#ax.set_xlim([-1, 10.5])\n",
    "#ax.set_ylim([0, 100])\n",
    "plt.show()"
   ]
  },
  {
   "cell_type": "code",
<<<<<<< HEAD:notebooks/AN_EDA.ipynb
   "execution_count": 18,
=======
   "execution_count": 52,
   "id": "agricultural-interference",
>>>>>>> 15f43cfdf14dbbed8cc2fe1575904b4d64d66407:notebooks/AN_EDA_review.ipynb
   "metadata": {},
   "outputs": [
    {
     "data": {
<<<<<<< HEAD:notebooks/AN_EDA.ipynb
      "image/png": "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\n",
=======
      "image/png": "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\n",
>>>>>>> 15f43cfdf14dbbed8cc2fe1575904b4d64d66407:notebooks/AN_EDA_review.ipynb
      "text/plain": [
       "<Figure size 864x432 with 1 Axes>"
      ]
     },
     "metadata": {
      "needs_background": "light"
     },
     "output_type": "display_data"
    }
   ],
   "source": [
    "#Make boxplot distribution \n",
    "fig, ax = plt.subplots(figsize = (12,6))\n",
    "sns.boxplot(y=\"price\", x=\"points\", data=df_rev)\n",
    "ax.set_xlabel('points')\n",
    "ax.set_ylabel('price')\n",
    "ax.set_title('points v. price')\n",
    "plt.show()"
   ]
  },
  {
   "cell_type": "code",
<<<<<<< HEAD:notebooks/AN_EDA.ipynb
   "execution_count": 19,
=======
   "execution_count": 53,
   "id": "macro-hartford",
>>>>>>> 15f43cfdf14dbbed8cc2fe1575904b4d64d66407:notebooks/AN_EDA_review.ipynb
   "metadata": {},
   "outputs": [
    {
     "data": {
<<<<<<< HEAD:notebooks/AN_EDA.ipynb
      "image/png": "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\n",
=======
      "image/png": "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\n",
>>>>>>> 15f43cfdf14dbbed8cc2fe1575904b4d64d66407:notebooks/AN_EDA_review.ipynb
      "text/plain": [
       "<Figure size 864x432 with 1 Axes>"
      ]
     },
     "metadata": {
      "needs_background": "light"
     },
     "output_type": "display_data"
    }
   ],
   "source": [
    "#Make boxplot distribution \n",
    "fig, ax = plt.subplots(figsize = (12,6))\n",
    "sns.boxplot(y=\"points\", x=\"country\", data=df_rev)\n",
    "ax.set_xlabel('country')\n",
    "ax.set_ylabel('points')\n",
    "ax.set_title('country v. points')\n",
    "ax.set_xticklabels(ax.get_xticklabels(),rotation=90)\n",
    "plt.show()"
   ]
  },
  {
   "cell_type": "code",
<<<<<<< HEAD:notebooks/AN_EDA.ipynb
   "execution_count": 20,
=======
   "execution_count": 54,
   "id": "hungarian-winner",
>>>>>>> 15f43cfdf14dbbed8cc2fe1575904b4d64d66407:notebooks/AN_EDA_review.ipynb
   "metadata": {},
   "outputs": [
    {
     "data": {
<<<<<<< HEAD:notebooks/AN_EDA.ipynb
      "image/png": "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\n",
=======
      "image/png": "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\n",
>>>>>>> 15f43cfdf14dbbed8cc2fe1575904b4d64d66407:notebooks/AN_EDA_review.ipynb
      "text/plain": [
       "<Figure size 864x432 with 1 Axes>"
      ]
     },
     "metadata": {
      "needs_background": "light"
     },
     "output_type": "display_data"
    }
   ],
   "source": [
    "#Make boxplot distribution \n",
    "fig, ax = plt.subplots(figsize = (12,6))\n",
    "sns.boxplot(y=\"price\", x=\"country\", data=df_rev)\n",
    "ax.set_xlabel('country')\n",
    "ax.set_ylabel('price')\n",
    "ax.set_title('country v. price')\n",
    "ax.set_xticklabels(ax.get_xticklabels(),rotation=90)\n",
    "plt.show()"
   ]
  },
  {
   "cell_type": "code",
<<<<<<< HEAD:notebooks/AN_EDA.ipynb
   "execution_count": 21,
=======
   "execution_count": 55,
   "id": "pointed-legislature",
>>>>>>> 15f43cfdf14dbbed8cc2fe1575904b4d64d66407:notebooks/AN_EDA_review.ipynb
   "metadata": {},
   "outputs": [
    {
     "data": {
      "image/png": "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\n",
      "text/plain": [
       "<Figure size 1296x648 with 1 Axes>"
      ]
     },
     "metadata": {
      "needs_background": "light"
     },
     "output_type": "display_data"
    }
   ],
   "source": [
    "### Points >= 95\n",
    "\n",
    "#Make boxplot distribution \n",
    "fig, ax = plt.subplots(figsize = (18,9))\n",
    "sns.boxplot(y=\"points\", x=\"variety\", data=top_wine_df)\n",
    "ax.set_xlabel('variety')\n",
    "ax.set_ylabel('points')\n",
    "ax.set_title('Points >= 95: variety v. points')\n",
    "ax.set_xticklabels(ax.get_xticklabels(),rotation=90)\n",
    "plt.show()"
   ]
  },
  {
   "cell_type": "code",
<<<<<<< HEAD:notebooks/AN_EDA.ipynb
   "execution_count": 22,
=======
   "execution_count": 56,
   "id": "stylish-archive",
>>>>>>> 15f43cfdf14dbbed8cc2fe1575904b4d64d66407:notebooks/AN_EDA_review.ipynb
   "metadata": {},
   "outputs": [
    {
     "data": {
      "image/png": "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\n",
      "text/plain": [
       "<Figure size 1296x648 with 1 Axes>"
      ]
     },
     "metadata": {
      "needs_background": "light"
     },
     "output_type": "display_data"
    }
   ],
   "source": [
    "### Points >= 95\n",
    "\n",
    "#Make boxplot distribution \n",
    "fig, ax = plt.subplots(figsize = (18,9))\n",
    "sns.boxplot(y=\"price\", x=\"variety\", data=top_wine_df)\n",
    "ax.set_xlabel('variety')\n",
    "ax.set_ylabel('price')\n",
    "ax.set_title('Points >= 95: variety v. price')\n",
    "ax.set_xticklabels(ax.get_xticklabels(),rotation=90)\n",
    "plt.show()"
   ]
  },
  {
   "cell_type": "code",
<<<<<<< HEAD:notebooks/AN_EDA.ipynb
   "execution_count": 23,
=======
   "execution_count": 57,
   "id": "virgin-pendant",
>>>>>>> 15f43cfdf14dbbed8cc2fe1575904b4d64d66407:notebooks/AN_EDA_review.ipynb
   "metadata": {},
   "outputs": [
    {
     "data": {
      "text/html": [
       "        <script type=\"text/javascript\">\n",
       "        window.PlotlyConfig = {MathJaxConfig: 'local'};\n",
       "        if (window.MathJax) {MathJax.Hub.Config({SVG: {font: \"STIX-Web\"}});}\n",
       "        if (typeof require !== 'undefined') {\n",
       "        require.undef(\"plotly\");\n",
       "        requirejs.config({\n",
       "            paths: {\n",
       "                'plotly': ['https://cdn.plot.ly/plotly-latest.min']\n",
       "            }\n",
       "        });\n",
       "        require(['plotly'], function(Plotly) {\n",
       "            window._Plotly = Plotly;\n",
       "        });\n",
       "        }\n",
       "        </script>\n",
       "        "
      ]
     },
     "metadata": {},
     "output_type": "display_data"
    },
    {
     "data": {
      "text/html": [
       "        <script type=\"text/javascript\">\n",
       "        window.PlotlyConfig = {MathJaxConfig: 'local'};\n",
       "        if (window.MathJax) {MathJax.Hub.Config({SVG: {font: \"STIX-Web\"}});}\n",
       "        if (typeof require !== 'undefined') {\n",
       "        require.undef(\"plotly\");\n",
       "        requirejs.config({\n",
       "            paths: {\n",
       "                'plotly': ['https://cdn.plot.ly/plotly-latest.min']\n",
       "            }\n",
       "        });\n",
       "        require(['plotly'], function(Plotly) {\n",
       "            window._Plotly = Plotly;\n",
       "        });\n",
       "        }\n",
       "        </script>\n",
       "        "
      ]
     },
     "metadata": {},
     "output_type": "display_data"
    }
   ],
   "source": [
    "import plotly.graph_objs as go\n",
    "from plotly.offline import iplot, init_notebook_mode\n",
    "import plotly.express as px\n",
    "\n",
    "import cufflinks\n",
    "cufflinks.go_offline(connected=True)\n",
    "init_notebook_mode(connected=True)"
   ]
  },
  {
   "cell_type": "code",
<<<<<<< HEAD:notebooks/AN_EDA.ipynb
   "execution_count": 24,
=======
   "execution_count": 58,
   "id": "metric-craft",
>>>>>>> 15f43cfdf14dbbed8cc2fe1575904b4d64d66407:notebooks/AN_EDA_review.ipynb
   "metadata": {},
   "outputs": [
    {
     "data": {
      "application/vnd.plotly.v1+json": {
       "config": {
        "plotlyServerURL": "https://plot.ly"
       },
       "data": [
        {
         "branchvalues": "total",
         "customdata": [
          [
           "Portugal"
          ],
          [
           "Italy"
          ],
          [
           "US"
          ],
          [
           "Portugal"
          ],
          [
           "Italy"
          ],
          [
           "France"
          ],
          [
           "Austria"
          ],
          [
           "Argentina"
          ],
          [
           "Australia"
          ],
          [
           "US"
          ],
          [
           "Austria"
          ],
          [
           "US"
          ],
          [
           "France"
          ],
          [
           "Italy"
          ],
          [
           "Italy"
          ],
          [
           "South Africa"
          ],
          [
           "France"
          ],
          [
           "France"
          ],
          [
           "Australia"
          ],
          [
           "Spain"
          ],
          [
           "Portugal"
          ],
          [
           "Australia"
          ],
          [
           "Australia"
          ],
          [
           "US"
          ],
          [
           "US"
          ],
          [
           "Austria"
          ],
          [
           "Australia"
          ],
          [
           "South Africa"
          ],
          [
           "Portugal"
          ],
          [
           "New Zealand"
          ],
          [
           "Italy"
          ],
          [
           "Germany"
          ],
          [
           "Austria"
          ],
          [
           "France"
          ],
          [
           "Australia"
          ],
          [
           "Spain"
          ],
          [
           "US"
          ],
          [
           "New Zealand"
          ],
          [
           "Italy"
          ],
          [
           "France"
          ],
          [
           "Australia"
          ],
          [
           "Austria"
          ],
          [
           "US"
          ],
          [
           "US"
          ],
          [
           "US"
          ],
          [
           "US"
          ],
          [
           "Hungary"
          ],
          [
           "US"
          ],
          [
           "US"
          ],
          [
           "Italy"
          ],
          [
           "Italy"
          ],
          [
           "France"
          ],
          [
           "US"
          ],
          [
           "France"
          ],
          [
           "Spain"
          ],
          [
           "Austria"
          ],
          [
           "US"
          ],
          [
           "US"
          ],
          [
           "US"
          ],
          [
           "US"
          ],
          [
           "Australia"
          ],
          [
           "US"
          ],
          [
           "France"
          ],
          [
           "Austria"
          ],
          [
           "France"
          ],
          [
           "US"
          ],
          [
           "Hungary"
          ],
          [
           "New Zealand"
          ],
          [
           "France"
          ],
          [
           "Italy"
          ],
          [
           "Chile"
          ],
          [
           "Hungary"
          ],
          [
           "Australia"
          ],
          [
           "Germany"
          ],
          [
           "France"
          ],
          [
           "Italy"
          ],
          [
           "Germany"
          ],
          [
           "Italy"
          ],
          [
           "US"
          ],
          [
           "Austria"
          ],
          [
           "US"
          ],
          [
           "Italy"
          ],
          [
           "Italy"
          ],
          [
           "Portugal"
          ],
          [
           "US"
          ],
          [
           "Austria"
          ],
          [
           "US"
          ],
          [
           "Italy"
          ],
          [
           "France"
          ],
          [
           "South Africa"
          ],
          [
           "Austria"
          ],
          [
           "France"
          ],
          [
           "Italy"
          ],
          [
           "Argentina"
          ],
          [
           "Spain"
          ],
          [
           "France"
          ],
          [
           "England"
          ],
          [
           "US"
          ],
          [
           "Italy"
          ],
          [
           "South Africa"
          ],
          [
           "Hungary"
          ],
          [
           "France"
          ],
          [
           "England"
          ],
          [
           "US"
          ],
          [
           "Chile"
          ],
          [
           "Italy"
          ],
          [
           "Spain"
          ],
          [
           "Austria"
          ],
          [
           "US"
          ],
          [
           "US"
          ],
          [
           "Portugal"
          ],
          [
           "Australia"
          ],
          [
           "Austria"
          ],
          [
           "Spain"
          ],
          [
           "Australia"
          ],
          [
           "Spain"
          ],
          [
           "US"
          ],
          [
           "Spain"
          ],
          [
           "Portugal"
          ],
          [
           "US"
          ],
          [
           "Italy"
          ],
          [
           "US"
          ],
          [
           "Italy"
          ],
          [
           "Argentina"
          ],
          [
           "Australia"
          ],
          [
           "Australia"
          ],
          [
           "Italy"
          ],
          [
           "US"
          ],
          [
           "France"
          ],
          [
           "Spain"
          ],
          [
           "Italy"
          ],
          [
           "US"
          ],
          [
           "Italy"
          ],
          [
           "US"
          ],
          [
           "US"
          ],
          [
           "France"
          ],
          [
           "Italy"
          ],
          [
           "US"
          ],
          [
           "France"
          ],
          [
           "Italy"
          ],
          [
           "US"
          ],
          [
           "Spain"
          ],
          [
           "France"
          ],
          [
           "Argentina"
          ],
          [
           "Italy"
          ],
          [
           "France"
          ],
          [
           "US"
          ],
          [
           "France"
          ],
          [
           "Australia"
          ],
          [
           "Spain"
          ],
          [
           "Australia"
          ],
          [
           "US"
          ],
          [
           "England"
          ],
          [
           "Italy"
          ],
          [
           "US"
          ],
          [
           "US"
          ],
          [
           "Germany"
          ],
          [
           "France"
          ],
          [
           "Austria"
          ],
          [
           "France"
          ],
          [
           "US"
          ],
          [
           "Australia"
          ],
          [
           "US"
          ],
          [
           "Spain"
          ],
          [
           "Italy"
          ],
          [
           "Argentina"
          ],
          [
           "Portugal"
          ],
          [
           "US"
          ],
          [
           "US"
          ],
          [
           "US"
          ]
         ],
         "domain": {
          "x": [
           0,
           1
          ],
          "y": [
           0,
           1
          ]
         },
         "hovertemplate": "labels=%{label}<br>points=%{value}<br>parent=%{parent}<br>id=%{id}<br>country=%{customdata[0]}<extra></extra>",
         "ids": [
          "Portugal/Verdelho",
          "Italy/Cabernet Sauvignon-Merlot",
          "US/Cabernet Franc",
          "Portugal/Bual",
          "Italy/Aglianico",
          "France/Alsace white blend",
          "Austria/Blaufränkisch",
          "Argentina/Bordeaux-style Red Blend",
          "Australia/Muscadel",
          "US/Scheurebe",
          "Austria/Scheurebe",
          "US/Sauvignon Blanc",
          "France/Sauvignon Blanc",
          "Italy/Sauvignon",
          "Italy/Sangiovese",
          "South Africa/Rhône-style Red Blend",
          "France/Rhône-style Red Blend",
          "France/Semillon-Sauvignon Blanc",
          "Australia/Red Blend",
          "Spain",
          "Portugal/Port",
          "Australia/Muscat",
          "Australia/Muscadelle",
          "US/Moscato",
          "US/Shiraz",
          "Austria/St. Laurent",
          "Australia/Shiraz-Viognier",
          "South Africa",
          "Portugal",
          "New Zealand",
          "Italy",
          "Germany",
          "Austria/Welschriesling",
          "France/Viognier",
          "Australia/Shiraz-Cabernet Sauvignon",
          "Spain/Tempranillo Blend",
          "US/Syrah-Grenache",
          "New Zealand/Syrah",
          "Italy/Syrah",
          "France/Syrah",
          "Australia/Syrah",
          "Austria/Grüner Veltliner",
          "US/Sparkling Blend",
          "US/Tempranillo",
          "US/Grenache Blend",
          "US",
          "Hungary/Furmint",
          "US/Cabernet Sauvignon",
          "US/Fumé Blanc",
          "Italy/Corvina, Rondinella, Molinara",
          "Italy/Cabernet Franc",
          "France/Chenin Blanc",
          "US/G-S-M",
          "France/Chardonnay",
          "Spain/Garnacha",
          "Austria/Gelber Traminer",
          "US/Bordeaux-style Red Blend",
          "US/Grenache",
          "US/Cabernet",
          "US/Gewürztraminer",
          "Australia/Cabernet-Shiraz",
          "US/Cabernet Sauvignon-Syrah",
          "France/Champagne Blend",
          "Austria/Austrian white blend",
          "France/Bordeaux-style White Blend",
          "US/Cabernet Blend",
          "Hungary/White Blend",
          "New Zealand/Bordeaux-style Red Blend",
          "France/Provence red blend",
          "Italy/Prugnolo Gentile",
          "Chile/Red Blend",
          "Hungary/Tokaji",
          "Australia/Cabernet Sauvignon",
          "Germany/Spätburgunder",
          "France/Tannat",
          "Italy/Sangiovese Grosso",
          "Germany/Silvaner",
          "Italy/Carricante",
          "US/Syrah",
          "Austria/Chardonnay",
          "US/Champagne Blend",
          "Italy/Friulano",
          "Italy/Teroldego",
          "Portugal/Portuguese White",
          "US/Merlot",
          "Austria",
          "US/Mission",
          "Italy/Merlot",
          "France/Marsanne",
          "South Africa/Muscat",
          "Austria/Pinot Noir",
          "France/Bordeaux-style Red Blend",
          "Italy/Pinot Bianco",
          "Argentina",
          "Spain/Tinta del Pais",
          "France/Red Blend",
          "England/Sparkling Blend",
          "US/Malbec",
          "Italy/Cabernet Sauvignon",
          "South Africa/Bordeaux-style Red Blend",
          "Hungary",
          "France",
          "England",
          "US/Sémillon",
          "Chile",
          "Italy/Verdicchio",
          "Spain/Tempranillo",
          "Austria/Traminer",
          "US/Bordeaux-style White Blend",
          "US/Viognier",
          "Portugal/Touriga Nacional",
          "Australia/Tokay",
          "Austria/White Blend",
          "Spain/Tinto del Pais",
          "Australia",
          "Spain/Tinto Fino",
          "US/White Blend",
          "Spain/Tinta de Toro",
          "Portugal/Terrantez",
          "US/White Riesling",
          "Italy/Zibibbo",
          "US/Zinfandel",
          "Italy/White Blend",
          "Argentina/Cabernet Sauvignon-Malbec",
          "Australia/Grenache",
          "Australia/Cabernet Sauvignon-Shiraz",
          "Italy/Picolit",
          "US/Petite Sirah",
          "France/Petit Manseng",
          "Spain/Pedro Ximénez",
          "Italy/Nerello Mascalese",
          "US/Nebbiolo",
          "Italy/Nebbiolo",
          "US/Muscat Canelli",
          "US/Muscat",
          "France/Muscat",
          "Italy/Garganega",
          "US/Mourvèdre",
          "France/Gewürztraminer",
          "Italy/Montepulciano",
          "US/Monastrell",
          "Spain/Monastrell",
          "France/Malbec",
          "Argentina/Malbec",
          "Italy/Kerner",
          "France/Pinot Gris",
          "US/Cabernet Sauvignon-Merlot",
          "France/Pinot Noir",
          "Australia/Port",
          "Spain/Carignan",
          "Australia/Shiraz",
          "US/Semillon-Sauvignon Blanc",
          "England/Chardonnay",
          "Italy/Sagrantino",
          "US/Rosé",
          "US/Riesling",
          "Germany/Riesling",
          "France/Riesling",
          "Austria/Riesling",
          "France/Rhône-style White Blend",
          "US/Rhône-style Red Blend",
          "Australia/Rhône-style Red Blend",
          "US/Red Blend",
          "Spain/Red Blend",
          "Italy/Red Blend",
          "Argentina/Red Blend",
          "Portugal/Portuguese Red",
          "US/Port",
          "US/Pinot Noir",
          "US/Chardonnay"
         ],
         "labels": [
          "Verdelho",
          "Cabernet Sauvignon-Merlot",
          "Cabernet Franc",
          "Bual",
          "Aglianico",
          "Alsace white blend",
          "Blaufränkisch",
          "Bordeaux-style Red Blend",
          "Muscadel",
          "Scheurebe",
          "Scheurebe",
          "Sauvignon Blanc",
          "Sauvignon Blanc",
          "Sauvignon",
          "Sangiovese",
          "Rhône-style Red Blend",
          "Rhône-style Red Blend",
          "Semillon-Sauvignon Blanc",
          "Red Blend",
          "Spain",
          "Port",
          "Muscat",
          "Muscadelle",
          "Moscato",
          "Shiraz",
          "St. Laurent",
          "Shiraz-Viognier",
          "South Africa",
          "Portugal",
          "New Zealand",
          "Italy",
          "Germany",
          "Welschriesling",
          "Viognier",
          "Shiraz-Cabernet Sauvignon",
          "Tempranillo Blend",
          "Syrah-Grenache",
          "Syrah",
          "Syrah",
          "Syrah",
          "Syrah",
          "Grüner Veltliner",
          "Sparkling Blend",
          "Tempranillo",
          "Grenache Blend",
          "US",
          "Furmint",
          "Cabernet Sauvignon",
          "Fumé Blanc",
          "Corvina, Rondinella, Molinara",
          "Cabernet Franc",
          "Chenin Blanc",
          "G-S-M",
          "Chardonnay",
          "Garnacha",
          "Gelber Traminer",
          "Bordeaux-style Red Blend",
          "Grenache",
          "Cabernet",
          "Gewürztraminer",
          "Cabernet-Shiraz",
          "Cabernet Sauvignon-Syrah",
          "Champagne Blend",
          "Austrian white blend",
          "Bordeaux-style White Blend",
          "Cabernet Blend",
          "White Blend",
          "Bordeaux-style Red Blend",
          "Provence red blend",
          "Prugnolo Gentile",
          "Red Blend",
          "Tokaji",
          "Cabernet Sauvignon",
          "Spätburgunder",
          "Tannat",
          "Sangiovese Grosso",
          "Silvaner",
          "Carricante",
          "Syrah",
          "Chardonnay",
          "Champagne Blend",
          "Friulano",
          "Teroldego",
          "Portuguese White",
          "Merlot",
          "Austria",
          "Mission",
          "Merlot",
          "Marsanne",
          "Muscat",
          "Pinot Noir",
          "Bordeaux-style Red Blend",
          "Pinot Bianco",
          "Argentina",
          "Tinta del Pais",
          "Red Blend",
          "Sparkling Blend",
          "Malbec",
          "Cabernet Sauvignon",
          "Bordeaux-style Red Blend",
          "Hungary",
          "France",
          "England",
          "Sémillon",
          "Chile",
          "Verdicchio",
          "Tempranillo",
          "Traminer",
          "Bordeaux-style White Blend",
          "Viognier",
          "Touriga Nacional",
          "Tokay",
          "White Blend",
          "Tinto del Pais",
          "Australia",
          "Tinto Fino",
          "White Blend",
          "Tinta de Toro",
          "Terrantez",
          "White Riesling",
          "Zibibbo",
          "Zinfandel",
          "White Blend",
          "Cabernet Sauvignon-Malbec",
          "Grenache",
          "Cabernet Sauvignon-Shiraz",
          "Picolit",
          "Petite Sirah",
          "Petit Manseng",
          "Pedro Ximénez",
          "Nerello Mascalese",
          "Nebbiolo",
          "Nebbiolo",
          "Muscat Canelli",
          "Muscat",
          "Muscat",
          "Garganega",
          "Mourvèdre",
          "Gewürztraminer",
          "Montepulciano",
          "Monastrell",
          "Monastrell",
          "Malbec",
          "Malbec",
          "Kerner",
          "Pinot Gris",
          "Cabernet Sauvignon-Merlot",
          "Pinot Noir",
          "Port",
          "Carignan",
          "Shiraz",
          "Semillon-Sauvignon Blanc",
          "Chardonnay",
          "Sagrantino",
          "Rosé",
          "Riesling",
          "Riesling",
          "Riesling",
          "Riesling",
          "Rhône-style White Blend",
          "Rhône-style Red Blend",
          "Rhône-style Red Blend",
          "Red Blend",
          "Red Blend",
          "Red Blend",
          "Red Blend",
          "Portuguese Red",
          "Port",
          "Pinot Noir",
          "Chardonnay"
         ],
         "marker": {
          "colors": [
           "#636efa",
           "#EF553B",
           "#00cc96",
           "#636efa",
           "#EF553B",
           "#ab63fa",
           "#FFA15A",
           "#19d3f3",
           "#FF6692",
           "#00cc96",
           "#FFA15A",
           "#00cc96",
           "#ab63fa",
           "#EF553B",
           "#EF553B",
           "#B6E880",
           "#ab63fa",
           "#ab63fa",
           "#FF6692",
           "#FF97FF",
           "#636efa",
           "#FF6692",
           "#FF6692",
           "#00cc96",
           "#00cc96",
           "#FFA15A",
           "#FF6692",
           "#B6E880",
           "#636efa",
           "#FECB52",
           "#EF553B",
           "#636efa",
           "#FFA15A",
           "#ab63fa",
           "#FF6692",
           "#FF97FF",
           "#00cc96",
           "#FECB52",
           "#EF553B",
           "#ab63fa",
           "#FF6692",
           "#FFA15A",
           "#00cc96",
           "#00cc96",
           "#00cc96",
           "#00cc96",
           "#EF553B",
           "#00cc96",
           "#00cc96",
           "#EF553B",
           "#EF553B",
           "#ab63fa",
           "#00cc96",
           "#ab63fa",
           "#FF97FF",
           "#FFA15A",
           "#00cc96",
           "#00cc96",
           "#00cc96",
           "#00cc96",
           "#FF6692",
           "#00cc96",
           "#ab63fa",
           "#FFA15A",
           "#ab63fa",
           "#00cc96",
           "#EF553B",
           "#FECB52",
           "#ab63fa",
           "#EF553B",
           "#00cc96",
           "#EF553B",
           "#FF6692",
           "#636efa",
           "#ab63fa",
           "#EF553B",
           "#636efa",
           "#EF553B",
           "#00cc96",
           "#FFA15A",
           "#00cc96",
           "#EF553B",
           "#EF553B",
           "#636efa",
           "#00cc96",
           "#FFA15A",
           "#00cc96",
           "#EF553B",
           "#ab63fa",
           "#B6E880",
           "#FFA15A",
           "#ab63fa",
           "#EF553B",
           "#19d3f3",
           "#FF97FF",
           "#ab63fa",
           "#ab63fa",
           "#00cc96",
           "#EF553B",
           "#B6E880",
           "#EF553B",
           "#ab63fa",
           "#ab63fa",
           "#00cc96",
           "#00cc96",
           "#EF553B",
           "#FF97FF",
           "#FFA15A",
           "#00cc96",
           "#00cc96",
           "#636efa",
           "#FF6692",
           "#FFA15A",
           "#FF97FF",
           "#FF6692",
           "#FF97FF",
           "#00cc96",
           "#FF97FF",
           "#636efa",
           "#00cc96",
           "#EF553B",
           "#00cc96",
           "#EF553B",
           "#19d3f3",
           "#FF6692",
           "#FF6692",
           "#EF553B",
           "#00cc96",
           "#ab63fa",
           "#FF97FF",
           "#EF553B",
           "#00cc96",
           "#EF553B",
           "#00cc96",
           "#00cc96",
           "#ab63fa",
           "#EF553B",
           "#00cc96",
           "#ab63fa",
           "#EF553B",
           "#00cc96",
           "#FF97FF",
           "#ab63fa",
           "#19d3f3",
           "#EF553B",
           "#ab63fa",
           "#00cc96",
           "#ab63fa",
           "#FF6692",
           "#FF97FF",
           "#FF6692",
           "#00cc96",
           "#ab63fa",
           "#EF553B",
           "#00cc96",
           "#00cc96",
           "#636efa",
           "#ab63fa",
           "#FFA15A",
           "#ab63fa",
           "#00cc96",
           "#FF6692",
           "#00cc96",
           "#FF97FF",
           "#EF553B",
           "#19d3f3",
           "#636efa",
           "#00cc96",
           "#00cc96",
           "#00cc96"
          ]
         },
         "name": "",
         "parents": [
          "Portugal",
          "Italy",
          "US",
          "Portugal",
          "Italy",
          "France",
          "Austria",
          "Argentina",
          "Australia",
          "US",
          "Austria",
          "US",
          "France",
          "Italy",
          "Italy",
          "South Africa",
          "France",
          "France",
          "Australia",
          "",
          "Portugal",
          "Australia",
          "Australia",
          "US",
          "US",
          "Austria",
          "Australia",
          "",
          "",
          "",
          "",
          "",
          "Austria",
          "France",
          "Australia",
          "Spain",
          "US",
          "New Zealand",
          "Italy",
          "France",
          "Australia",
          "Austria",
          "US",
          "US",
          "US",
          "",
          "Hungary",
          "US",
          "US",
          "Italy",
          "Italy",
          "France",
          "US",
          "France",
          "Spain",
          "Austria",
          "US",
          "US",
          "US",
          "US",
          "Australia",
          "US",
          "France",
          "Austria",
          "France",
          "US",
          "Hungary",
          "New Zealand",
          "France",
          "Italy",
          "Chile",
          "Hungary",
          "Australia",
          "Germany",
          "France",
          "Italy",
          "Germany",
          "Italy",
          "US",
          "Austria",
          "US",
          "Italy",
          "Italy",
          "Portugal",
          "US",
          "",
          "US",
          "Italy",
          "France",
          "South Africa",
          "Austria",
          "France",
          "Italy",
          "",
          "Spain",
          "France",
          "England",
          "US",
          "Italy",
          "South Africa",
          "",
          "",
          "",
          "US",
          "",
          "Italy",
          "Spain",
          "Austria",
          "US",
          "US",
          "Portugal",
          "Australia",
          "Austria",
          "Spain",
          "",
          "Spain",
          "US",
          "Spain",
          "Portugal",
          "US",
          "Italy",
          "US",
          "Italy",
          "Argentina",
          "Australia",
          "Australia",
          "Italy",
          "US",
          "France",
          "Spain",
          "Italy",
          "US",
          "Italy",
          "US",
          "US",
          "France",
          "Italy",
          "US",
          "France",
          "Italy",
          "US",
          "Spain",
          "France",
          "Argentina",
          "Italy",
          "France",
          "US",
          "France",
          "Australia",
          "Spain",
          "Australia",
          "US",
          "England",
          "Italy",
          "US",
          "US",
          "Germany",
          "France",
          "Austria",
          "France",
          "US",
          "Australia",
          "US",
          "Spain",
          "Italy",
          "Argentina",
          "Portugal",
          "US",
          "US",
          "US"
         ],
         "type": "sunburst",
         "values": [
          96,
          95,
          380,
          288,
          477,
          1047,
          380,
          287,
          291,
          285,
          676,
          761,
          476,
          95,
          10521,
          190,
          1052,
          95,
          190,
          13191,
          8330,
          1360,
          197,
          475,
          190,
          95,
          673,
          475,
          15107,
          190,
          71552,
          10897,
          388,
          95,
          95,
          1623,
          95,
          95,
          678,
          2408,
          859,
          3046,
          4497,
          190,
          190,
          222483,
          96,
          64578,
          665,
          1809,
          2309,
          2101,
          380,
          24573,
          95,
          95,
          15611,
          1145,
          95,
          380,
          192,
          1339,
          14452,
          286,
          16039,
          2603,
          288,
          95,
          190,
          696,
          285,
          383,
          572,
          380,
          857,
          6205,
          96,
          190,
          16328,
          578,
          290,
          95,
          285,
          95,
          3623,
          16978,
          192,
          5810,
          1431,
          190,
          382,
          50710,
          95,
          2962,
          96,
          763,
          190,
          190,
          285,
          95,
          767,
          148730,
          285,
          951,
          285,
          95,
          4488,
          288,
          190,
          666,
          190,
          872,
          765,
          574,
          12390,
          1352,
          856,
          2570,
          95,
          191,
          855,
          3807,
          1534,
          95,
          285,
          96,
          671,
          285,
          380,
          191,
          667,
          95,
          22658,
          95,
          288,
          382,
          95,
          190,
          2378,
          380,
          95,
          194,
          1712,
          2390,
          95,
          2003,
          287,
          18622,
          285,
          383,
          6328,
          766,
          95,
          856,
          191,
          1902,
          10421,
          6869,
          9999,
          95,
          761,
          95,
          6505,
          1625,
          14001,
          190,
          6013,
          95,
          62794,
          26991
         ]
        }
       ],
       "layout": {
        "height": 600,
        "legend": {
         "tracegroupgap": 0
        },
        "template": {
         "data": {
          "bar": [
           {
            "error_x": {
             "color": "#2a3f5f"
            },
            "error_y": {
             "color": "#2a3f5f"
            },
            "marker": {
             "line": {
              "color": "#E5ECF6",
              "width": 0.5
             }
            },
            "type": "bar"
           }
          ],
          "barpolar": [
           {
            "marker": {
             "line": {
              "color": "#E5ECF6",
              "width": 0.5
             }
            },
            "type": "barpolar"
           }
          ],
          "carpet": [
           {
            "aaxis": {
             "endlinecolor": "#2a3f5f",
             "gridcolor": "white",
             "linecolor": "white",
             "minorgridcolor": "white",
             "startlinecolor": "#2a3f5f"
            },
            "baxis": {
             "endlinecolor": "#2a3f5f",
             "gridcolor": "white",
             "linecolor": "white",
             "minorgridcolor": "white",
             "startlinecolor": "#2a3f5f"
            },
            "type": "carpet"
           }
          ],
          "choropleth": [
           {
            "colorbar": {
             "outlinewidth": 0,
             "ticks": ""
            },
            "type": "choropleth"
           }
          ],
          "contour": [
           {
            "colorbar": {
             "outlinewidth": 0,
             "ticks": ""
            },
            "colorscale": [
             [
              0,
              "#0d0887"
             ],
             [
              0.1111111111111111,
              "#46039f"
             ],
             [
              0.2222222222222222,
              "#7201a8"
             ],
             [
              0.3333333333333333,
              "#9c179e"
             ],
             [
              0.4444444444444444,
              "#bd3786"
             ],
             [
              0.5555555555555556,
              "#d8576b"
             ],
             [
              0.6666666666666666,
              "#ed7953"
             ],
             [
              0.7777777777777778,
              "#fb9f3a"
             ],
             [
              0.8888888888888888,
              "#fdca26"
             ],
             [
              1,
              "#f0f921"
             ]
            ],
            "type": "contour"
           }
          ],
          "contourcarpet": [
           {
            "colorbar": {
             "outlinewidth": 0,
             "ticks": ""
            },
            "type": "contourcarpet"
           }
          ],
          "heatmap": [
           {
            "colorbar": {
             "outlinewidth": 0,
             "ticks": ""
            },
            "colorscale": [
             [
              0,
              "#0d0887"
             ],
             [
              0.1111111111111111,
              "#46039f"
             ],
             [
              0.2222222222222222,
              "#7201a8"
             ],
             [
              0.3333333333333333,
              "#9c179e"
             ],
             [
              0.4444444444444444,
              "#bd3786"
             ],
             [
              0.5555555555555556,
              "#d8576b"
             ],
             [
              0.6666666666666666,
              "#ed7953"
             ],
             [
              0.7777777777777778,
              "#fb9f3a"
             ],
             [
              0.8888888888888888,
              "#fdca26"
             ],
             [
              1,
              "#f0f921"
             ]
            ],
            "type": "heatmap"
           }
          ],
          "heatmapgl": [
           {
            "colorbar": {
             "outlinewidth": 0,
             "ticks": ""
            },
            "colorscale": [
             [
              0,
              "#0d0887"
             ],
             [
              0.1111111111111111,
              "#46039f"
             ],
             [
              0.2222222222222222,
              "#7201a8"
             ],
             [
              0.3333333333333333,
              "#9c179e"
             ],
             [
              0.4444444444444444,
              "#bd3786"
             ],
             [
              0.5555555555555556,
              "#d8576b"
             ],
             [
              0.6666666666666666,
              "#ed7953"
             ],
             [
              0.7777777777777778,
              "#fb9f3a"
             ],
             [
              0.8888888888888888,
              "#fdca26"
             ],
             [
              1,
              "#f0f921"
             ]
            ],
            "type": "heatmapgl"
           }
          ],
          "histogram": [
           {
            "marker": {
             "colorbar": {
              "outlinewidth": 0,
              "ticks": ""
             }
            },
            "type": "histogram"
           }
          ],
          "histogram2d": [
           {
            "colorbar": {
             "outlinewidth": 0,
             "ticks": ""
            },
            "colorscale": [
             [
              0,
              "#0d0887"
             ],
             [
              0.1111111111111111,
              "#46039f"
             ],
             [
              0.2222222222222222,
              "#7201a8"
             ],
             [
              0.3333333333333333,
              "#9c179e"
             ],
             [
              0.4444444444444444,
              "#bd3786"
             ],
             [
              0.5555555555555556,
              "#d8576b"
             ],
             [
              0.6666666666666666,
              "#ed7953"
             ],
             [
              0.7777777777777778,
              "#fb9f3a"
             ],
             [
              0.8888888888888888,
              "#fdca26"
             ],
             [
              1,
              "#f0f921"
             ]
            ],
            "type": "histogram2d"
           }
          ],
          "histogram2dcontour": [
           {
            "colorbar": {
             "outlinewidth": 0,
             "ticks": ""
            },
            "colorscale": [
             [
              0,
              "#0d0887"
             ],
             [
              0.1111111111111111,
              "#46039f"
             ],
             [
              0.2222222222222222,
              "#7201a8"
             ],
             [
              0.3333333333333333,
              "#9c179e"
             ],
             [
              0.4444444444444444,
              "#bd3786"
             ],
             [
              0.5555555555555556,
              "#d8576b"
             ],
             [
              0.6666666666666666,
              "#ed7953"
             ],
             [
              0.7777777777777778,
              "#fb9f3a"
             ],
             [
              0.8888888888888888,
              "#fdca26"
             ],
             [
              1,
              "#f0f921"
             ]
            ],
            "type": "histogram2dcontour"
           }
          ],
          "mesh3d": [
           {
            "colorbar": {
             "outlinewidth": 0,
             "ticks": ""
            },
            "type": "mesh3d"
           }
          ],
          "parcoords": [
           {
            "line": {
             "colorbar": {
              "outlinewidth": 0,
              "ticks": ""
             }
            },
            "type": "parcoords"
           }
          ],
          "pie": [
           {
            "automargin": true,
            "type": "pie"
           }
          ],
          "scatter": [
           {
            "marker": {
             "colorbar": {
              "outlinewidth": 0,
              "ticks": ""
             }
            },
            "type": "scatter"
           }
          ],
          "scatter3d": [
           {
            "line": {
             "colorbar": {
              "outlinewidth": 0,
              "ticks": ""
             }
            },
            "marker": {
             "colorbar": {
              "outlinewidth": 0,
              "ticks": ""
             }
            },
            "type": "scatter3d"
           }
          ],
          "scattercarpet": [
           {
            "marker": {
             "colorbar": {
              "outlinewidth": 0,
              "ticks": ""
             }
            },
            "type": "scattercarpet"
           }
          ],
          "scattergeo": [
           {
            "marker": {
             "colorbar": {
              "outlinewidth": 0,
              "ticks": ""
             }
            },
            "type": "scattergeo"
           }
          ],
          "scattergl": [
           {
            "marker": {
             "colorbar": {
              "outlinewidth": 0,
              "ticks": ""
             }
            },
            "type": "scattergl"
           }
          ],
          "scattermapbox": [
           {
            "marker": {
             "colorbar": {
              "outlinewidth": 0,
              "ticks": ""
             }
            },
            "type": "scattermapbox"
           }
          ],
          "scatterpolar": [
           {
            "marker": {
             "colorbar": {
              "outlinewidth": 0,
              "ticks": ""
             }
            },
            "type": "scatterpolar"
           }
          ],
          "scatterpolargl": [
           {
            "marker": {
             "colorbar": {
              "outlinewidth": 0,
              "ticks": ""
             }
            },
            "type": "scatterpolargl"
           }
          ],
          "scatterternary": [
           {
            "marker": {
             "colorbar": {
              "outlinewidth": 0,
              "ticks": ""
             }
            },
            "type": "scatterternary"
           }
          ],
          "surface": [
           {
            "colorbar": {
             "outlinewidth": 0,
             "ticks": ""
            },
            "colorscale": [
             [
              0,
              "#0d0887"
             ],
             [
              0.1111111111111111,
              "#46039f"
             ],
             [
              0.2222222222222222,
              "#7201a8"
             ],
             [
              0.3333333333333333,
              "#9c179e"
             ],
             [
              0.4444444444444444,
              "#bd3786"
             ],
             [
              0.5555555555555556,
              "#d8576b"
             ],
             [
              0.6666666666666666,
              "#ed7953"
             ],
             [
              0.7777777777777778,
              "#fb9f3a"
             ],
             [
              0.8888888888888888,
              "#fdca26"
             ],
             [
              1,
              "#f0f921"
             ]
            ],
            "type": "surface"
           }
          ],
          "table": [
           {
            "cells": {
             "fill": {
              "color": "#EBF0F8"
             },
             "line": {
              "color": "white"
             }
            },
            "header": {
             "fill": {
              "color": "#C8D4E3"
             },
             "line": {
              "color": "white"
             }
            },
            "type": "table"
           }
          ]
         },
         "layout": {
          "annotationdefaults": {
           "arrowcolor": "#2a3f5f",
           "arrowhead": 0,
           "arrowwidth": 1
          },
          "autotypenumbers": "strict",
          "coloraxis": {
           "colorbar": {
            "outlinewidth": 0,
            "ticks": ""
           }
          },
          "colorscale": {
           "diverging": [
            [
             0,
             "#8e0152"
            ],
            [
             0.1,
             "#c51b7d"
            ],
            [
             0.2,
             "#de77ae"
            ],
            [
             0.3,
             "#f1b6da"
            ],
            [
             0.4,
             "#fde0ef"
            ],
            [
             0.5,
             "#f7f7f7"
            ],
            [
             0.6,
             "#e6f5d0"
            ],
            [
             0.7,
             "#b8e186"
            ],
            [
             0.8,
             "#7fbc41"
            ],
            [
             0.9,
             "#4d9221"
            ],
            [
             1,
             "#276419"
            ]
           ],
           "sequential": [
            [
             0,
             "#0d0887"
            ],
            [
             0.1111111111111111,
             "#46039f"
            ],
            [
             0.2222222222222222,
             "#7201a8"
            ],
            [
             0.3333333333333333,
             "#9c179e"
            ],
            [
             0.4444444444444444,
             "#bd3786"
            ],
            [
             0.5555555555555556,
             "#d8576b"
            ],
            [
             0.6666666666666666,
             "#ed7953"
            ],
            [
             0.7777777777777778,
             "#fb9f3a"
            ],
            [
             0.8888888888888888,
             "#fdca26"
            ],
            [
             1,
             "#f0f921"
            ]
           ],
           "sequentialminus": [
            [
             0,
             "#0d0887"
            ],
            [
             0.1111111111111111,
             "#46039f"
            ],
            [
             0.2222222222222222,
             "#7201a8"
            ],
            [
             0.3333333333333333,
             "#9c179e"
            ],
            [
             0.4444444444444444,
             "#bd3786"
            ],
            [
             0.5555555555555556,
             "#d8576b"
            ],
            [
             0.6666666666666666,
             "#ed7953"
            ],
            [
             0.7777777777777778,
             "#fb9f3a"
            ],
            [
             0.8888888888888888,
             "#fdca26"
            ],
            [
             1,
             "#f0f921"
            ]
           ]
          },
          "colorway": [
           "#636efa",
           "#EF553B",
           "#00cc96",
           "#ab63fa",
           "#FFA15A",
           "#19d3f3",
           "#FF6692",
           "#B6E880",
           "#FF97FF",
           "#FECB52"
          ],
          "font": {
           "color": "#2a3f5f"
          },
          "geo": {
           "bgcolor": "white",
           "lakecolor": "white",
           "landcolor": "#E5ECF6",
           "showlakes": true,
           "showland": true,
           "subunitcolor": "white"
          },
          "hoverlabel": {
           "align": "left"
          },
          "hovermode": "closest",
          "mapbox": {
           "style": "light"
          },
          "paper_bgcolor": "white",
          "plot_bgcolor": "#E5ECF6",
          "polar": {
           "angularaxis": {
            "gridcolor": "white",
            "linecolor": "white",
            "ticks": ""
           },
           "bgcolor": "#E5ECF6",
           "radialaxis": {
            "gridcolor": "white",
            "linecolor": "white",
            "ticks": ""
           }
          },
          "scene": {
           "xaxis": {
            "backgroundcolor": "#E5ECF6",
            "gridcolor": "white",
            "gridwidth": 2,
            "linecolor": "white",
            "showbackground": true,
            "ticks": "",
            "zerolinecolor": "white"
           },
           "yaxis": {
            "backgroundcolor": "#E5ECF6",
            "gridcolor": "white",
            "gridwidth": 2,
            "linecolor": "white",
            "showbackground": true,
            "ticks": "",
            "zerolinecolor": "white"
           },
           "zaxis": {
            "backgroundcolor": "#E5ECF6",
            "gridcolor": "white",
            "gridwidth": 2,
            "linecolor": "white",
            "showbackground": true,
            "ticks": "",
            "zerolinecolor": "white"
           }
          },
          "shapedefaults": {
           "line": {
            "color": "#2a3f5f"
           }
          },
          "ternary": {
           "aaxis": {
            "gridcolor": "white",
            "linecolor": "white",
            "ticks": ""
           },
           "baxis": {
            "gridcolor": "white",
            "linecolor": "white",
            "ticks": ""
           },
           "bgcolor": "#E5ECF6",
           "caxis": {
            "gridcolor": "white",
            "linecolor": "white",
            "ticks": ""
           }
          },
          "title": {
           "x": 0.05
          },
          "xaxis": {
           "automargin": true,
           "gridcolor": "white",
           "linecolor": "white",
           "ticks": "",
           "title": {
            "standoff": 15
           },
           "zerolinecolor": "white",
           "zerolinewidth": 2
          },
          "yaxis": {
           "automargin": true,
           "gridcolor": "white",
           "linecolor": "white",
           "ticks": "",
           "title": {
            "standoff": 15
           },
           "zerolinecolor": "white",
           "zerolinewidth": 2
          }
         }
        },
        "title": {
         "text": "Sunburst plot of points>=95/100 across country and variety"
        },
        "width": 1200
       }
      },
      "text/html": [
<<<<<<< HEAD:notebooks/AN_EDA.ipynb
       "<div>                            <div id=\"ed177a52-bbec-4d9b-ad24-7ad308962490\" class=\"plotly-graph-div\" style=\"height:600px; width:1200px;\"></div>            <script type=\"text/javascript\">                require([\"plotly\"], function(Plotly) {                    window.PLOTLYENV=window.PLOTLYENV || {};                                    if (document.getElementById(\"ed177a52-bbec-4d9b-ad24-7ad308962490\")) {                    Plotly.newPlot(                        \"ed177a52-bbec-4d9b-ad24-7ad308962490\",                        [{\"branchvalues\": \"total\", \"customdata\": [[\"Portugal\"], [\"Italy\"], [\"US\"], [\"Portugal\"], [\"Italy\"], [\"France\"], [\"Austria\"], [\"Argentina\"], [\"Australia\"], [\"US\"], [\"Austria\"], [\"US\"], [\"France\"], [\"Italy\"], [\"Italy\"], [\"South Africa\"], [\"France\"], [\"France\"], [\"Australia\"], [\"Spain\"], [\"Portugal\"], [\"Australia\"], [\"Australia\"], [\"US\"], [\"US\"], [\"Austria\"], [\"Australia\"], [\"South Africa\"], [\"Portugal\"], [\"New Zealand\"], [\"Italy\"], [\"Germany\"], [\"Austria\"], [\"France\"], [\"Australia\"], [\"Spain\"], [\"US\"], [\"New Zealand\"], [\"Italy\"], [\"France\"], [\"Australia\"], [\"Austria\"], [\"US\"], [\"US\"], [\"US\"], [\"US\"], [\"Hungary\"], [\"US\"], [\"US\"], [\"Italy\"], [\"Italy\"], [\"France\"], [\"US\"], [\"France\"], [\"Spain\"], [\"Austria\"], [\"US\"], [\"US\"], [\"US\"], [\"US\"], [\"Australia\"], [\"US\"], [\"France\"], [\"Austria\"], [\"France\"], [\"US\"], [\"Hungary\"], [\"New Zealand\"], [\"France\"], [\"Italy\"], [\"Chile\"], [\"Hungary\"], [\"Australia\"], [\"Germany\"], [\"France\"], [\"Italy\"], [\"Germany\"], [\"Italy\"], [\"US\"], [\"Austria\"], [\"US\"], [\"Italy\"], [\"Italy\"], [\"Portugal\"], [\"US\"], [\"Austria\"], [\"US\"], [\"Italy\"], [\"France\"], [\"South Africa\"], [\"Austria\"], [\"France\"], [\"Italy\"], [\"Argentina\"], [\"Spain\"], [\"France\"], [\"England\"], [\"US\"], [\"Italy\"], [\"South Africa\"], [\"Hungary\"], [\"France\"], [\"England\"], [\"US\"], [\"Chile\"], [\"Italy\"], [\"Spain\"], [\"Austria\"], [\"US\"], [\"US\"], [\"Portugal\"], [\"Australia\"], [\"Austria\"], [\"Spain\"], [\"Australia\"], [\"Spain\"], [\"US\"], [\"Spain\"], [\"Portugal\"], [\"US\"], [\"Italy\"], [\"US\"], [\"Italy\"], [\"Argentina\"], [\"Australia\"], [\"Australia\"], [\"Italy\"], [\"US\"], [\"France\"], [\"Spain\"], [\"Italy\"], [\"US\"], [\"Italy\"], [\"US\"], [\"US\"], [\"France\"], [\"Italy\"], [\"US\"], [\"France\"], [\"Italy\"], [\"US\"], [\"Spain\"], [\"France\"], [\"Argentina\"], [\"Italy\"], [\"France\"], [\"US\"], [\"France\"], [\"Australia\"], [\"Spain\"], [\"Australia\"], [\"US\"], [\"England\"], [\"Italy\"], [\"US\"], [\"US\"], [\"Germany\"], [\"France\"], [\"Austria\"], [\"France\"], [\"US\"], [\"Australia\"], [\"US\"], [\"Spain\"], [\"Italy\"], [\"Argentina\"], [\"Portugal\"], [\"US\"], [\"US\"], [\"US\"]], \"domain\": {\"x\": [0.0, 1.0], \"y\": [0.0, 1.0]}, \"hovertemplate\": \"labels=%{label}<br>points=%{value}<br>parent=%{parent}<br>id=%{id}<br>country=%{customdata[0]}<extra></extra>\", \"ids\": [\"Portugal/Verdelho\", \"Italy/Cabernet Sauvignon-Merlot\", \"US/Cabernet Franc\", \"Portugal/Bual\", \"Italy/Aglianico\", \"France/Alsace white blend\", \"Austria/Blaufr\\u00e4nkisch\", \"Argentina/Bordeaux-style Red Blend\", \"Australia/Muscadel\", \"US/Scheurebe\", \"Austria/Scheurebe\", \"US/Sauvignon Blanc\", \"France/Sauvignon Blanc\", \"Italy/Sauvignon\", \"Italy/Sangiovese\", \"South Africa/Rh\\u00f4ne-style Red Blend\", \"France/Rh\\u00f4ne-style Red Blend\", \"France/Semillon-Sauvignon Blanc\", \"Australia/Red Blend\", \"Spain\", \"Portugal/Port\", \"Australia/Muscat\", \"Australia/Muscadelle\", \"US/Moscato\", \"US/Shiraz\", \"Austria/St. Laurent\", \"Australia/Shiraz-Viognier\", \"South Africa\", \"Portugal\", \"New Zealand\", \"Italy\", \"Germany\", \"Austria/Welschriesling\", \"France/Viognier\", \"Australia/Shiraz-Cabernet Sauvignon\", \"Spain/Tempranillo Blend\", \"US/Syrah-Grenache\", \"New Zealand/Syrah\", \"Italy/Syrah\", \"France/Syrah\", \"Australia/Syrah\", \"Austria/Gr\\u00fcner Veltliner\", \"US/Sparkling Blend\", \"US/Tempranillo\", \"US/Grenache Blend\", \"US\", \"Hungary/Furmint\", \"US/Cabernet Sauvignon\", \"US/Fum\\u00e9 Blanc\", \"Italy/Corvina, Rondinella, Molinara\", \"Italy/Cabernet Franc\", \"France/Chenin Blanc\", \"US/G-S-M\", \"France/Chardonnay\", \"Spain/Garnacha\", \"Austria/Gelber Traminer\", \"US/Bordeaux-style Red Blend\", \"US/Grenache\", \"US/Cabernet\", \"US/Gew\\u00fcrztraminer\", \"Australia/Cabernet-Shiraz\", \"US/Cabernet Sauvignon-Syrah\", \"France/Champagne Blend\", \"Austria/Austrian white blend\", \"France/Bordeaux-style White Blend\", \"US/Cabernet Blend\", \"Hungary/White Blend\", \"New Zealand/Bordeaux-style Red Blend\", \"France/Provence red blend\", \"Italy/Prugnolo Gentile\", \"Chile/Red Blend\", \"Hungary/Tokaji\", \"Australia/Cabernet Sauvignon\", \"Germany/Sp\\u00e4tburgunder\", \"France/Tannat\", \"Italy/Sangiovese Grosso\", \"Germany/Silvaner\", \"Italy/Carricante\", \"US/Syrah\", \"Austria/Chardonnay\", \"US/Champagne Blend\", \"Italy/Friulano\", \"Italy/Teroldego\", \"Portugal/Portuguese White\", \"US/Merlot\", \"Austria\", \"US/Mission\", \"Italy/Merlot\", \"France/Marsanne\", \"South Africa/Muscat\", \"Austria/Pinot Noir\", \"France/Bordeaux-style Red Blend\", \"Italy/Pinot Bianco\", \"Argentina\", \"Spain/Tinta del Pais\", \"France/Red Blend\", \"England/Sparkling Blend\", \"US/Malbec\", \"Italy/Cabernet Sauvignon\", \"South Africa/Bordeaux-style Red Blend\", \"Hungary\", \"France\", \"England\", \"US/S\\u00e9millon\", \"Chile\", \"Italy/Verdicchio\", \"Spain/Tempranillo\", \"Austria/Traminer\", \"US/Bordeaux-style White Blend\", \"US/Viognier\", \"Portugal/Touriga Nacional\", \"Australia/Tokay\", \"Austria/White Blend\", \"Spain/Tinto del Pais\", \"Australia\", \"Spain/Tinto Fino\", \"US/White Blend\", \"Spain/Tinta de Toro\", \"Portugal/Terrantez\", \"US/White Riesling\", \"Italy/Zibibbo\", \"US/Zinfandel\", \"Italy/White Blend\", \"Argentina/Cabernet Sauvignon-Malbec\", \"Australia/Grenache\", \"Australia/Cabernet Sauvignon-Shiraz\", \"Italy/Picolit\", \"US/Petite Sirah\", \"France/Petit Manseng\", \"Spain/Pedro Xim\\u00e9nez\", \"Italy/Nerello Mascalese\", \"US/Nebbiolo\", \"Italy/Nebbiolo\", \"US/Muscat Canelli\", \"US/Muscat\", \"France/Muscat\", \"Italy/Garganega\", \"US/Mourv\\u00e8dre\", \"France/Gew\\u00fcrztraminer\", \"Italy/Montepulciano\", \"US/Monastrell\", \"Spain/Monastrell\", \"France/Malbec\", \"Argentina/Malbec\", \"Italy/Kerner\", \"France/Pinot Gris\", \"US/Cabernet Sauvignon-Merlot\", \"France/Pinot Noir\", \"Australia/Port\", \"Spain/Carignan\", \"Australia/Shiraz\", \"US/Semillon-Sauvignon Blanc\", \"England/Chardonnay\", \"Italy/Sagrantino\", \"US/Ros\\u00e9\", \"US/Riesling\", \"Germany/Riesling\", \"France/Riesling\", \"Austria/Riesling\", \"France/Rh\\u00f4ne-style White Blend\", \"US/Rh\\u00f4ne-style Red Blend\", \"Australia/Rh\\u00f4ne-style Red Blend\", \"US/Red Blend\", \"Spain/Red Blend\", \"Italy/Red Blend\", \"Argentina/Red Blend\", \"Portugal/Portuguese Red\", \"US/Port\", \"US/Pinot Noir\", \"US/Chardonnay\"], \"labels\": [\"Verdelho\", \"Cabernet Sauvignon-Merlot\", \"Cabernet Franc\", \"Bual\", \"Aglianico\", \"Alsace white blend\", \"Blaufr\\u00e4nkisch\", \"Bordeaux-style Red Blend\", \"Muscadel\", \"Scheurebe\", \"Scheurebe\", \"Sauvignon Blanc\", \"Sauvignon Blanc\", \"Sauvignon\", \"Sangiovese\", \"Rh\\u00f4ne-style Red Blend\", \"Rh\\u00f4ne-style Red Blend\", \"Semillon-Sauvignon Blanc\", \"Red Blend\", \"Spain\", \"Port\", \"Muscat\", \"Muscadelle\", \"Moscato\", \"Shiraz\", \"St. Laurent\", \"Shiraz-Viognier\", \"South Africa\", \"Portugal\", \"New Zealand\", \"Italy\", \"Germany\", \"Welschriesling\", \"Viognier\", \"Shiraz-Cabernet Sauvignon\", \"Tempranillo Blend\", \"Syrah-Grenache\", \"Syrah\", \"Syrah\", \"Syrah\", \"Syrah\", \"Gr\\u00fcner Veltliner\", \"Sparkling Blend\", \"Tempranillo\", \"Grenache Blend\", \"US\", \"Furmint\", \"Cabernet Sauvignon\", \"Fum\\u00e9 Blanc\", \"Corvina, Rondinella, Molinara\", \"Cabernet Franc\", \"Chenin Blanc\", \"G-S-M\", \"Chardonnay\", \"Garnacha\", \"Gelber Traminer\", \"Bordeaux-style Red Blend\", \"Grenache\", \"Cabernet\", \"Gew\\u00fcrztraminer\", \"Cabernet-Shiraz\", \"Cabernet Sauvignon-Syrah\", \"Champagne Blend\", \"Austrian white blend\", \"Bordeaux-style White Blend\", \"Cabernet Blend\", \"White Blend\", \"Bordeaux-style Red Blend\", \"Provence red blend\", \"Prugnolo Gentile\", \"Red Blend\", \"Tokaji\", \"Cabernet Sauvignon\", \"Sp\\u00e4tburgunder\", \"Tannat\", \"Sangiovese Grosso\", \"Silvaner\", \"Carricante\", \"Syrah\", \"Chardonnay\", \"Champagne Blend\", \"Friulano\", \"Teroldego\", \"Portuguese White\", \"Merlot\", \"Austria\", \"Mission\", \"Merlot\", \"Marsanne\", \"Muscat\", \"Pinot Noir\", \"Bordeaux-style Red Blend\", \"Pinot Bianco\", \"Argentina\", \"Tinta del Pais\", \"Red Blend\", \"Sparkling Blend\", \"Malbec\", \"Cabernet Sauvignon\", \"Bordeaux-style Red Blend\", \"Hungary\", \"France\", \"England\", \"S\\u00e9millon\", \"Chile\", \"Verdicchio\", \"Tempranillo\", \"Traminer\", \"Bordeaux-style White Blend\", \"Viognier\", \"Touriga Nacional\", \"Tokay\", \"White Blend\", \"Tinto del Pais\", \"Australia\", \"Tinto Fino\", \"White Blend\", \"Tinta de Toro\", \"Terrantez\", \"White Riesling\", \"Zibibbo\", \"Zinfandel\", \"White Blend\", \"Cabernet Sauvignon-Malbec\", \"Grenache\", \"Cabernet Sauvignon-Shiraz\", \"Picolit\", \"Petite Sirah\", \"Petit Manseng\", \"Pedro Xim\\u00e9nez\", \"Nerello Mascalese\", \"Nebbiolo\", \"Nebbiolo\", \"Muscat Canelli\", \"Muscat\", \"Muscat\", \"Garganega\", \"Mourv\\u00e8dre\", \"Gew\\u00fcrztraminer\", \"Montepulciano\", \"Monastrell\", \"Monastrell\", \"Malbec\", \"Malbec\", \"Kerner\", \"Pinot Gris\", \"Cabernet Sauvignon-Merlot\", \"Pinot Noir\", \"Port\", \"Carignan\", \"Shiraz\", \"Semillon-Sauvignon Blanc\", \"Chardonnay\", \"Sagrantino\", \"Ros\\u00e9\", \"Riesling\", \"Riesling\", \"Riesling\", \"Riesling\", \"Rh\\u00f4ne-style White Blend\", \"Rh\\u00f4ne-style Red Blend\", \"Rh\\u00f4ne-style Red Blend\", \"Red Blend\", \"Red Blend\", \"Red Blend\", \"Red Blend\", \"Portuguese Red\", \"Port\", \"Pinot Noir\", \"Chardonnay\"], \"marker\": {\"colors\": [\"#636efa\", \"#EF553B\", \"#00cc96\", \"#636efa\", \"#EF553B\", \"#ab63fa\", \"#FFA15A\", \"#19d3f3\", \"#FF6692\", \"#00cc96\", \"#FFA15A\", \"#00cc96\", \"#ab63fa\", \"#EF553B\", \"#EF553B\", \"#B6E880\", \"#ab63fa\", \"#ab63fa\", \"#FF6692\", \"#FF97FF\", \"#636efa\", \"#FF6692\", \"#FF6692\", \"#00cc96\", \"#00cc96\", \"#FFA15A\", \"#FF6692\", \"#B6E880\", \"#636efa\", \"#FECB52\", \"#EF553B\", \"#636efa\", \"#FFA15A\", \"#ab63fa\", \"#FF6692\", \"#FF97FF\", \"#00cc96\", \"#FECB52\", \"#EF553B\", \"#ab63fa\", \"#FF6692\", \"#FFA15A\", \"#00cc96\", \"#00cc96\", \"#00cc96\", \"#00cc96\", \"#EF553B\", \"#00cc96\", \"#00cc96\", \"#EF553B\", \"#EF553B\", \"#ab63fa\", \"#00cc96\", \"#ab63fa\", \"#FF97FF\", \"#FFA15A\", \"#00cc96\", \"#00cc96\", \"#00cc96\", \"#00cc96\", \"#FF6692\", \"#00cc96\", \"#ab63fa\", \"#FFA15A\", \"#ab63fa\", \"#00cc96\", \"#EF553B\", \"#FECB52\", \"#ab63fa\", \"#EF553B\", \"#00cc96\", \"#EF553B\", \"#FF6692\", \"#636efa\", \"#ab63fa\", \"#EF553B\", \"#636efa\", \"#EF553B\", \"#00cc96\", \"#FFA15A\", \"#00cc96\", \"#EF553B\", \"#EF553B\", \"#636efa\", \"#00cc96\", \"#FFA15A\", \"#00cc96\", \"#EF553B\", \"#ab63fa\", \"#B6E880\", \"#FFA15A\", \"#ab63fa\", \"#EF553B\", \"#19d3f3\", \"#FF97FF\", \"#ab63fa\", \"#ab63fa\", \"#00cc96\", \"#EF553B\", \"#B6E880\", \"#EF553B\", \"#ab63fa\", \"#ab63fa\", \"#00cc96\", \"#00cc96\", \"#EF553B\", \"#FF97FF\", \"#FFA15A\", \"#00cc96\", \"#00cc96\", \"#636efa\", \"#FF6692\", \"#FFA15A\", \"#FF97FF\", \"#FF6692\", \"#FF97FF\", \"#00cc96\", \"#FF97FF\", \"#636efa\", \"#00cc96\", \"#EF553B\", \"#00cc96\", \"#EF553B\", \"#19d3f3\", \"#FF6692\", \"#FF6692\", \"#EF553B\", \"#00cc96\", \"#ab63fa\", \"#FF97FF\", \"#EF553B\", \"#00cc96\", \"#EF553B\", \"#00cc96\", \"#00cc96\", \"#ab63fa\", \"#EF553B\", \"#00cc96\", \"#ab63fa\", \"#EF553B\", \"#00cc96\", \"#FF97FF\", \"#ab63fa\", \"#19d3f3\", \"#EF553B\", \"#ab63fa\", \"#00cc96\", \"#ab63fa\", \"#FF6692\", \"#FF97FF\", \"#FF6692\", \"#00cc96\", \"#ab63fa\", \"#EF553B\", \"#00cc96\", \"#00cc96\", \"#636efa\", \"#ab63fa\", \"#FFA15A\", \"#ab63fa\", \"#00cc96\", \"#FF6692\", \"#00cc96\", \"#FF97FF\", \"#EF553B\", \"#19d3f3\", \"#636efa\", \"#00cc96\", \"#00cc96\", \"#00cc96\"]}, \"name\": \"\", \"parents\": [\"Portugal\", \"Italy\", \"US\", \"Portugal\", \"Italy\", \"France\", \"Austria\", \"Argentina\", \"Australia\", \"US\", \"Austria\", \"US\", \"France\", \"Italy\", \"Italy\", \"South Africa\", \"France\", \"France\", \"Australia\", \"\", \"Portugal\", \"Australia\", \"Australia\", \"US\", \"US\", \"Austria\", \"Australia\", \"\", \"\", \"\", \"\", \"\", \"Austria\", \"France\", \"Australia\", \"Spain\", \"US\", \"New Zealand\", \"Italy\", \"France\", \"Australia\", \"Austria\", \"US\", \"US\", \"US\", \"\", \"Hungary\", \"US\", \"US\", \"Italy\", \"Italy\", \"France\", \"US\", \"France\", \"Spain\", \"Austria\", \"US\", \"US\", \"US\", \"US\", \"Australia\", \"US\", \"France\", \"Austria\", \"France\", \"US\", \"Hungary\", \"New Zealand\", \"France\", \"Italy\", \"Chile\", \"Hungary\", \"Australia\", \"Germany\", \"France\", \"Italy\", \"Germany\", \"Italy\", \"US\", \"Austria\", \"US\", \"Italy\", \"Italy\", \"Portugal\", \"US\", \"\", \"US\", \"Italy\", \"France\", \"South Africa\", \"Austria\", \"France\", \"Italy\", \"\", \"Spain\", \"France\", \"England\", \"US\", \"Italy\", \"South Africa\", \"\", \"\", \"\", \"US\", \"\", \"Italy\", \"Spain\", \"Austria\", \"US\", \"US\", \"Portugal\", \"Australia\", \"Austria\", \"Spain\", \"\", \"Spain\", \"US\", \"Spain\", \"Portugal\", \"US\", \"Italy\", \"US\", \"Italy\", \"Argentina\", \"Australia\", \"Australia\", \"Italy\", \"US\", \"France\", \"Spain\", \"Italy\", \"US\", \"Italy\", \"US\", \"US\", \"France\", \"Italy\", \"US\", \"France\", \"Italy\", \"US\", \"Spain\", \"France\", \"Argentina\", \"Italy\", \"France\", \"US\", \"France\", \"Australia\", \"Spain\", \"Australia\", \"US\", \"England\", \"Italy\", \"US\", \"US\", \"Germany\", \"France\", \"Austria\", \"France\", \"US\", \"Australia\", \"US\", \"Spain\", \"Italy\", \"Argentina\", \"Portugal\", \"US\", \"US\", \"US\"], \"type\": \"sunburst\", \"values\": [96, 95, 380, 288, 477, 1047, 380, 287, 291, 285, 676, 761, 476, 95, 10521, 190, 1052, 95, 190, 13191, 8330, 1360, 197, 475, 190, 95, 673, 475, 15107, 190, 71552, 10897, 388, 95, 95, 1623, 95, 95, 678, 2408, 859, 3046, 4497, 190, 190, 222483, 96, 64578, 665, 1809, 2309, 2101, 380, 24573, 95, 95, 15611, 1145, 95, 380, 192, 1339, 14452, 286, 16039, 2603, 288, 95, 190, 696, 285, 383, 572, 380, 857, 6205, 96, 190, 16328, 578, 290, 95, 285, 95, 3623, 16978, 192, 5810, 1431, 190, 382, 50710, 95, 2962, 96, 763, 190, 190, 285, 95, 767, 148730, 285, 951, 285, 95, 4488, 288, 190, 666, 190, 872, 765, 574, 12390, 1352, 856, 2570, 95, 191, 855, 3807, 1534, 95, 285, 96, 671, 285, 380, 191, 667, 95, 22658, 95, 288, 382, 95, 190, 2378, 380, 95, 194, 1712, 2390, 95, 2003, 287, 18622, 285, 383, 6328, 766, 95, 856, 191, 1902, 10421, 6869, 9999, 95, 761, 95, 6505, 1625, 14001, 190, 6013, 95, 62794, 26991]}],                        {\"height\": 600, \"legend\": {\"tracegroupgap\": 0}, \"template\": {\"data\": {\"bar\": [{\"error_x\": {\"color\": \"#2a3f5f\"}, \"error_y\": {\"color\": \"#2a3f5f\"}, \"marker\": {\"line\": {\"color\": \"#E5ECF6\", \"width\": 0.5}}, \"type\": \"bar\"}], \"barpolar\": [{\"marker\": {\"line\": {\"color\": \"#E5ECF6\", \"width\": 0.5}}, \"type\": \"barpolar\"}], \"carpet\": [{\"aaxis\": {\"endlinecolor\": \"#2a3f5f\", \"gridcolor\": \"white\", \"linecolor\": \"white\", \"minorgridcolor\": \"white\", \"startlinecolor\": \"#2a3f5f\"}, \"baxis\": {\"endlinecolor\": \"#2a3f5f\", \"gridcolor\": \"white\", \"linecolor\": \"white\", \"minorgridcolor\": \"white\", \"startlinecolor\": \"#2a3f5f\"}, \"type\": \"carpet\"}], \"choropleth\": [{\"colorbar\": {\"outlinewidth\": 0, \"ticks\": \"\"}, \"type\": \"choropleth\"}], \"contour\": [{\"colorbar\": {\"outlinewidth\": 0, \"ticks\": \"\"}, \"colorscale\": [[0.0, \"#0d0887\"], [0.1111111111111111, \"#46039f\"], [0.2222222222222222, \"#7201a8\"], [0.3333333333333333, \"#9c179e\"], [0.4444444444444444, \"#bd3786\"], [0.5555555555555556, \"#d8576b\"], [0.6666666666666666, \"#ed7953\"], [0.7777777777777778, \"#fb9f3a\"], [0.8888888888888888, \"#fdca26\"], [1.0, \"#f0f921\"]], \"type\": \"contour\"}], \"contourcarpet\": [{\"colorbar\": {\"outlinewidth\": 0, \"ticks\": \"\"}, \"type\": \"contourcarpet\"}], \"heatmap\": [{\"colorbar\": {\"outlinewidth\": 0, \"ticks\": \"\"}, \"colorscale\": [[0.0, \"#0d0887\"], [0.1111111111111111, \"#46039f\"], [0.2222222222222222, \"#7201a8\"], [0.3333333333333333, \"#9c179e\"], [0.4444444444444444, \"#bd3786\"], [0.5555555555555556, \"#d8576b\"], [0.6666666666666666, \"#ed7953\"], [0.7777777777777778, \"#fb9f3a\"], [0.8888888888888888, \"#fdca26\"], [1.0, \"#f0f921\"]], \"type\": \"heatmap\"}], \"heatmapgl\": [{\"colorbar\": {\"outlinewidth\": 0, \"ticks\": \"\"}, \"colorscale\": [[0.0, \"#0d0887\"], [0.1111111111111111, \"#46039f\"], [0.2222222222222222, \"#7201a8\"], [0.3333333333333333, \"#9c179e\"], [0.4444444444444444, \"#bd3786\"], [0.5555555555555556, \"#d8576b\"], [0.6666666666666666, \"#ed7953\"], [0.7777777777777778, \"#fb9f3a\"], [0.8888888888888888, \"#fdca26\"], [1.0, \"#f0f921\"]], \"type\": \"heatmapgl\"}], \"histogram\": [{\"marker\": {\"colorbar\": {\"outlinewidth\": 0, \"ticks\": \"\"}}, \"type\": \"histogram\"}], \"histogram2d\": [{\"colorbar\": {\"outlinewidth\": 0, \"ticks\": \"\"}, \"colorscale\": [[0.0, \"#0d0887\"], [0.1111111111111111, \"#46039f\"], [0.2222222222222222, \"#7201a8\"], [0.3333333333333333, \"#9c179e\"], [0.4444444444444444, \"#bd3786\"], [0.5555555555555556, \"#d8576b\"], [0.6666666666666666, \"#ed7953\"], [0.7777777777777778, \"#fb9f3a\"], [0.8888888888888888, \"#fdca26\"], [1.0, \"#f0f921\"]], \"type\": \"histogram2d\"}], \"histogram2dcontour\": [{\"colorbar\": {\"outlinewidth\": 0, \"ticks\": \"\"}, \"colorscale\": [[0.0, \"#0d0887\"], [0.1111111111111111, \"#46039f\"], [0.2222222222222222, \"#7201a8\"], [0.3333333333333333, \"#9c179e\"], [0.4444444444444444, \"#bd3786\"], [0.5555555555555556, \"#d8576b\"], [0.6666666666666666, \"#ed7953\"], [0.7777777777777778, \"#fb9f3a\"], [0.8888888888888888, \"#fdca26\"], [1.0, \"#f0f921\"]], \"type\": \"histogram2dcontour\"}], \"mesh3d\": [{\"colorbar\": {\"outlinewidth\": 0, \"ticks\": \"\"}, \"type\": \"mesh3d\"}], \"parcoords\": [{\"line\": {\"colorbar\": {\"outlinewidth\": 0, \"ticks\": \"\"}}, \"type\": \"parcoords\"}], \"pie\": [{\"automargin\": true, \"type\": \"pie\"}], \"scatter\": [{\"marker\": {\"colorbar\": {\"outlinewidth\": 0, \"ticks\": \"\"}}, \"type\": \"scatter\"}], \"scatter3d\": [{\"line\": {\"colorbar\": {\"outlinewidth\": 0, \"ticks\": \"\"}}, \"marker\": {\"colorbar\": {\"outlinewidth\": 0, \"ticks\": \"\"}}, \"type\": \"scatter3d\"}], \"scattercarpet\": [{\"marker\": {\"colorbar\": {\"outlinewidth\": 0, \"ticks\": \"\"}}, \"type\": \"scattercarpet\"}], \"scattergeo\": [{\"marker\": {\"colorbar\": {\"outlinewidth\": 0, \"ticks\": \"\"}}, \"type\": \"scattergeo\"}], \"scattergl\": [{\"marker\": {\"colorbar\": {\"outlinewidth\": 0, \"ticks\": \"\"}}, \"type\": \"scattergl\"}], \"scattermapbox\": [{\"marker\": {\"colorbar\": {\"outlinewidth\": 0, \"ticks\": \"\"}}, \"type\": \"scattermapbox\"}], \"scatterpolar\": [{\"marker\": {\"colorbar\": {\"outlinewidth\": 0, \"ticks\": \"\"}}, \"type\": \"scatterpolar\"}], \"scatterpolargl\": [{\"marker\": {\"colorbar\": {\"outlinewidth\": 0, \"ticks\": \"\"}}, \"type\": \"scatterpolargl\"}], \"scatterternary\": [{\"marker\": {\"colorbar\": {\"outlinewidth\": 0, \"ticks\": \"\"}}, \"type\": \"scatterternary\"}], \"surface\": [{\"colorbar\": {\"outlinewidth\": 0, \"ticks\": \"\"}, \"colorscale\": [[0.0, \"#0d0887\"], [0.1111111111111111, \"#46039f\"], [0.2222222222222222, \"#7201a8\"], [0.3333333333333333, \"#9c179e\"], [0.4444444444444444, \"#bd3786\"], [0.5555555555555556, \"#d8576b\"], [0.6666666666666666, \"#ed7953\"], [0.7777777777777778, \"#fb9f3a\"], [0.8888888888888888, \"#fdca26\"], [1.0, \"#f0f921\"]], \"type\": \"surface\"}], \"table\": [{\"cells\": {\"fill\": {\"color\": \"#EBF0F8\"}, \"line\": {\"color\": \"white\"}}, \"header\": {\"fill\": {\"color\": \"#C8D4E3\"}, \"line\": {\"color\": \"white\"}}, \"type\": \"table\"}]}, \"layout\": {\"annotationdefaults\": {\"arrowcolor\": \"#2a3f5f\", \"arrowhead\": 0, \"arrowwidth\": 1}, \"autotypenumbers\": \"strict\", \"coloraxis\": {\"colorbar\": {\"outlinewidth\": 0, \"ticks\": \"\"}}, \"colorscale\": {\"diverging\": [[0, \"#8e0152\"], [0.1, \"#c51b7d\"], [0.2, \"#de77ae\"], [0.3, \"#f1b6da\"], [0.4, \"#fde0ef\"], [0.5, \"#f7f7f7\"], [0.6, \"#e6f5d0\"], [0.7, \"#b8e186\"], [0.8, \"#7fbc41\"], [0.9, \"#4d9221\"], [1, \"#276419\"]], \"sequential\": [[0.0, \"#0d0887\"], [0.1111111111111111, \"#46039f\"], [0.2222222222222222, \"#7201a8\"], [0.3333333333333333, \"#9c179e\"], [0.4444444444444444, \"#bd3786\"], [0.5555555555555556, \"#d8576b\"], [0.6666666666666666, \"#ed7953\"], [0.7777777777777778, \"#fb9f3a\"], [0.8888888888888888, \"#fdca26\"], [1.0, \"#f0f921\"]], \"sequentialminus\": [[0.0, \"#0d0887\"], [0.1111111111111111, \"#46039f\"], [0.2222222222222222, \"#7201a8\"], [0.3333333333333333, \"#9c179e\"], [0.4444444444444444, \"#bd3786\"], [0.5555555555555556, \"#d8576b\"], [0.6666666666666666, \"#ed7953\"], [0.7777777777777778, \"#fb9f3a\"], [0.8888888888888888, \"#fdca26\"], [1.0, \"#f0f921\"]]}, \"colorway\": [\"#636efa\", \"#EF553B\", \"#00cc96\", \"#ab63fa\", \"#FFA15A\", \"#19d3f3\", \"#FF6692\", \"#B6E880\", \"#FF97FF\", \"#FECB52\"], \"font\": {\"color\": \"#2a3f5f\"}, \"geo\": {\"bgcolor\": \"white\", \"lakecolor\": \"white\", \"landcolor\": \"#E5ECF6\", \"showlakes\": true, \"showland\": true, \"subunitcolor\": \"white\"}, \"hoverlabel\": {\"align\": \"left\"}, \"hovermode\": \"closest\", \"mapbox\": {\"style\": \"light\"}, \"paper_bgcolor\": \"white\", \"plot_bgcolor\": \"#E5ECF6\", \"polar\": {\"angularaxis\": {\"gridcolor\": \"white\", \"linecolor\": \"white\", \"ticks\": \"\"}, \"bgcolor\": \"#E5ECF6\", \"radialaxis\": {\"gridcolor\": \"white\", \"linecolor\": \"white\", \"ticks\": \"\"}}, \"scene\": {\"xaxis\": {\"backgroundcolor\": \"#E5ECF6\", \"gridcolor\": \"white\", \"gridwidth\": 2, \"linecolor\": \"white\", \"showbackground\": true, \"ticks\": \"\", \"zerolinecolor\": \"white\"}, \"yaxis\": {\"backgroundcolor\": \"#E5ECF6\", \"gridcolor\": \"white\", \"gridwidth\": 2, \"linecolor\": \"white\", \"showbackground\": true, \"ticks\": \"\", \"zerolinecolor\": \"white\"}, \"zaxis\": {\"backgroundcolor\": \"#E5ECF6\", \"gridcolor\": \"white\", \"gridwidth\": 2, \"linecolor\": \"white\", \"showbackground\": true, \"ticks\": \"\", \"zerolinecolor\": \"white\"}}, \"shapedefaults\": {\"line\": {\"color\": \"#2a3f5f\"}}, \"ternary\": {\"aaxis\": {\"gridcolor\": \"white\", \"linecolor\": \"white\", \"ticks\": \"\"}, \"baxis\": {\"gridcolor\": \"white\", \"linecolor\": \"white\", \"ticks\": \"\"}, \"bgcolor\": \"#E5ECF6\", \"caxis\": {\"gridcolor\": \"white\", \"linecolor\": \"white\", \"ticks\": \"\"}}, \"title\": {\"x\": 0.05}, \"xaxis\": {\"automargin\": true, \"gridcolor\": \"white\", \"linecolor\": \"white\", \"ticks\": \"\", \"title\": {\"standoff\": 15}, \"zerolinecolor\": \"white\", \"zerolinewidth\": 2}, \"yaxis\": {\"automargin\": true, \"gridcolor\": \"white\", \"linecolor\": \"white\", \"ticks\": \"\", \"title\": {\"standoff\": 15}, \"zerolinecolor\": \"white\", \"zerolinewidth\": 2}}}, \"title\": {\"text\": \"Sunburst plot of points>=95/100 across country and variety\"}, \"width\": 1200},                        {\"responsive\": true}                    ).then(function(){\n",
       "                            \n",
       "var gd = document.getElementById('ed177a52-bbec-4d9b-ad24-7ad308962490');\n",
=======
       "<div>                            <div id=\"b4781b8d-9878-42fd-a74f-3e2f2ce41216\" class=\"plotly-graph-div\" style=\"height:600px; width:1200px;\"></div>            <script type=\"text/javascript\">                require([\"plotly\"], function(Plotly) {                    window.PLOTLYENV=window.PLOTLYENV || {};                                    if (document.getElementById(\"b4781b8d-9878-42fd-a74f-3e2f2ce41216\")) {                    Plotly.newPlot(                        \"b4781b8d-9878-42fd-a74f-3e2f2ce41216\",                        [{\"branchvalues\": \"total\", \"customdata\": [[\"Portugal\"], [\"Italy\"], [\"US\"], [\"Portugal\"], [\"Italy\"], [\"France\"], [\"Austria\"], [\"Argentina\"], [\"Australia\"], [\"US\"], [\"Austria\"], [\"US\"], [\"France\"], [\"Italy\"], [\"Italy\"], [\"South Africa\"], [\"France\"], [\"France\"], [\"Australia\"], [\"Spain\"], [\"Portugal\"], [\"Australia\"], [\"Australia\"], [\"US\"], [\"US\"], [\"Austria\"], [\"Australia\"], [\"South Africa\"], [\"Portugal\"], [\"New Zealand\"], [\"Italy\"], [\"Germany\"], [\"Austria\"], [\"France\"], [\"Australia\"], [\"Spain\"], [\"US\"], [\"New Zealand\"], [\"Italy\"], [\"France\"], [\"Australia\"], [\"Austria\"], [\"US\"], [\"US\"], [\"US\"], [\"US\"], [\"Hungary\"], [\"US\"], [\"US\"], [\"Italy\"], [\"Italy\"], [\"France\"], [\"US\"], [\"France\"], [\"Spain\"], [\"Austria\"], [\"US\"], [\"US\"], [\"US\"], [\"US\"], [\"Australia\"], [\"US\"], [\"France\"], [\"Austria\"], [\"France\"], [\"US\"], [\"Hungary\"], [\"New Zealand\"], [\"France\"], [\"Italy\"], [\"Chile\"], [\"Hungary\"], [\"Australia\"], [\"Germany\"], [\"France\"], [\"Italy\"], [\"Germany\"], [\"Italy\"], [\"US\"], [\"Austria\"], [\"US\"], [\"Italy\"], [\"Italy\"], [\"Portugal\"], [\"US\"], [\"Austria\"], [\"US\"], [\"Italy\"], [\"France\"], [\"South Africa\"], [\"Austria\"], [\"France\"], [\"Italy\"], [\"Argentina\"], [\"Spain\"], [\"France\"], [\"England\"], [\"US\"], [\"Italy\"], [\"South Africa\"], [\"Hungary\"], [\"France\"], [\"England\"], [\"US\"], [\"Chile\"], [\"Italy\"], [\"Spain\"], [\"Austria\"], [\"US\"], [\"US\"], [\"Portugal\"], [\"Australia\"], [\"Austria\"], [\"Spain\"], [\"Australia\"], [\"Spain\"], [\"US\"], [\"Spain\"], [\"Portugal\"], [\"US\"], [\"Italy\"], [\"US\"], [\"Italy\"], [\"Argentina\"], [\"Australia\"], [\"Australia\"], [\"Italy\"], [\"US\"], [\"France\"], [\"Spain\"], [\"Italy\"], [\"US\"], [\"Italy\"], [\"US\"], [\"US\"], [\"France\"], [\"Italy\"], [\"US\"], [\"France\"], [\"Italy\"], [\"US\"], [\"Spain\"], [\"France\"], [\"Argentina\"], [\"Italy\"], [\"France\"], [\"US\"], [\"France\"], [\"Australia\"], [\"Spain\"], [\"Australia\"], [\"US\"], [\"England\"], [\"Italy\"], [\"US\"], [\"US\"], [\"Germany\"], [\"France\"], [\"Austria\"], [\"France\"], [\"US\"], [\"Australia\"], [\"US\"], [\"Spain\"], [\"Italy\"], [\"Argentina\"], [\"Portugal\"], [\"US\"], [\"US\"], [\"US\"]], \"domain\": {\"x\": [0.0, 1.0], \"y\": [0.0, 1.0]}, \"hovertemplate\": \"labels=%{label}<br>points=%{value}<br>parent=%{parent}<br>id=%{id}<br>country=%{customdata[0]}<extra></extra>\", \"ids\": [\"Portugal/Verdelho\", \"Italy/Cabernet Sauvignon-Merlot\", \"US/Cabernet Franc\", \"Portugal/Bual\", \"Italy/Aglianico\", \"France/Alsace white blend\", \"Austria/Blaufr\\u00e4nkisch\", \"Argentina/Bordeaux-style Red Blend\", \"Australia/Muscadel\", \"US/Scheurebe\", \"Austria/Scheurebe\", \"US/Sauvignon Blanc\", \"France/Sauvignon Blanc\", \"Italy/Sauvignon\", \"Italy/Sangiovese\", \"South Africa/Rh\\u00f4ne-style Red Blend\", \"France/Rh\\u00f4ne-style Red Blend\", \"France/Semillon-Sauvignon Blanc\", \"Australia/Red Blend\", \"Spain\", \"Portugal/Port\", \"Australia/Muscat\", \"Australia/Muscadelle\", \"US/Moscato\", \"US/Shiraz\", \"Austria/St. Laurent\", \"Australia/Shiraz-Viognier\", \"South Africa\", \"Portugal\", \"New Zealand\", \"Italy\", \"Germany\", \"Austria/Welschriesling\", \"France/Viognier\", \"Australia/Shiraz-Cabernet Sauvignon\", \"Spain/Tempranillo Blend\", \"US/Syrah-Grenache\", \"New Zealand/Syrah\", \"Italy/Syrah\", \"France/Syrah\", \"Australia/Syrah\", \"Austria/Gr\\u00fcner Veltliner\", \"US/Sparkling Blend\", \"US/Tempranillo\", \"US/Grenache Blend\", \"US\", \"Hungary/Furmint\", \"US/Cabernet Sauvignon\", \"US/Fum\\u00e9 Blanc\", \"Italy/Corvina, Rondinella, Molinara\", \"Italy/Cabernet Franc\", \"France/Chenin Blanc\", \"US/G-S-M\", \"France/Chardonnay\", \"Spain/Garnacha\", \"Austria/Gelber Traminer\", \"US/Bordeaux-style Red Blend\", \"US/Grenache\", \"US/Cabernet\", \"US/Gew\\u00fcrztraminer\", \"Australia/Cabernet-Shiraz\", \"US/Cabernet Sauvignon-Syrah\", \"France/Champagne Blend\", \"Austria/Austrian white blend\", \"France/Bordeaux-style White Blend\", \"US/Cabernet Blend\", \"Hungary/White Blend\", \"New Zealand/Bordeaux-style Red Blend\", \"France/Provence red blend\", \"Italy/Prugnolo Gentile\", \"Chile/Red Blend\", \"Hungary/Tokaji\", \"Australia/Cabernet Sauvignon\", \"Germany/Sp\\u00e4tburgunder\", \"France/Tannat\", \"Italy/Sangiovese Grosso\", \"Germany/Silvaner\", \"Italy/Carricante\", \"US/Syrah\", \"Austria/Chardonnay\", \"US/Champagne Blend\", \"Italy/Friulano\", \"Italy/Teroldego\", \"Portugal/Portuguese White\", \"US/Merlot\", \"Austria\", \"US/Mission\", \"Italy/Merlot\", \"France/Marsanne\", \"South Africa/Muscat\", \"Austria/Pinot Noir\", \"France/Bordeaux-style Red Blend\", \"Italy/Pinot Bianco\", \"Argentina\", \"Spain/Tinta del Pais\", \"France/Red Blend\", \"England/Sparkling Blend\", \"US/Malbec\", \"Italy/Cabernet Sauvignon\", \"South Africa/Bordeaux-style Red Blend\", \"Hungary\", \"France\", \"England\", \"US/S\\u00e9millon\", \"Chile\", \"Italy/Verdicchio\", \"Spain/Tempranillo\", \"Austria/Traminer\", \"US/Bordeaux-style White Blend\", \"US/Viognier\", \"Portugal/Touriga Nacional\", \"Australia/Tokay\", \"Austria/White Blend\", \"Spain/Tinto del Pais\", \"Australia\", \"Spain/Tinto Fino\", \"US/White Blend\", \"Spain/Tinta de Toro\", \"Portugal/Terrantez\", \"US/White Riesling\", \"Italy/Zibibbo\", \"US/Zinfandel\", \"Italy/White Blend\", \"Argentina/Cabernet Sauvignon-Malbec\", \"Australia/Grenache\", \"Australia/Cabernet Sauvignon-Shiraz\", \"Italy/Picolit\", \"US/Petite Sirah\", \"France/Petit Manseng\", \"Spain/Pedro Xim\\u00e9nez\", \"Italy/Nerello Mascalese\", \"US/Nebbiolo\", \"Italy/Nebbiolo\", \"US/Muscat Canelli\", \"US/Muscat\", \"France/Muscat\", \"Italy/Garganega\", \"US/Mourv\\u00e8dre\", \"France/Gew\\u00fcrztraminer\", \"Italy/Montepulciano\", \"US/Monastrell\", \"Spain/Monastrell\", \"France/Malbec\", \"Argentina/Malbec\", \"Italy/Kerner\", \"France/Pinot Gris\", \"US/Cabernet Sauvignon-Merlot\", \"France/Pinot Noir\", \"Australia/Port\", \"Spain/Carignan\", \"Australia/Shiraz\", \"US/Semillon-Sauvignon Blanc\", \"England/Chardonnay\", \"Italy/Sagrantino\", \"US/Ros\\u00e9\", \"US/Riesling\", \"Germany/Riesling\", \"France/Riesling\", \"Austria/Riesling\", \"France/Rh\\u00f4ne-style White Blend\", \"US/Rh\\u00f4ne-style Red Blend\", \"Australia/Rh\\u00f4ne-style Red Blend\", \"US/Red Blend\", \"Spain/Red Blend\", \"Italy/Red Blend\", \"Argentina/Red Blend\", \"Portugal/Portuguese Red\", \"US/Port\", \"US/Pinot Noir\", \"US/Chardonnay\"], \"labels\": [\"Verdelho\", \"Cabernet Sauvignon-Merlot\", \"Cabernet Franc\", \"Bual\", \"Aglianico\", \"Alsace white blend\", \"Blaufr\\u00e4nkisch\", \"Bordeaux-style Red Blend\", \"Muscadel\", \"Scheurebe\", \"Scheurebe\", \"Sauvignon Blanc\", \"Sauvignon Blanc\", \"Sauvignon\", \"Sangiovese\", \"Rh\\u00f4ne-style Red Blend\", \"Rh\\u00f4ne-style Red Blend\", \"Semillon-Sauvignon Blanc\", \"Red Blend\", \"Spain\", \"Port\", \"Muscat\", \"Muscadelle\", \"Moscato\", \"Shiraz\", \"St. Laurent\", \"Shiraz-Viognier\", \"South Africa\", \"Portugal\", \"New Zealand\", \"Italy\", \"Germany\", \"Welschriesling\", \"Viognier\", \"Shiraz-Cabernet Sauvignon\", \"Tempranillo Blend\", \"Syrah-Grenache\", \"Syrah\", \"Syrah\", \"Syrah\", \"Syrah\", \"Gr\\u00fcner Veltliner\", \"Sparkling Blend\", \"Tempranillo\", \"Grenache Blend\", \"US\", \"Furmint\", \"Cabernet Sauvignon\", \"Fum\\u00e9 Blanc\", \"Corvina, Rondinella, Molinara\", \"Cabernet Franc\", \"Chenin Blanc\", \"G-S-M\", \"Chardonnay\", \"Garnacha\", \"Gelber Traminer\", \"Bordeaux-style Red Blend\", \"Grenache\", \"Cabernet\", \"Gew\\u00fcrztraminer\", \"Cabernet-Shiraz\", \"Cabernet Sauvignon-Syrah\", \"Champagne Blend\", \"Austrian white blend\", \"Bordeaux-style White Blend\", \"Cabernet Blend\", \"White Blend\", \"Bordeaux-style Red Blend\", \"Provence red blend\", \"Prugnolo Gentile\", \"Red Blend\", \"Tokaji\", \"Cabernet Sauvignon\", \"Sp\\u00e4tburgunder\", \"Tannat\", \"Sangiovese Grosso\", \"Silvaner\", \"Carricante\", \"Syrah\", \"Chardonnay\", \"Champagne Blend\", \"Friulano\", \"Teroldego\", \"Portuguese White\", \"Merlot\", \"Austria\", \"Mission\", \"Merlot\", \"Marsanne\", \"Muscat\", \"Pinot Noir\", \"Bordeaux-style Red Blend\", \"Pinot Bianco\", \"Argentina\", \"Tinta del Pais\", \"Red Blend\", \"Sparkling Blend\", \"Malbec\", \"Cabernet Sauvignon\", \"Bordeaux-style Red Blend\", \"Hungary\", \"France\", \"England\", \"S\\u00e9millon\", \"Chile\", \"Verdicchio\", \"Tempranillo\", \"Traminer\", \"Bordeaux-style White Blend\", \"Viognier\", \"Touriga Nacional\", \"Tokay\", \"White Blend\", \"Tinto del Pais\", \"Australia\", \"Tinto Fino\", \"White Blend\", \"Tinta de Toro\", \"Terrantez\", \"White Riesling\", \"Zibibbo\", \"Zinfandel\", \"White Blend\", \"Cabernet Sauvignon-Malbec\", \"Grenache\", \"Cabernet Sauvignon-Shiraz\", \"Picolit\", \"Petite Sirah\", \"Petit Manseng\", \"Pedro Xim\\u00e9nez\", \"Nerello Mascalese\", \"Nebbiolo\", \"Nebbiolo\", \"Muscat Canelli\", \"Muscat\", \"Muscat\", \"Garganega\", \"Mourv\\u00e8dre\", \"Gew\\u00fcrztraminer\", \"Montepulciano\", \"Monastrell\", \"Monastrell\", \"Malbec\", \"Malbec\", \"Kerner\", \"Pinot Gris\", \"Cabernet Sauvignon-Merlot\", \"Pinot Noir\", \"Port\", \"Carignan\", \"Shiraz\", \"Semillon-Sauvignon Blanc\", \"Chardonnay\", \"Sagrantino\", \"Ros\\u00e9\", \"Riesling\", \"Riesling\", \"Riesling\", \"Riesling\", \"Rh\\u00f4ne-style White Blend\", \"Rh\\u00f4ne-style Red Blend\", \"Rh\\u00f4ne-style Red Blend\", \"Red Blend\", \"Red Blend\", \"Red Blend\", \"Red Blend\", \"Portuguese Red\", \"Port\", \"Pinot Noir\", \"Chardonnay\"], \"marker\": {\"colors\": [\"#636efa\", \"#EF553B\", \"#00cc96\", \"#636efa\", \"#EF553B\", \"#ab63fa\", \"#FFA15A\", \"#19d3f3\", \"#FF6692\", \"#00cc96\", \"#FFA15A\", \"#00cc96\", \"#ab63fa\", \"#EF553B\", \"#EF553B\", \"#B6E880\", \"#ab63fa\", \"#ab63fa\", \"#FF6692\", \"#FF97FF\", \"#636efa\", \"#FF6692\", \"#FF6692\", \"#00cc96\", \"#00cc96\", \"#FFA15A\", \"#FF6692\", \"#B6E880\", \"#636efa\", \"#FECB52\", \"#EF553B\", \"#636efa\", \"#FFA15A\", \"#ab63fa\", \"#FF6692\", \"#FF97FF\", \"#00cc96\", \"#FECB52\", \"#EF553B\", \"#ab63fa\", \"#FF6692\", \"#FFA15A\", \"#00cc96\", \"#00cc96\", \"#00cc96\", \"#00cc96\", \"#EF553B\", \"#00cc96\", \"#00cc96\", \"#EF553B\", \"#EF553B\", \"#ab63fa\", \"#00cc96\", \"#ab63fa\", \"#FF97FF\", \"#FFA15A\", \"#00cc96\", \"#00cc96\", \"#00cc96\", \"#00cc96\", \"#FF6692\", \"#00cc96\", \"#ab63fa\", \"#FFA15A\", \"#ab63fa\", \"#00cc96\", \"#EF553B\", \"#FECB52\", \"#ab63fa\", \"#EF553B\", \"#00cc96\", \"#EF553B\", \"#FF6692\", \"#636efa\", \"#ab63fa\", \"#EF553B\", \"#636efa\", \"#EF553B\", \"#00cc96\", \"#FFA15A\", \"#00cc96\", \"#EF553B\", \"#EF553B\", \"#636efa\", \"#00cc96\", \"#FFA15A\", \"#00cc96\", \"#EF553B\", \"#ab63fa\", \"#B6E880\", \"#FFA15A\", \"#ab63fa\", \"#EF553B\", \"#19d3f3\", \"#FF97FF\", \"#ab63fa\", \"#ab63fa\", \"#00cc96\", \"#EF553B\", \"#B6E880\", \"#EF553B\", \"#ab63fa\", \"#ab63fa\", \"#00cc96\", \"#00cc96\", \"#EF553B\", \"#FF97FF\", \"#FFA15A\", \"#00cc96\", \"#00cc96\", \"#636efa\", \"#FF6692\", \"#FFA15A\", \"#FF97FF\", \"#FF6692\", \"#FF97FF\", \"#00cc96\", \"#FF97FF\", \"#636efa\", \"#00cc96\", \"#EF553B\", \"#00cc96\", \"#EF553B\", \"#19d3f3\", \"#FF6692\", \"#FF6692\", \"#EF553B\", \"#00cc96\", \"#ab63fa\", \"#FF97FF\", \"#EF553B\", \"#00cc96\", \"#EF553B\", \"#00cc96\", \"#00cc96\", \"#ab63fa\", \"#EF553B\", \"#00cc96\", \"#ab63fa\", \"#EF553B\", \"#00cc96\", \"#FF97FF\", \"#ab63fa\", \"#19d3f3\", \"#EF553B\", \"#ab63fa\", \"#00cc96\", \"#ab63fa\", \"#FF6692\", \"#FF97FF\", \"#FF6692\", \"#00cc96\", \"#ab63fa\", \"#EF553B\", \"#00cc96\", \"#00cc96\", \"#636efa\", \"#ab63fa\", \"#FFA15A\", \"#ab63fa\", \"#00cc96\", \"#FF6692\", \"#00cc96\", \"#FF97FF\", \"#EF553B\", \"#19d3f3\", \"#636efa\", \"#00cc96\", \"#00cc96\", \"#00cc96\"]}, \"name\": \"\", \"parents\": [\"Portugal\", \"Italy\", \"US\", \"Portugal\", \"Italy\", \"France\", \"Austria\", \"Argentina\", \"Australia\", \"US\", \"Austria\", \"US\", \"France\", \"Italy\", \"Italy\", \"South Africa\", \"France\", \"France\", \"Australia\", \"\", \"Portugal\", \"Australia\", \"Australia\", \"US\", \"US\", \"Austria\", \"Australia\", \"\", \"\", \"\", \"\", \"\", \"Austria\", \"France\", \"Australia\", \"Spain\", \"US\", \"New Zealand\", \"Italy\", \"France\", \"Australia\", \"Austria\", \"US\", \"US\", \"US\", \"\", \"Hungary\", \"US\", \"US\", \"Italy\", \"Italy\", \"France\", \"US\", \"France\", \"Spain\", \"Austria\", \"US\", \"US\", \"US\", \"US\", \"Australia\", \"US\", \"France\", \"Austria\", \"France\", \"US\", \"Hungary\", \"New Zealand\", \"France\", \"Italy\", \"Chile\", \"Hungary\", \"Australia\", \"Germany\", \"France\", \"Italy\", \"Germany\", \"Italy\", \"US\", \"Austria\", \"US\", \"Italy\", \"Italy\", \"Portugal\", \"US\", \"\", \"US\", \"Italy\", \"France\", \"South Africa\", \"Austria\", \"France\", \"Italy\", \"\", \"Spain\", \"France\", \"England\", \"US\", \"Italy\", \"South Africa\", \"\", \"\", \"\", \"US\", \"\", \"Italy\", \"Spain\", \"Austria\", \"US\", \"US\", \"Portugal\", \"Australia\", \"Austria\", \"Spain\", \"\", \"Spain\", \"US\", \"Spain\", \"Portugal\", \"US\", \"Italy\", \"US\", \"Italy\", \"Argentina\", \"Australia\", \"Australia\", \"Italy\", \"US\", \"France\", \"Spain\", \"Italy\", \"US\", \"Italy\", \"US\", \"US\", \"France\", \"Italy\", \"US\", \"France\", \"Italy\", \"US\", \"Spain\", \"France\", \"Argentina\", \"Italy\", \"France\", \"US\", \"France\", \"Australia\", \"Spain\", \"Australia\", \"US\", \"England\", \"Italy\", \"US\", \"US\", \"Germany\", \"France\", \"Austria\", \"France\", \"US\", \"Australia\", \"US\", \"Spain\", \"Italy\", \"Argentina\", \"Portugal\", \"US\", \"US\", \"US\"], \"type\": \"sunburst\", \"values\": [96, 95, 380, 288, 477, 1047, 380, 287, 291, 285, 676, 761, 476, 95, 10521, 190, 1052, 95, 190, 13191, 8330, 1360, 197, 475, 190, 95, 673, 475, 15107, 190, 71552, 10897, 388, 95, 95, 1623, 95, 95, 678, 2408, 859, 3046, 4497, 190, 190, 222483, 96, 64578, 665, 1809, 2309, 2101, 380, 24573, 95, 95, 15611, 1145, 95, 380, 192, 1339, 14452, 286, 16039, 2603, 288, 95, 190, 696, 285, 383, 572, 380, 857, 6205, 96, 190, 16328, 578, 290, 95, 285, 95, 3623, 16978, 192, 5810, 1431, 190, 382, 50710, 95, 2962, 96, 763, 190, 190, 285, 95, 767, 148730, 285, 951, 285, 95, 4488, 288, 190, 666, 190, 872, 765, 574, 12390, 1352, 856, 2570, 95, 191, 855, 3807, 1534, 95, 285, 96, 671, 285, 380, 191, 667, 95, 22658, 95, 288, 382, 95, 190, 2378, 380, 95, 194, 1712, 2390, 95, 2003, 287, 18622, 285, 383, 6328, 766, 95, 856, 191, 1902, 10421, 6869, 9999, 95, 761, 95, 6505, 1625, 14001, 190, 6013, 95, 62794, 26991]}],                        {\"height\": 600, \"legend\": {\"tracegroupgap\": 0}, \"template\": {\"data\": {\"bar\": [{\"error_x\": {\"color\": \"#2a3f5f\"}, \"error_y\": {\"color\": \"#2a3f5f\"}, \"marker\": {\"line\": {\"color\": \"#E5ECF6\", \"width\": 0.5}}, \"type\": \"bar\"}], \"barpolar\": [{\"marker\": {\"line\": {\"color\": \"#E5ECF6\", \"width\": 0.5}}, \"type\": \"barpolar\"}], \"carpet\": [{\"aaxis\": {\"endlinecolor\": \"#2a3f5f\", \"gridcolor\": \"white\", \"linecolor\": \"white\", \"minorgridcolor\": \"white\", \"startlinecolor\": \"#2a3f5f\"}, \"baxis\": {\"endlinecolor\": \"#2a3f5f\", \"gridcolor\": \"white\", \"linecolor\": \"white\", \"minorgridcolor\": \"white\", \"startlinecolor\": \"#2a3f5f\"}, \"type\": \"carpet\"}], \"choropleth\": [{\"colorbar\": {\"outlinewidth\": 0, \"ticks\": \"\"}, \"type\": \"choropleth\"}], \"contour\": [{\"colorbar\": {\"outlinewidth\": 0, \"ticks\": \"\"}, \"colorscale\": [[0.0, \"#0d0887\"], [0.1111111111111111, \"#46039f\"], [0.2222222222222222, \"#7201a8\"], [0.3333333333333333, \"#9c179e\"], [0.4444444444444444, \"#bd3786\"], [0.5555555555555556, \"#d8576b\"], [0.6666666666666666, \"#ed7953\"], [0.7777777777777778, \"#fb9f3a\"], [0.8888888888888888, \"#fdca26\"], [1.0, \"#f0f921\"]], \"type\": \"contour\"}], \"contourcarpet\": [{\"colorbar\": {\"outlinewidth\": 0, \"ticks\": \"\"}, \"type\": \"contourcarpet\"}], \"heatmap\": [{\"colorbar\": {\"outlinewidth\": 0, \"ticks\": \"\"}, \"colorscale\": [[0.0, \"#0d0887\"], [0.1111111111111111, \"#46039f\"], [0.2222222222222222, \"#7201a8\"], [0.3333333333333333, \"#9c179e\"], [0.4444444444444444, \"#bd3786\"], [0.5555555555555556, \"#d8576b\"], [0.6666666666666666, \"#ed7953\"], [0.7777777777777778, \"#fb9f3a\"], [0.8888888888888888, \"#fdca26\"], [1.0, \"#f0f921\"]], \"type\": \"heatmap\"}], \"heatmapgl\": [{\"colorbar\": {\"outlinewidth\": 0, \"ticks\": \"\"}, \"colorscale\": [[0.0, \"#0d0887\"], [0.1111111111111111, \"#46039f\"], [0.2222222222222222, \"#7201a8\"], [0.3333333333333333, \"#9c179e\"], [0.4444444444444444, \"#bd3786\"], [0.5555555555555556, \"#d8576b\"], [0.6666666666666666, \"#ed7953\"], [0.7777777777777778, \"#fb9f3a\"], [0.8888888888888888, \"#fdca26\"], [1.0, \"#f0f921\"]], \"type\": \"heatmapgl\"}], \"histogram\": [{\"marker\": {\"colorbar\": {\"outlinewidth\": 0, \"ticks\": \"\"}}, \"type\": \"histogram\"}], \"histogram2d\": [{\"colorbar\": {\"outlinewidth\": 0, \"ticks\": \"\"}, \"colorscale\": [[0.0, \"#0d0887\"], [0.1111111111111111, \"#46039f\"], [0.2222222222222222, \"#7201a8\"], [0.3333333333333333, \"#9c179e\"], [0.4444444444444444, \"#bd3786\"], [0.5555555555555556, \"#d8576b\"], [0.6666666666666666, \"#ed7953\"], [0.7777777777777778, \"#fb9f3a\"], [0.8888888888888888, \"#fdca26\"], [1.0, \"#f0f921\"]], \"type\": \"histogram2d\"}], \"histogram2dcontour\": [{\"colorbar\": {\"outlinewidth\": 0, \"ticks\": \"\"}, \"colorscale\": [[0.0, \"#0d0887\"], [0.1111111111111111, \"#46039f\"], [0.2222222222222222, \"#7201a8\"], [0.3333333333333333, \"#9c179e\"], [0.4444444444444444, \"#bd3786\"], [0.5555555555555556, \"#d8576b\"], [0.6666666666666666, \"#ed7953\"], [0.7777777777777778, \"#fb9f3a\"], [0.8888888888888888, \"#fdca26\"], [1.0, \"#f0f921\"]], \"type\": \"histogram2dcontour\"}], \"mesh3d\": [{\"colorbar\": {\"outlinewidth\": 0, \"ticks\": \"\"}, \"type\": \"mesh3d\"}], \"parcoords\": [{\"line\": {\"colorbar\": {\"outlinewidth\": 0, \"ticks\": \"\"}}, \"type\": \"parcoords\"}], \"pie\": [{\"automargin\": true, \"type\": \"pie\"}], \"scatter\": [{\"marker\": {\"colorbar\": {\"outlinewidth\": 0, \"ticks\": \"\"}}, \"type\": \"scatter\"}], \"scatter3d\": [{\"line\": {\"colorbar\": {\"outlinewidth\": 0, \"ticks\": \"\"}}, \"marker\": {\"colorbar\": {\"outlinewidth\": 0, \"ticks\": \"\"}}, \"type\": \"scatter3d\"}], \"scattercarpet\": [{\"marker\": {\"colorbar\": {\"outlinewidth\": 0, \"ticks\": \"\"}}, \"type\": \"scattercarpet\"}], \"scattergeo\": [{\"marker\": {\"colorbar\": {\"outlinewidth\": 0, \"ticks\": \"\"}}, \"type\": \"scattergeo\"}], \"scattergl\": [{\"marker\": {\"colorbar\": {\"outlinewidth\": 0, \"ticks\": \"\"}}, \"type\": \"scattergl\"}], \"scattermapbox\": [{\"marker\": {\"colorbar\": {\"outlinewidth\": 0, \"ticks\": \"\"}}, \"type\": \"scattermapbox\"}], \"scatterpolar\": [{\"marker\": {\"colorbar\": {\"outlinewidth\": 0, \"ticks\": \"\"}}, \"type\": \"scatterpolar\"}], \"scatterpolargl\": [{\"marker\": {\"colorbar\": {\"outlinewidth\": 0, \"ticks\": \"\"}}, \"type\": \"scatterpolargl\"}], \"scatterternary\": [{\"marker\": {\"colorbar\": {\"outlinewidth\": 0, \"ticks\": \"\"}}, \"type\": \"scatterternary\"}], \"surface\": [{\"colorbar\": {\"outlinewidth\": 0, \"ticks\": \"\"}, \"colorscale\": [[0.0, \"#0d0887\"], [0.1111111111111111, \"#46039f\"], [0.2222222222222222, \"#7201a8\"], [0.3333333333333333, \"#9c179e\"], [0.4444444444444444, \"#bd3786\"], [0.5555555555555556, \"#d8576b\"], [0.6666666666666666, \"#ed7953\"], [0.7777777777777778, \"#fb9f3a\"], [0.8888888888888888, \"#fdca26\"], [1.0, \"#f0f921\"]], \"type\": \"surface\"}], \"table\": [{\"cells\": {\"fill\": {\"color\": \"#EBF0F8\"}, \"line\": {\"color\": \"white\"}}, \"header\": {\"fill\": {\"color\": \"#C8D4E3\"}, \"line\": {\"color\": \"white\"}}, \"type\": \"table\"}]}, \"layout\": {\"annotationdefaults\": {\"arrowcolor\": \"#2a3f5f\", \"arrowhead\": 0, \"arrowwidth\": 1}, \"autotypenumbers\": \"strict\", \"coloraxis\": {\"colorbar\": {\"outlinewidth\": 0, \"ticks\": \"\"}}, \"colorscale\": {\"diverging\": [[0, \"#8e0152\"], [0.1, \"#c51b7d\"], [0.2, \"#de77ae\"], [0.3, \"#f1b6da\"], [0.4, \"#fde0ef\"], [0.5, \"#f7f7f7\"], [0.6, \"#e6f5d0\"], [0.7, \"#b8e186\"], [0.8, \"#7fbc41\"], [0.9, \"#4d9221\"], [1, \"#276419\"]], \"sequential\": [[0.0, \"#0d0887\"], [0.1111111111111111, \"#46039f\"], [0.2222222222222222, \"#7201a8\"], [0.3333333333333333, \"#9c179e\"], [0.4444444444444444, \"#bd3786\"], [0.5555555555555556, \"#d8576b\"], [0.6666666666666666, \"#ed7953\"], [0.7777777777777778, \"#fb9f3a\"], [0.8888888888888888, \"#fdca26\"], [1.0, \"#f0f921\"]], \"sequentialminus\": [[0.0, \"#0d0887\"], [0.1111111111111111, \"#46039f\"], [0.2222222222222222, \"#7201a8\"], [0.3333333333333333, \"#9c179e\"], [0.4444444444444444, \"#bd3786\"], [0.5555555555555556, \"#d8576b\"], [0.6666666666666666, \"#ed7953\"], [0.7777777777777778, \"#fb9f3a\"], [0.8888888888888888, \"#fdca26\"], [1.0, \"#f0f921\"]]}, \"colorway\": [\"#636efa\", \"#EF553B\", \"#00cc96\", \"#ab63fa\", \"#FFA15A\", \"#19d3f3\", \"#FF6692\", \"#B6E880\", \"#FF97FF\", \"#FECB52\"], \"font\": {\"color\": \"#2a3f5f\"}, \"geo\": {\"bgcolor\": \"white\", \"lakecolor\": \"white\", \"landcolor\": \"#E5ECF6\", \"showlakes\": true, \"showland\": true, \"subunitcolor\": \"white\"}, \"hoverlabel\": {\"align\": \"left\"}, \"hovermode\": \"closest\", \"mapbox\": {\"style\": \"light\"}, \"paper_bgcolor\": \"white\", \"plot_bgcolor\": \"#E5ECF6\", \"polar\": {\"angularaxis\": {\"gridcolor\": \"white\", \"linecolor\": \"white\", \"ticks\": \"\"}, \"bgcolor\": \"#E5ECF6\", \"radialaxis\": {\"gridcolor\": \"white\", \"linecolor\": \"white\", \"ticks\": \"\"}}, \"scene\": {\"xaxis\": {\"backgroundcolor\": \"#E5ECF6\", \"gridcolor\": \"white\", \"gridwidth\": 2, \"linecolor\": \"white\", \"showbackground\": true, \"ticks\": \"\", \"zerolinecolor\": \"white\"}, \"yaxis\": {\"backgroundcolor\": \"#E5ECF6\", \"gridcolor\": \"white\", \"gridwidth\": 2, \"linecolor\": \"white\", \"showbackground\": true, \"ticks\": \"\", \"zerolinecolor\": \"white\"}, \"zaxis\": {\"backgroundcolor\": \"#E5ECF6\", \"gridcolor\": \"white\", \"gridwidth\": 2, \"linecolor\": \"white\", \"showbackground\": true, \"ticks\": \"\", \"zerolinecolor\": \"white\"}}, \"shapedefaults\": {\"line\": {\"color\": \"#2a3f5f\"}}, \"ternary\": {\"aaxis\": {\"gridcolor\": \"white\", \"linecolor\": \"white\", \"ticks\": \"\"}, \"baxis\": {\"gridcolor\": \"white\", \"linecolor\": \"white\", \"ticks\": \"\"}, \"bgcolor\": \"#E5ECF6\", \"caxis\": {\"gridcolor\": \"white\", \"linecolor\": \"white\", \"ticks\": \"\"}}, \"title\": {\"x\": 0.05}, \"xaxis\": {\"automargin\": true, \"gridcolor\": \"white\", \"linecolor\": \"white\", \"ticks\": \"\", \"title\": {\"standoff\": 15}, \"zerolinecolor\": \"white\", \"zerolinewidth\": 2}, \"yaxis\": {\"automargin\": true, \"gridcolor\": \"white\", \"linecolor\": \"white\", \"ticks\": \"\", \"title\": {\"standoff\": 15}, \"zerolinecolor\": \"white\", \"zerolinewidth\": 2}}}, \"title\": {\"text\": \"Sunburst plot of points>=95/100 across country and variety\"}, \"width\": 1200},                        {\"responsive\": true}                    ).then(function(){\n",
       "                            \n",
       "var gd = document.getElementById('b4781b8d-9878-42fd-a74f-3e2f2ce41216');\n",
>>>>>>> 15f43cfdf14dbbed8cc2fe1575904b4d64d66407:notebooks/AN_EDA_review.ipynb
       "var x = new MutationObserver(function (mutations, observer) {{\n",
       "        var display = window.getComputedStyle(gd).display;\n",
       "        if (!display || display === 'none') {{\n",
       "            console.log([gd, 'removed!']);\n",
       "            Plotly.purge(gd);\n",
       "            observer.disconnect();\n",
       "        }}\n",
       "}});\n",
       "\n",
       "// Listen for the removal of the full notebook cells\n",
       "var notebookContainer = gd.closest('#notebook-container');\n",
       "if (notebookContainer) {{\n",
       "    x.observe(notebookContainer, {childList: true});\n",
       "}}\n",
       "\n",
       "// Listen for the clearing of the current output cell\n",
       "var outputEl = gd.closest('.output');\n",
       "if (outputEl) {{\n",
       "    x.observe(outputEl, {childList: true});\n",
       "}}\n",
       "\n",
       "                        })                };                });            </script>        </div>"
      ]
     },
     "metadata": {},
     "output_type": "display_data"
    }
   ],
   "source": [
    "# Sunburst plot with plotly\n",
    "\n",
    "fig = px.sunburst(top_wine_df, path=['country', 'variety'], values='points', color='country',\n",
    "                 title=\"Sunburst plot of points>=95/100 across country and variety\", width=1200, height=600)\n",
    "fig.show()"
   ]
  },
  {
   "cell_type": "code",
   "execution_count": null,
   "id": "dominican-lover",
   "metadata": {},
   "outputs": [],
   "source": []
  }
 ],
 "metadata": {
  "kernelspec": {
   "display_name": "Python 3",
   "language": "python",
   "name": "python3"
  },
  "language_info": {
   "codemirror_mode": {
    "name": "ipython",
    "version": 3
   },
   "file_extension": ".py",
   "mimetype": "text/x-python",
   "name": "python",
   "nbconvert_exporter": "python",
   "pygments_lexer": "ipython3",
<<<<<<< HEAD:notebooks/AN_EDA.ipynb
   "version": "3.8.5"
=======
   "version": "3.8.7"
>>>>>>> 15f43cfdf14dbbed8cc2fe1575904b4d64d66407:notebooks/AN_EDA_review.ipynb
  }
 },
 "nbformat": 4,
 "nbformat_minor": 5
}
